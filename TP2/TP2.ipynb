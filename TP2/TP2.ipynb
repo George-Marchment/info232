{
 "cells": [
  {
   "cell_type": "markdown",
   "metadata": {},
   "source": [
    "<div>\n",
    "<img src=\"logo.png\", width=100, ALIGN=\"left\">\n",
    "<center>\n",
    "<h1>Mini Projets 2019-2020 (Info 232)</h1>\n",
    "Isabelle Guyon <br>\n",
    "info232@chalearn.org <br>\n",
    "</center>\n",
    "<span style=\"color:red\"> <h1> 2 . Pandas </h1> </span>\n",
    "    \n",
    "We have now a dataset of pictures of REAL apples and bananas, preprocessed in 4 different representations:\n",
    "- one with only 2 features (<b>R</b>edness and <b>E</b>longation) called <b>RE_data.csv</b>\n",
    "- one with only 21 features (<b>C</b>olor and <b>S</b>hape features) called <b>CS_data.csv</b>\n",
    "- one with 14580 features (all pixels of 81x69x3 <b>raw</b> images) called <b>RAW_data.csv</b>\n",
    "- one with 3072 features (all pixels of 32x32x3 <b>crop</b>ped images) called <b>CROP_data.csv</b>.\n",
    "\n",
    "We will compare the performances of various classifiers on those 4 datasets. Thus, we are going to start doing \"real\" POM: Probability, Optimization, and Modeling. We will proceed in a \"greedy\" way, eliminating some non promising avenues as we go, and not revisiting them for the moment:\n",
    "\n",
    "1. Which dataset version should we keep? Should we or not scale variables (using variable standardization)?\n",
    "2. Which learning machine of a standard toolkit (scikit-learn) is most promising?\n",
    "\n",
    "</div>\n",
    "<div style=\"background:#FFFFAA\">\n",
    "    \n",
    " This TP gives you 5 points if you answer well ALL 5 questions. If you cannot fisnish, get help by attending the Wednesday session.\n",
    "    \n",
    "<span style=\"color:red\"> <b>Save your notebook often with menu File + Save and Checkpoint.</b>\n",
    "<br> <b>Before you push your homework to your GitHub repo, use  Kernel + Restart and Run all.</b>\n",
    "</span>\n",
    "    </div>\n",
    "    "
   ]
  },
  {
   "cell_type": "code",
   "execution_count": 1,
   "metadata": {},
   "outputs": [],
   "source": [
    "# Load general libraries\n",
    "import os, re\n",
    "from glob import glob as ls\n",
    "from PIL import Image\n",
    "import matplotlib.pyplot as plt\n",
    "%matplotlib inline\n",
    "%load_ext autoreload\n",
    "%autoreload 2\n",
    "\n",
    "### Add path to the sample code so the notebook finds it:\n",
    "code_dir = 'code/'                        \n",
    "from sys import path; path.append(code_dir)\n",
    "from utilities import *\n",
    "# Import code that checks your answers\n",
    "from checker import check \n",
    "# Disable some warnings\n",
    "import warnings\n",
    "warnings.simplefilter(action='ignore', category=FutureWarning) "
   ]
  },
  {
   "cell_type": "markdown",
   "metadata": {},
   "source": [
    "# Step 1: Select data representation\n",
    "Which dataset version should we keep? Should we do or not a variable standardization?"
   ]
  },
  {
   "cell_type": "markdown",
   "metadata": {},
   "source": [
    "### Question 0: Examine the data directory\n",
    "Go to the directory `mini-dataset/`. You should find four data files ending with `.csv`. In an editor, open `RL_data.csv` or another of the data files to see how it looks like. The dataset is formatted in the CSV format (comma separated file). The examples are in lines and the features are separated by commas. The first line is the header. \n",
    "\n",
    "Examine all 4 datasets and note the number of lines and columns. Notice that they all have a different number of features but the same number of examples. \n",
    "\n",
    "It is somewhat easier to write a Python program to do this work for you. Check how the function `check_datasets` is written by typing `??check_datasets` in a new cell. Verify with an editor that this is the same code that is found in the directory `code/` in the file `utilities.py`. "
   ]
  },
  {
   "cell_type": "code",
   "execution_count": 2,
   "metadata": {},
   "outputs": [
    {
     "data": {
      "text/plain": [
       "['./mini-dataset/CROP_data.csv',\n",
       " './mini-dataset/RE_data.csv',\n",
       " './mini-dataset/RAW_data.csv',\n",
       " './mini-dataset/CS_data.csv']"
      ]
     },
     "execution_count": 2,
     "metadata": {},
     "output_type": "execute_result"
    }
   ],
   "source": [
    "# List the datasets\n",
    "data_dir = './mini-dataset/'\n",
    "data_list = ls(data_dir + '*_data.csv')\n",
    "data_list"
   ]
  },
  {
   "cell_type": "code",
   "execution_count": 3,
   "metadata": {},
   "outputs": [
    {
     "data": {
      "text/html": [
       "<div>\n",
       "<style scoped>\n",
       "    .dataframe tbody tr th:only-of-type {\n",
       "        vertical-align: middle;\n",
       "    }\n",
       "\n",
       "    .dataframe tbody tr th {\n",
       "        vertical-align: top;\n",
       "    }\n",
       "\n",
       "    .dataframe thead th {\n",
       "        text-align: right;\n",
       "    }\n",
       "</style>\n",
       "<table border=\"1\" class=\"dataframe\">\n",
       "  <thead>\n",
       "    <tr style=\"text-align: right;\">\n",
       "      <th></th>\n",
       "      <th>Dataset</th>\n",
       "      <th>num. examples</th>\n",
       "      <th>num. features</th>\n",
       "      <th>num. apples</th>\n",
       "      <th>num. bananas</th>\n",
       "    </tr>\n",
       "  </thead>\n",
       "  <tbody>\n",
       "    <tr>\n",
       "      <th>0</th>\n",
       "      <td>CROP</td>\n",
       "      <td>491</td>\n",
       "      <td>3073</td>\n",
       "      <td>333</td>\n",
       "      <td>158</td>\n",
       "    </tr>\n",
       "    <tr>\n",
       "      <th>1</th>\n",
       "      <td>RE</td>\n",
       "      <td>491</td>\n",
       "      <td>3</td>\n",
       "      <td>333</td>\n",
       "      <td>158</td>\n",
       "    </tr>\n",
       "    <tr>\n",
       "      <th>2</th>\n",
       "      <td>RAW</td>\n",
       "      <td>491</td>\n",
       "      <td>14581</td>\n",
       "      <td>333</td>\n",
       "      <td>158</td>\n",
       "    </tr>\n",
       "    <tr>\n",
       "      <th>3</th>\n",
       "      <td>CS</td>\n",
       "      <td>491</td>\n",
       "      <td>22</td>\n",
       "      <td>333</td>\n",
       "      <td>158</td>\n",
       "    </tr>\n",
       "  </tbody>\n",
       "</table>\n",
       "</div>"
      ],
      "text/plain": [
       "  Dataset  num. examples  num. features  num. apples  num. bananas\n",
       "0    CROP            491           3073          333           158\n",
       "1      RE            491              3          333           158\n",
       "2     RAW            491          14581          333           158\n",
       "3      CS            491             22          333           158"
      ]
     },
     "execution_count": 3,
     "metadata": {},
     "output_type": "execute_result"
    }
   ],
   "source": [
    "# Check the dataset sizes\n",
    "check_datasets(data_list)"
   ]
  },
  {
   "cell_type": "markdown",
   "metadata": {},
   "source": [
    "<div style=\"background:#FFFFAA\">\n",
    "    Here you need to do something!\n",
    "</div>\n",
    "<b>Show the code of check_datasets.</b>"
   ]
  },
  {
   "cell_type": "code",
   "execution_count": 4,
   "metadata": {},
   "outputs": [],
   "source": [
    "??check_datasets"
   ]
  },
  {
   "cell_type": "markdown",
   "metadata": {},
   "source": [
    "### Question 1: Load and visualize data with Pandas (review)\n",
    "In previous classes we have have started using `Numpy arrays`and `Pandas dataframes`. We now explore Pandas a little bit further. Pandas dataframes are also arrays, but a different kind of python object that Numpy arrays. They have more properties, supporting fancy database functions and having quite a few display functions and nice simple summary statistics, <a href=\"https://pandas.pydata.org/pandas-docs/stable/reference/api/pandas.DataFrame.html\">check the documentation</a>. Learning about Pandas will help a lot the <i>visualization binome</i>.\n",
    "\n",
    "First, you will perform these steps:\n",
    "* Call to UNIX command `!head ./mini-dataset/RE_data.csv` to view the first few lines of the file. The character `!` allows you to \"escape\" from the Jupyter notebook to the UNIX shell.\n",
    "* Load `RL_data.csv` as a pandas dataframe called `df`. Show the first few lines using the method `head`.\n",
    "* Compute simple statistics using the method `describe`.\n",
    "* Show the heat map. If you do not remember from the previous TP, think of using a search engine and type the keywords: \"pandas heatmap\". I found <a href=\"https://stackoverflow.com/questions/12286607/making-heatmap-from-pandas-dataframe\">this post</a>, for instance. \n",
    "* Create a new data frame called `df_scaled` obtained by standardizing the columns of `df`. In the previous TP we used the method `StandardScaler` of `sklearn.preprocessing`. Notice that you can also simply compute the mean of `df` with `df.mean()` and the standard deviation with `df.std()`, then in one line of code get `df_scaled` by performing algebraic operations on dataframes!\n",
    "* We actually doe NOT want to standardize the <b>last column</b> (the class label). Make sure the last column of  `df_scaled` has the ORIGINAL label values +1 or -1.\n",
    "\n",
    "Then, the question you should answer to complete this section is: what are the mean and standard deviation of the lines and the columns of the `redness` and `elongation` features before and after standardization?"
   ]
  },
  {
   "cell_type": "markdown",
   "metadata": {},
   "source": [
    "<div style=\"background:#FFFFAA\">\n",
    "    Here you need to do something!\n",
    "</div>\n",
    "<b>Put here your call to the UNIX command \"head\".</b>"
   ]
  },
  {
   "cell_type": "code",
   "execution_count": 5,
   "metadata": {},
   "outputs": [
    {
     "name": "stdout",
     "output_type": "stream",
     "text": [
      "redness,elongation,fruit\r\n",
      "8.429611650485437,1.4032012759326986,1.0\r\n",
      "42.89607843137255,1.7032009898154288,1.0\r\n",
      "56.354066985645936,1.5508105645577395,1.0\r\n",
      "-10.528846153846153,1.7773426521360935,1.0\r\n",
      "-17.131386861313867,2.047174441534352,1.0\r\n",
      "36.041666666666664,1.4139561143744013,1.0\r\n",
      "34.744932432432435,1.2379057682280559,1.0\r\n",
      "1.8179190751445087,1.0839275628229141,1.0\r\n",
      "3.34106529209622,1.0972000640347488,1.0\r\n"
     ]
    }
   ],
   "source": [
    "!head ./mini-dataset/RE_data.csv"
   ]
  },
  {
   "cell_type": "code",
   "execution_count": 6,
   "metadata": {},
   "outputs": [],
   "source": [
    "thing= pd.read_csv('./mini-dataset/RE_data.csv') "
   ]
  },
  {
   "cell_type": "markdown",
   "metadata": {},
   "source": [
    "<div style=\"background:#FFFFAA\">\n",
    "    Here you need to do something!\n",
    "</div>\n",
    "<b>Read file RE_data.csv as a dataframe and call it \"df\".</b>"
   ]
  },
  {
   "cell_type": "code",
   "execution_count": 7,
   "metadata": {},
   "outputs": [
    {
     "data": {
      "text/html": [
       "<div>\n",
       "<style scoped>\n",
       "    .dataframe tbody tr th:only-of-type {\n",
       "        vertical-align: middle;\n",
       "    }\n",
       "\n",
       "    .dataframe tbody tr th {\n",
       "        vertical-align: top;\n",
       "    }\n",
       "\n",
       "    .dataframe thead th {\n",
       "        text-align: right;\n",
       "    }\n",
       "</style>\n",
       "<table border=\"1\" class=\"dataframe\">\n",
       "  <thead>\n",
       "    <tr style=\"text-align: right;\">\n",
       "      <th></th>\n",
       "      <th>redness</th>\n",
       "      <th>elongation</th>\n",
       "      <th>fruit</th>\n",
       "    </tr>\n",
       "  </thead>\n",
       "  <tbody>\n",
       "    <tr>\n",
       "      <th>0</th>\n",
       "      <td>8.429612</td>\n",
       "      <td>1.403201</td>\n",
       "      <td>1.0</td>\n",
       "    </tr>\n",
       "    <tr>\n",
       "      <th>1</th>\n",
       "      <td>42.896078</td>\n",
       "      <td>1.703201</td>\n",
       "      <td>1.0</td>\n",
       "    </tr>\n",
       "    <tr>\n",
       "      <th>2</th>\n",
       "      <td>56.354067</td>\n",
       "      <td>1.550811</td>\n",
       "      <td>1.0</td>\n",
       "    </tr>\n",
       "    <tr>\n",
       "      <th>3</th>\n",
       "      <td>-10.528846</td>\n",
       "      <td>1.777343</td>\n",
       "      <td>1.0</td>\n",
       "    </tr>\n",
       "    <tr>\n",
       "      <th>4</th>\n",
       "      <td>-17.131387</td>\n",
       "      <td>2.047174</td>\n",
       "      <td>1.0</td>\n",
       "    </tr>\n",
       "  </tbody>\n",
       "</table>\n",
       "</div>"
      ],
      "text/plain": [
       "     redness  elongation  fruit\n",
       "0   8.429612    1.403201    1.0\n",
       "1  42.896078    1.703201    1.0\n",
       "2  56.354067    1.550811    1.0\n",
       "3 -10.528846    1.777343    1.0\n",
       "4 -17.131387    2.047174    1.0"
      ]
     },
     "execution_count": 7,
     "metadata": {},
     "output_type": "execute_result"
    }
   ],
   "source": [
    "df = pd.DataFrame(data= thing) # REPLACE THIS\n",
    "df.head()"
   ]
  },
  {
   "cell_type": "markdown",
   "metadata": {},
   "source": [
    "<div style=\"background:#FFFFAA\">\n",
    "    Here you need to do something!\n",
    "</div>\n",
    "<b>Show descriptive statistics with the method \"describe\".</b>"
   ]
  },
  {
   "cell_type": "code",
   "execution_count": 8,
   "metadata": {},
   "outputs": [
    {
     "data": {
      "text/html": [
       "<div>\n",
       "<style scoped>\n",
       "    .dataframe tbody tr th:only-of-type {\n",
       "        vertical-align: middle;\n",
       "    }\n",
       "\n",
       "    .dataframe tbody tr th {\n",
       "        vertical-align: top;\n",
       "    }\n",
       "\n",
       "    .dataframe thead th {\n",
       "        text-align: right;\n",
       "    }\n",
       "</style>\n",
       "<table border=\"1\" class=\"dataframe\">\n",
       "  <thead>\n",
       "    <tr style=\"text-align: right;\">\n",
       "      <th></th>\n",
       "      <th>redness</th>\n",
       "      <th>elongation</th>\n",
       "      <th>fruit</th>\n",
       "    </tr>\n",
       "  </thead>\n",
       "  <tbody>\n",
       "    <tr>\n",
       "      <th>count</th>\n",
       "      <td>491.000000</td>\n",
       "      <td>491.000000</td>\n",
       "      <td>491.000000</td>\n",
       "    </tr>\n",
       "    <tr>\n",
       "      <th>mean</th>\n",
       "      <td>17.863426</td>\n",
       "      <td>1.468878</td>\n",
       "      <td>0.356415</td>\n",
       "    </tr>\n",
       "    <tr>\n",
       "      <th>std</th>\n",
       "      <td>21.805386</td>\n",
       "      <td>0.521078</td>\n",
       "      <td>0.935280</td>\n",
       "    </tr>\n",
       "    <tr>\n",
       "      <th>min</th>\n",
       "      <td>-47.045455</td>\n",
       "      <td>1.000000</td>\n",
       "      <td>-1.000000</td>\n",
       "    </tr>\n",
       "    <tr>\n",
       "      <th>25%</th>\n",
       "      <td>3.895620</td>\n",
       "      <td>1.161664</td>\n",
       "      <td>-1.000000</td>\n",
       "    </tr>\n",
       "    <tr>\n",
       "      <th>50%</th>\n",
       "      <td>14.380952</td>\n",
       "      <td>1.300111</td>\n",
       "      <td>1.000000</td>\n",
       "    </tr>\n",
       "    <tr>\n",
       "      <th>75%</th>\n",
       "      <td>33.848108</td>\n",
       "      <td>1.598103</td>\n",
       "      <td>1.000000</td>\n",
       "    </tr>\n",
       "    <tr>\n",
       "      <th>max</th>\n",
       "      <td>100.364865</td>\n",
       "      <td>5.231697</td>\n",
       "      <td>1.000000</td>\n",
       "    </tr>\n",
       "  </tbody>\n",
       "</table>\n",
       "</div>"
      ],
      "text/plain": [
       "          redness  elongation       fruit\n",
       "count  491.000000  491.000000  491.000000\n",
       "mean    17.863426    1.468878    0.356415\n",
       "std     21.805386    0.521078    0.935280\n",
       "min    -47.045455    1.000000   -1.000000\n",
       "25%      3.895620    1.161664   -1.000000\n",
       "50%     14.380952    1.300111    1.000000\n",
       "75%     33.848108    1.598103    1.000000\n",
       "max    100.364865    5.231697    1.000000"
      ]
     },
     "execution_count": 8,
     "metadata": {},
     "output_type": "execute_result"
    }
   ],
   "source": [
    "thing.describe()"
   ]
  },
  {
   "cell_type": "code",
   "execution_count": 9,
   "metadata": {},
   "outputs": [
    {
     "data": {
      "text/html": [
       "<div>\n",
       "<style scoped>\n",
       "    .dataframe tbody tr th:only-of-type {\n",
       "        vertical-align: middle;\n",
       "    }\n",
       "\n",
       "    .dataframe tbody tr th {\n",
       "        vertical-align: top;\n",
       "    }\n",
       "\n",
       "    .dataframe thead th {\n",
       "        text-align: right;\n",
       "    }\n",
       "</style>\n",
       "<table border=\"1\" class=\"dataframe\">\n",
       "  <thead>\n",
       "    <tr style=\"text-align: right;\">\n",
       "      <th></th>\n",
       "      <th>redness</th>\n",
       "      <th>elongation</th>\n",
       "      <th>fruit</th>\n",
       "    </tr>\n",
       "  </thead>\n",
       "  <tbody>\n",
       "    <tr>\n",
       "      <th>count</th>\n",
       "      <td>491.000000</td>\n",
       "      <td>491.000000</td>\n",
       "      <td>491.000000</td>\n",
       "    </tr>\n",
       "    <tr>\n",
       "      <th>mean</th>\n",
       "      <td>17.863426</td>\n",
       "      <td>1.468878</td>\n",
       "      <td>0.356415</td>\n",
       "    </tr>\n",
       "    <tr>\n",
       "      <th>std</th>\n",
       "      <td>21.805386</td>\n",
       "      <td>0.521078</td>\n",
       "      <td>0.935280</td>\n",
       "    </tr>\n",
       "    <tr>\n",
       "      <th>min</th>\n",
       "      <td>-47.045455</td>\n",
       "      <td>1.000000</td>\n",
       "      <td>-1.000000</td>\n",
       "    </tr>\n",
       "    <tr>\n",
       "      <th>25%</th>\n",
       "      <td>3.895620</td>\n",
       "      <td>1.161664</td>\n",
       "      <td>-1.000000</td>\n",
       "    </tr>\n",
       "    <tr>\n",
       "      <th>50%</th>\n",
       "      <td>14.380952</td>\n",
       "      <td>1.300111</td>\n",
       "      <td>1.000000</td>\n",
       "    </tr>\n",
       "    <tr>\n",
       "      <th>75%</th>\n",
       "      <td>33.848108</td>\n",
       "      <td>1.598103</td>\n",
       "      <td>1.000000</td>\n",
       "    </tr>\n",
       "    <tr>\n",
       "      <th>max</th>\n",
       "      <td>100.364865</td>\n",
       "      <td>5.231697</td>\n",
       "      <td>1.000000</td>\n",
       "    </tr>\n",
       "  </tbody>\n",
       "</table>\n",
       "</div>"
      ],
      "text/plain": [
       "          redness  elongation       fruit\n",
       "count  491.000000  491.000000  491.000000\n",
       "mean    17.863426    1.468878    0.356415\n",
       "std     21.805386    0.521078    0.935280\n",
       "min    -47.045455    1.000000   -1.000000\n",
       "25%      3.895620    1.161664   -1.000000\n",
       "50%     14.380952    1.300111    1.000000\n",
       "75%     33.848108    1.598103    1.000000\n",
       "max    100.364865    5.231697    1.000000"
      ]
     },
     "execution_count": 9,
     "metadata": {},
     "output_type": "execute_result"
    }
   ],
   "source": [
    "df.describe()"
   ]
  },
  {
   "cell_type": "markdown",
   "metadata": {},
   "source": [
    "<div style=\"background:#FFFFAA\">\n",
    "    Here you need to do something!\n",
    "</div>\n",
    "<b>Show the heat map of \"df\".</b>"
   ]
  },
  {
   "cell_type": "code",
   "execution_count": 10,
   "metadata": {},
   "outputs": [
    {
     "data": {
      "text/plain": [
       "<matplotlib.axes._subplots.AxesSubplot at 0x7f09e0c13f60>"
      ]
     },
     "execution_count": 10,
     "metadata": {},
     "output_type": "execute_result"
    },
    {
     "data": {
      "image/png": "[encoded data removed]",
      "text/plain": [
       "<Figure size 432x288 with 2 Axes>"
      ]
     },
     "metadata": {},
     "output_type": "display_data"
    }
   ],
   "source": [
    "sns.heatmap(df)"
   ]
  },
  {
   "cell_type": "markdown",
   "metadata": {},
   "source": [
    "<div style=\"background:#FFFFAA\">\n",
    "    Here you need to do something!\n",
    "</div>\n",
    "<b>Standardize the columns of \"df\", EXCEPT THE LAST ONE.</b>"
   ]
  },
  {
   "cell_type": "code",
   "execution_count": 11,
   "metadata": {},
   "outputs": [
    {
     "data": {
      "text/plain": [
       "'    avg = series.mean()\\n    stdv = series.std()\\n    series_standardized = (series - avg)/ stdv\\n    \\n    '"
      ]
     },
     "execution_count": 11,
     "metadata": {},
     "output_type": "execute_result"
    }
   ],
   "source": [
    "\"\"\"    avg = series.mean()\n",
    "    stdv = series.std()\n",
    "    series_standardized = (series - avg)/ stdv\n",
    "    \n",
    "    \"\"\""
   ]
  },
  {
   "cell_type": "code",
   "execution_count": 12,
   "metadata": {},
   "outputs": [],
   "source": [
    "# Put your code here\n",
    "df_scaled = (df-df.mean())/df.std()"
   ]
  },
  {
   "cell_type": "code",
   "execution_count": 13,
   "metadata": {},
   "outputs": [
    {
     "data": {
      "text/plain": [
       "<matplotlib.axes._subplots.AxesSubplot at 0x7f09daf59978>"
      ]
     },
     "execution_count": 13,
     "metadata": {},
     "output_type": "execute_result"
    },
    {
     "data": {
      "image/png": "[encoded data removed]",
      "text/plain": [
       "<Figure size 432x288 with 2 Axes>"
      ]
     },
     "metadata": {},
     "output_type": "display_data"
    }
   ],
   "source": [
    "sns.heatmap(df_scaled)"
   ]
  },
  {
   "cell_type": "code",
   "execution_count": 14,
   "metadata": {},
   "outputs": [],
   "source": [
    " df_scaled['fruit']= df['fruit']"
   ]
  },
  {
   "cell_type": "code",
   "execution_count": 15,
   "metadata": {},
   "outputs": [
    {
     "data": {
      "text/html": [
       "<div>\n",
       "<style scoped>\n",
       "    .dataframe tbody tr th:only-of-type {\n",
       "        vertical-align: middle;\n",
       "    }\n",
       "\n",
       "    .dataframe tbody tr th {\n",
       "        vertical-align: top;\n",
       "    }\n",
       "\n",
       "    .dataframe thead th {\n",
       "        text-align: right;\n",
       "    }\n",
       "</style>\n",
       "<table border=\"1\" class=\"dataframe\">\n",
       "  <thead>\n",
       "    <tr style=\"text-align: right;\">\n",
       "      <th></th>\n",
       "      <th>redness</th>\n",
       "      <th>elongation</th>\n",
       "      <th>fruit</th>\n",
       "    </tr>\n",
       "  </thead>\n",
       "  <tbody>\n",
       "    <tr>\n",
       "      <th>0</th>\n",
       "      <td>-0.432637</td>\n",
       "      <td>-0.126039</td>\n",
       "      <td>1.0</td>\n",
       "    </tr>\n",
       "    <tr>\n",
       "      <th>1</th>\n",
       "      <td>1.148003</td>\n",
       "      <td>0.449690</td>\n",
       "      <td>1.0</td>\n",
       "    </tr>\n",
       "    <tr>\n",
       "      <th>2</th>\n",
       "      <td>1.765190</td>\n",
       "      <td>0.157238</td>\n",
       "      <td>1.0</td>\n",
       "    </tr>\n",
       "    <tr>\n",
       "      <th>3</th>\n",
       "      <td>-1.302076</td>\n",
       "      <td>0.591975</td>\n",
       "      <td>1.0</td>\n",
       "    </tr>\n",
       "    <tr>\n",
       "      <th>4</th>\n",
       "      <td>-1.604870</td>\n",
       "      <td>1.109809</td>\n",
       "      <td>1.0</td>\n",
       "    </tr>\n",
       "    <tr>\n",
       "      <th>5</th>\n",
       "      <td>0.833658</td>\n",
       "      <td>-0.105400</td>\n",
       "      <td>1.0</td>\n",
       "    </tr>\n",
       "    <tr>\n",
       "      <th>6</th>\n",
       "      <td>0.774190</td>\n",
       "      <td>-0.443258</td>\n",
       "      <td>1.0</td>\n",
       "    </tr>\n",
       "    <tr>\n",
       "      <th>7</th>\n",
       "      <td>-0.735851</td>\n",
       "      <td>-0.738757</td>\n",
       "      <td>1.0</td>\n",
       "    </tr>\n",
       "    <tr>\n",
       "      <th>8</th>\n",
       "      <td>-0.665999</td>\n",
       "      <td>-0.713286</td>\n",
       "      <td>1.0</td>\n",
       "    </tr>\n",
       "    <tr>\n",
       "      <th>9</th>\n",
       "      <td>-0.972019</td>\n",
       "      <td>-0.709790</td>\n",
       "      <td>1.0</td>\n",
       "    </tr>\n",
       "    <tr>\n",
       "      <th>10</th>\n",
       "      <td>0.061598</td>\n",
       "      <td>-0.529468</td>\n",
       "      <td>1.0</td>\n",
       "    </tr>\n",
       "    <tr>\n",
       "      <th>11</th>\n",
       "      <td>-0.975115</td>\n",
       "      <td>-0.682671</td>\n",
       "      <td>1.0</td>\n",
       "    </tr>\n",
       "    <tr>\n",
       "      <th>12</th>\n",
       "      <td>-0.547158</td>\n",
       "      <td>-0.439072</td>\n",
       "      <td>1.0</td>\n",
       "    </tr>\n",
       "    <tr>\n",
       "      <th>13</th>\n",
       "      <td>-1.586544</td>\n",
       "      <td>-0.419068</td>\n",
       "      <td>1.0</td>\n",
       "    </tr>\n",
       "    <tr>\n",
       "      <th>14</th>\n",
       "      <td>0.724129</td>\n",
       "      <td>-0.123337</td>\n",
       "      <td>1.0</td>\n",
       "    </tr>\n",
       "    <tr>\n",
       "      <th>15</th>\n",
       "      <td>-0.226785</td>\n",
       "      <td>0.308093</td>\n",
       "      <td>1.0</td>\n",
       "    </tr>\n",
       "    <tr>\n",
       "      <th>16</th>\n",
       "      <td>0.110263</td>\n",
       "      <td>0.196513</td>\n",
       "      <td>1.0</td>\n",
       "    </tr>\n",
       "    <tr>\n",
       "      <th>17</th>\n",
       "      <td>0.212725</td>\n",
       "      <td>-0.898249</td>\n",
       "      <td>1.0</td>\n",
       "    </tr>\n",
       "    <tr>\n",
       "      <th>18</th>\n",
       "      <td>-0.198518</td>\n",
       "      <td>-0.899822</td>\n",
       "      <td>1.0</td>\n",
       "    </tr>\n",
       "    <tr>\n",
       "      <th>19</th>\n",
       "      <td>3.104432</td>\n",
       "      <td>-0.516794</td>\n",
       "      <td>1.0</td>\n",
       "    </tr>\n",
       "    <tr>\n",
       "      <th>20</th>\n",
       "      <td>0.470369</td>\n",
       "      <td>-0.414204</td>\n",
       "      <td>1.0</td>\n",
       "    </tr>\n",
       "    <tr>\n",
       "      <th>21</th>\n",
       "      <td>0.537371</td>\n",
       "      <td>1.799749</td>\n",
       "      <td>1.0</td>\n",
       "    </tr>\n",
       "    <tr>\n",
       "      <th>22</th>\n",
       "      <td>1.572540</td>\n",
       "      <td>-0.587203</td>\n",
       "      <td>1.0</td>\n",
       "    </tr>\n",
       "    <tr>\n",
       "      <th>23</th>\n",
       "      <td>0.286074</td>\n",
       "      <td>0.640877</td>\n",
       "      <td>1.0</td>\n",
       "    </tr>\n",
       "    <tr>\n",
       "      <th>24</th>\n",
       "      <td>1.690551</td>\n",
       "      <td>-0.351418</td>\n",
       "      <td>1.0</td>\n",
       "    </tr>\n",
       "    <tr>\n",
       "      <th>25</th>\n",
       "      <td>-0.437979</td>\n",
       "      <td>-0.731632</td>\n",
       "      <td>1.0</td>\n",
       "    </tr>\n",
       "    <tr>\n",
       "      <th>26</th>\n",
       "      <td>0.799201</td>\n",
       "      <td>0.241299</td>\n",
       "      <td>1.0</td>\n",
       "    </tr>\n",
       "    <tr>\n",
       "      <th>27</th>\n",
       "      <td>0.785005</td>\n",
       "      <td>-0.146231</td>\n",
       "      <td>1.0</td>\n",
       "    </tr>\n",
       "    <tr>\n",
       "      <th>28</th>\n",
       "      <td>-0.167552</td>\n",
       "      <td>-0.899024</td>\n",
       "      <td>1.0</td>\n",
       "    </tr>\n",
       "    <tr>\n",
       "      <th>29</th>\n",
       "      <td>1.094139</td>\n",
       "      <td>-0.226350</td>\n",
       "      <td>1.0</td>\n",
       "    </tr>\n",
       "    <tr>\n",
       "      <th>...</th>\n",
       "      <td>...</td>\n",
       "      <td>...</td>\n",
       "      <td>...</td>\n",
       "    </tr>\n",
       "    <tr>\n",
       "      <th>461</th>\n",
       "      <td>-1.036628</td>\n",
       "      <td>1.879480</td>\n",
       "      <td>-1.0</td>\n",
       "    </tr>\n",
       "    <tr>\n",
       "      <th>462</th>\n",
       "      <td>-0.868702</td>\n",
       "      <td>0.663354</td>\n",
       "      <td>-1.0</td>\n",
       "    </tr>\n",
       "    <tr>\n",
       "      <th>463</th>\n",
       "      <td>-1.692536</td>\n",
       "      <td>-0.398388</td>\n",
       "      <td>-1.0</td>\n",
       "    </tr>\n",
       "    <tr>\n",
       "      <th>464</th>\n",
       "      <td>-2.854592</td>\n",
       "      <td>-0.686806</td>\n",
       "      <td>-1.0</td>\n",
       "    </tr>\n",
       "    <tr>\n",
       "      <th>465</th>\n",
       "      <td>0.194397</td>\n",
       "      <td>1.431675</td>\n",
       "      <td>-1.0</td>\n",
       "    </tr>\n",
       "    <tr>\n",
       "      <th>466</th>\n",
       "      <td>0.807677</td>\n",
       "      <td>0.540180</td>\n",
       "      <td>-1.0</td>\n",
       "    </tr>\n",
       "    <tr>\n",
       "      <th>467</th>\n",
       "      <td>1.130611</td>\n",
       "      <td>3.973103</td>\n",
       "      <td>-1.0</td>\n",
       "    </tr>\n",
       "    <tr>\n",
       "      <th>468</th>\n",
       "      <td>0.590249</td>\n",
       "      <td>2.181597</td>\n",
       "      <td>-1.0</td>\n",
       "    </tr>\n",
       "    <tr>\n",
       "      <th>469</th>\n",
       "      <td>0.518757</td>\n",
       "      <td>1.438650</td>\n",
       "      <td>-1.0</td>\n",
       "    </tr>\n",
       "    <tr>\n",
       "      <th>470</th>\n",
       "      <td>0.528112</td>\n",
       "      <td>7.132480</td>\n",
       "      <td>-1.0</td>\n",
       "    </tr>\n",
       "    <tr>\n",
       "      <th>471</th>\n",
       "      <td>0.438878</td>\n",
       "      <td>1.182036</td>\n",
       "      <td>-1.0</td>\n",
       "    </tr>\n",
       "    <tr>\n",
       "      <th>472</th>\n",
       "      <td>1.380081</td>\n",
       "      <td>0.865639</td>\n",
       "      <td>-1.0</td>\n",
       "    </tr>\n",
       "    <tr>\n",
       "      <th>473</th>\n",
       "      <td>0.254693</td>\n",
       "      <td>0.767939</td>\n",
       "      <td>-1.0</td>\n",
       "    </tr>\n",
       "    <tr>\n",
       "      <th>474</th>\n",
       "      <td>0.860673</td>\n",
       "      <td>4.268598</td>\n",
       "      <td>-1.0</td>\n",
       "    </tr>\n",
       "    <tr>\n",
       "      <th>475</th>\n",
       "      <td>1.136442</td>\n",
       "      <td>1.816911</td>\n",
       "      <td>-1.0</td>\n",
       "    </tr>\n",
       "    <tr>\n",
       "      <th>476</th>\n",
       "      <td>-0.345332</td>\n",
       "      <td>1.715748</td>\n",
       "      <td>-1.0</td>\n",
       "    </tr>\n",
       "    <tr>\n",
       "      <th>477</th>\n",
       "      <td>1.433984</td>\n",
       "      <td>1.741414</td>\n",
       "      <td>-1.0</td>\n",
       "    </tr>\n",
       "    <tr>\n",
       "      <th>478</th>\n",
       "      <td>1.248009</td>\n",
       "      <td>3.570365</td>\n",
       "      <td>-1.0</td>\n",
       "    </tr>\n",
       "    <tr>\n",
       "      <th>479</th>\n",
       "      <td>0.856136</td>\n",
       "      <td>7.221221</td>\n",
       "      <td>-1.0</td>\n",
       "    </tr>\n",
       "    <tr>\n",
       "      <th>480</th>\n",
       "      <td>1.946919</td>\n",
       "      <td>4.194709</td>\n",
       "      <td>-1.0</td>\n",
       "    </tr>\n",
       "    <tr>\n",
       "      <th>481</th>\n",
       "      <td>0.094708</td>\n",
       "      <td>0.341451</td>\n",
       "      <td>-1.0</td>\n",
       "    </tr>\n",
       "    <tr>\n",
       "      <th>482</th>\n",
       "      <td>1.488856</td>\n",
       "      <td>5.208233</td>\n",
       "      <td>-1.0</td>\n",
       "    </tr>\n",
       "    <tr>\n",
       "      <th>483</th>\n",
       "      <td>1.627606</td>\n",
       "      <td>2.787248</td>\n",
       "      <td>-1.0</td>\n",
       "    </tr>\n",
       "    <tr>\n",
       "      <th>484</th>\n",
       "      <td>0.598730</td>\n",
       "      <td>1.629939</td>\n",
       "      <td>-1.0</td>\n",
       "    </tr>\n",
       "    <tr>\n",
       "      <th>485</th>\n",
       "      <td>0.245069</td>\n",
       "      <td>0.353493</td>\n",
       "      <td>-1.0</td>\n",
       "    </tr>\n",
       "    <tr>\n",
       "      <th>486</th>\n",
       "      <td>1.494568</td>\n",
       "      <td>1.002116</td>\n",
       "      <td>-1.0</td>\n",
       "    </tr>\n",
       "    <tr>\n",
       "      <th>487</th>\n",
       "      <td>0.684247</td>\n",
       "      <td>1.643895</td>\n",
       "      <td>-1.0</td>\n",
       "    </tr>\n",
       "    <tr>\n",
       "      <th>488</th>\n",
       "      <td>0.188271</td>\n",
       "      <td>2.106111</td>\n",
       "      <td>-1.0</td>\n",
       "    </tr>\n",
       "    <tr>\n",
       "      <th>489</th>\n",
       "      <td>0.224988</td>\n",
       "      <td>3.117721</td>\n",
       "      <td>-1.0</td>\n",
       "    </tr>\n",
       "    <tr>\n",
       "      <th>490</th>\n",
       "      <td>0.520381</td>\n",
       "      <td>2.133680</td>\n",
       "      <td>-1.0</td>\n",
       "    </tr>\n",
       "  </tbody>\n",
       "</table>\n",
       "<p>491 rows × 3 columns</p>\n",
       "</div>"
      ],
      "text/plain": [
       "      redness  elongation  fruit\n",
       "0   -0.432637   -0.126039    1.0\n",
       "1    1.148003    0.449690    1.0\n",
       "2    1.765190    0.157238    1.0\n",
       "3   -1.302076    0.591975    1.0\n",
       "4   -1.604870    1.109809    1.0\n",
       "5    0.833658   -0.105400    1.0\n",
       "6    0.774190   -0.443258    1.0\n",
       "7   -0.735851   -0.738757    1.0\n",
       "8   -0.665999   -0.713286    1.0\n",
       "9   -0.972019   -0.709790    1.0\n",
       "10   0.061598   -0.529468    1.0\n",
       "11  -0.975115   -0.682671    1.0\n",
       "12  -0.547158   -0.439072    1.0\n",
       "13  -1.586544   -0.419068    1.0\n",
       "14   0.724129   -0.123337    1.0\n",
       "15  -0.226785    0.308093    1.0\n",
       "16   0.110263    0.196513    1.0\n",
       "17   0.212725   -0.898249    1.0\n",
       "18  -0.198518   -0.899822    1.0\n",
       "19   3.104432   -0.516794    1.0\n",
       "20   0.470369   -0.414204    1.0\n",
       "21   0.537371    1.799749    1.0\n",
       "22   1.572540   -0.587203    1.0\n",
       "23   0.286074    0.640877    1.0\n",
       "24   1.690551   -0.351418    1.0\n",
       "25  -0.437979   -0.731632    1.0\n",
       "26   0.799201    0.241299    1.0\n",
       "27   0.785005   -0.146231    1.0\n",
       "28  -0.167552   -0.899024    1.0\n",
       "29   1.094139   -0.226350    1.0\n",
       "..        ...         ...    ...\n",
       "461 -1.036628    1.879480   -1.0\n",
       "462 -0.868702    0.663354   -1.0\n",
       "463 -1.692536   -0.398388   -1.0\n",
       "464 -2.854592   -0.686806   -1.0\n",
       "465  0.194397    1.431675   -1.0\n",
       "466  0.807677    0.540180   -1.0\n",
       "467  1.130611    3.973103   -1.0\n",
       "468  0.590249    2.181597   -1.0\n",
       "469  0.518757    1.438650   -1.0\n",
       "470  0.528112    7.132480   -1.0\n",
       "471  0.438878    1.182036   -1.0\n",
       "472  1.380081    0.865639   -1.0\n",
       "473  0.254693    0.767939   -1.0\n",
       "474  0.860673    4.268598   -1.0\n",
       "475  1.136442    1.816911   -1.0\n",
       "476 -0.345332    1.715748   -1.0\n",
       "477  1.433984    1.741414   -1.0\n",
       "478  1.248009    3.570365   -1.0\n",
       "479  0.856136    7.221221   -1.0\n",
       "480  1.946919    4.194709   -1.0\n",
       "481  0.094708    0.341451   -1.0\n",
       "482  1.488856    5.208233   -1.0\n",
       "483  1.627606    2.787248   -1.0\n",
       "484  0.598730    1.629939   -1.0\n",
       "485  0.245069    0.353493   -1.0\n",
       "486  1.494568    1.002116   -1.0\n",
       "487  0.684247    1.643895   -1.0\n",
       "488  0.188271    2.106111   -1.0\n",
       "489  0.224988    3.117721   -1.0\n",
       "490  0.520381    2.133680   -1.0\n",
       "\n",
       "[491 rows x 3 columns]"
      ]
     },
     "execution_count": 15,
     "metadata": {},
     "output_type": "execute_result"
    }
   ],
   "source": [
    " df_scaled"
   ]
  },
  {
   "cell_type": "code",
   "execution_count": 16,
   "metadata": {},
   "outputs": [
    {
     "data": {
      "text/plain": [
       "<matplotlib.axes._subplots.AxesSubplot at 0x7f09daec00f0>"
      ]
     },
     "execution_count": 16,
     "metadata": {},
     "output_type": "execute_result"
    },
    {
     "data": {
      "image/png": "[encoded data removed]",
      "text/plain": [
       "<Figure size 432x288 with 2 Axes>"
      ]
     },
     "metadata": {},
     "output_type": "display_data"
    }
   ],
   "source": [
    "sns.heatmap(df_scaled)"
   ]
  },
  {
   "cell_type": "markdown",
   "metadata": {},
   "source": [
    "<div style=\"background:#FFFFAA\">\n",
    "    Here you need to do something!\n",
    "</div>\n",
    "<b>Your final answers to question 1. </b> What are the mean and standard deviation of the lines and the columns of the `redness` and `elongation` features before and after standardization?"
   ]
  },
  {
   "cell_type": "code",
   "execution_count": 17,
   "metadata": {},
   "outputs": [
    {
     "name": "stdout",
     "output_type": "stream",
     "text": [
      "39.65876749424191\n",
      "39.6587674942419\n"
     ]
    },
    {
     "data": {
      "text/html": [
       "<div style=\"background:#00FF00\">CORRECT<br>:-)</div>"
      ],
      "text/plain": [
       "<IPython.core.display.HTML object>"
      ]
     },
     "metadata": {},
     "output_type": "display_data"
    }
   ],
   "source": [
    "question = 1\n",
    "score = 0\n",
    "# Put your answers to question 1 here\n",
    "redness_mean_before, elongation_mean_before, label_mean_before = df.mean()\n",
    "redness_std_before, elongation_std_before, label_std_before = df.std()\n",
    "redness_mean_after, elongation_mean_after, label_mean_after = df_scaled.mean()\n",
    "redness_std_after, elongation_std_after, label_std_after = df_scaled.std()\n",
    "\n",
    "# This is the checker code, keep it\n",
    "answer = redness_mean_before+elongation_mean_before+label_mean_before\n",
    "answer += redness_std_before+elongation_std_before+label_std_before\n",
    "answer -= redness_mean_after+elongation_mean_after+label_mean_after\n",
    "answer -= redness_std_after+elongation_std_after+label_std_after\n",
    "score += check(answer, question)"
   ]
  },
  {
   "cell_type": "markdown",
   "metadata": {},
   "source": [
    "### Question 2: Write a function to standardize data\n",
    "It is often useful to `standardize` the columns of the data matrix to put all values in a similar scale, so to facilitate re-using this operation, write a function that takes as input a data frame `df` containing a dataset and returns a dataframe `df_scaled` with the columns standardized <b>EXCEPT THE TARGET VALUES</b> of the last column (use your answers to the previous section). Use this template for your code:\n",
    "\n",
    "    def standardize_df(df):\n",
    "    '''Standardize all the columns except the last one (target values).'''\n",
    "    # YOUR CODE HERE\n",
    "    return df_scaled\n",
    "    \n",
    "Test your function with the same dataframe as in the previous questions and use the methods `head` and `describe` to verify that all the columns are standardized, except the last one. Notice that, due to machine precision, you may not get exactly mean=0 and std=1."
   ]
  },
  {
   "cell_type": "code",
   "execution_count": 18,
   "metadata": {},
   "outputs": [
    {
     "data": {
      "text/html": [
       "<div>\n",
       "<style scoped>\n",
       "    .dataframe tbody tr th:only-of-type {\n",
       "        vertical-align: middle;\n",
       "    }\n",
       "\n",
       "    .dataframe tbody tr th {\n",
       "        vertical-align: top;\n",
       "    }\n",
       "\n",
       "    .dataframe thead th {\n",
       "        text-align: right;\n",
       "    }\n",
       "</style>\n",
       "<table border=\"1\" class=\"dataframe\">\n",
       "  <thead>\n",
       "    <tr style=\"text-align: right;\">\n",
       "      <th></th>\n",
       "      <th>redness</th>\n",
       "      <th>elongation</th>\n",
       "      <th>fruit</th>\n",
       "    </tr>\n",
       "  </thead>\n",
       "  <tbody>\n",
       "    <tr>\n",
       "      <th>0</th>\n",
       "      <td>-0.432637</td>\n",
       "      <td>-0.126039</td>\n",
       "      <td>1.0</td>\n",
       "    </tr>\n",
       "    <tr>\n",
       "      <th>1</th>\n",
       "      <td>1.148003</td>\n",
       "      <td>0.449690</td>\n",
       "      <td>1.0</td>\n",
       "    </tr>\n",
       "    <tr>\n",
       "      <th>2</th>\n",
       "      <td>1.765190</td>\n",
       "      <td>0.157238</td>\n",
       "      <td>1.0</td>\n",
       "    </tr>\n",
       "    <tr>\n",
       "      <th>3</th>\n",
       "      <td>-1.302076</td>\n",
       "      <td>0.591975</td>\n",
       "      <td>1.0</td>\n",
       "    </tr>\n",
       "    <tr>\n",
       "      <th>4</th>\n",
       "      <td>-1.604870</td>\n",
       "      <td>1.109809</td>\n",
       "      <td>1.0</td>\n",
       "    </tr>\n",
       "  </tbody>\n",
       "</table>\n",
       "</div>"
      ],
      "text/plain": [
       "    redness  elongation  fruit\n",
       "0 -0.432637   -0.126039    1.0\n",
       "1  1.148003    0.449690    1.0\n",
       "2  1.765190    0.157238    1.0\n",
       "3 -1.302076    0.591975    1.0\n",
       "4 -1.604870    1.109809    1.0"
      ]
     },
     "execution_count": 18,
     "metadata": {},
     "output_type": "execute_result"
    }
   ],
   "source": [
    "# Replace by your own code:\n",
    "def standardize_df(df):\n",
    "    '''Standardize all the columns except the last one (target values).'''\n",
    "    df_scaled = (df-df.mean())/df.std()\n",
    "    df_scaled.iloc[:, -1]= df.iloc[:, -1]#don't like the fact that i have to use 'fruit'\n",
    "    return df_scaled\n",
    "\n",
    "df_scaled2 = standardize_df(df)\n",
    "df_scaled2.head()"
   ]
  },
  {
   "cell_type": "code",
   "execution_count": 19,
   "metadata": {},
   "outputs": [
    {
     "data": {
      "text/html": [
       "<div>\n",
       "<style scoped>\n",
       "    .dataframe tbody tr th:only-of-type {\n",
       "        vertical-align: middle;\n",
       "    }\n",
       "\n",
       "    .dataframe tbody tr th {\n",
       "        vertical-align: top;\n",
       "    }\n",
       "\n",
       "    .dataframe thead th {\n",
       "        text-align: right;\n",
       "    }\n",
       "</style>\n",
       "<table border=\"1\" class=\"dataframe\">\n",
       "  <thead>\n",
       "    <tr style=\"text-align: right;\">\n",
       "      <th></th>\n",
       "      <th>redness</th>\n",
       "      <th>elongation</th>\n",
       "      <th>fruit</th>\n",
       "    </tr>\n",
       "  </thead>\n",
       "  <tbody>\n",
       "    <tr>\n",
       "      <th>count</th>\n",
       "      <td>4.910000e+02</td>\n",
       "      <td>4.910000e+02</td>\n",
       "      <td>491.000000</td>\n",
       "    </tr>\n",
       "    <tr>\n",
       "      <th>mean</th>\n",
       "      <td>-1.085350e-16</td>\n",
       "      <td>-8.266752e-16</td>\n",
       "      <td>0.356415</td>\n",
       "    </tr>\n",
       "    <tr>\n",
       "      <th>std</th>\n",
       "      <td>1.000000e+00</td>\n",
       "      <td>1.000000e+00</td>\n",
       "      <td>0.935280</td>\n",
       "    </tr>\n",
       "    <tr>\n",
       "      <th>min</th>\n",
       "      <td>-2.976736e+00</td>\n",
       "      <td>-8.998221e-01</td>\n",
       "      <td>-1.000000</td>\n",
       "    </tr>\n",
       "    <tr>\n",
       "      <th>25%</th>\n",
       "      <td>-6.405668e-01</td>\n",
       "      <td>-5.895726e-01</td>\n",
       "      <td>-1.000000</td>\n",
       "    </tr>\n",
       "    <tr>\n",
       "      <th>50%</th>\n",
       "      <td>-1.597070e-01</td>\n",
       "      <td>-3.238798e-01</td>\n",
       "      <td>1.000000</td>\n",
       "    </tr>\n",
       "    <tr>\n",
       "      <th>75%</th>\n",
       "      <td>7.330612e-01</td>\n",
       "      <td>2.479972e-01</td>\n",
       "      <td>1.000000</td>\n",
       "    </tr>\n",
       "    <tr>\n",
       "      <th>max</th>\n",
       "      <td>3.783535e+00</td>\n",
       "      <td>7.221221e+00</td>\n",
       "      <td>1.000000</td>\n",
       "    </tr>\n",
       "  </tbody>\n",
       "</table>\n",
       "</div>"
      ],
      "text/plain": [
       "            redness    elongation       fruit\n",
       "count  4.910000e+02  4.910000e+02  491.000000\n",
       "mean  -1.085350e-16 -8.266752e-16    0.356415\n",
       "std    1.000000e+00  1.000000e+00    0.935280\n",
       "min   -2.976736e+00 -8.998221e-01   -1.000000\n",
       "25%   -6.405668e-01 -5.895726e-01   -1.000000\n",
       "50%   -1.597070e-01 -3.238798e-01    1.000000\n",
       "75%    7.330612e-01  2.479972e-01    1.000000\n",
       "max    3.783535e+00  7.221221e+00    1.000000"
      ]
     },
     "execution_count": 19,
     "metadata": {},
     "output_type": "execute_result"
    }
   ],
   "source": [
    "df_scaled2.describe()"
   ]
  },
  {
   "cell_type": "code",
   "execution_count": 20,
   "metadata": {},
   "outputs": [
    {
     "name": "stdout",
     "output_type": "stream",
     "text": [
      "True\n",
      "1\n"
     ]
    },
    {
     "data": {
      "text/html": [
       "<div style=\"background:#00FF00\">CORRECT<br>:-)</div>"
      ],
      "text/plain": [
       "<IPython.core.display.HTML object>"
      ]
     },
     "metadata": {},
     "output_type": "display_data"
    }
   ],
   "source": [
    "# This is the checker code, keep it\n",
    "question = 2\n",
    "answer = (df_scaled == df_scaled2).all().all()\n",
    "score += check(answer, question)"
   ]
  },
  {
   "cell_type": "markdown",
   "metadata": {},
   "source": [
    "### Question 3: Select the best representation\n",
    "We are now going to loop over all datasets and compare the performance of our baseline method (one nearest neighbor classifier) with and without variable scaling. \n",
    "\n",
    "First you will perform these steps (with some help):\n",
    "* Import `KNeighborsClassifier` from the scikit-learn library (`sklearn`) and instanciate a one nearest neighbor classifier that you will call `sklearn_model`. Also import the `balanced_accuracy_score` and name it `sklearn_metric`.\n",
    "* Call `df_cross_validate(df, sklearn_model, sklearn_metric)` and collect the results, then print the training and test performance and their error bars. <b>Tip:</b> look at the bottom of the code using `??df_cross_validate` to get an idea on how to print the results. \n",
    "* Create:\n",
    " * a list containing all the dataset dataframes and call it `all_data_df`\n",
    " * a list containg all the dataset names and call it `data_name`. \n",
    "* Run the function `systematic_data_experiment(data_name, all_scaled_data_df, sklearn_model, sklearn_metric)` and display the results.\n",
    "* <b>Create a list</b> containing all the SCALED datasets (variables standardized) and call it `all_scaled_data_df`.\n",
    "* Run again `systematic_data_experiment` on `all_scaled_data_df` and display the results.\n",
    "* Fuse the results of the two previous question by creating a dataframe called `joint_results`. Assign `result_scaling.perf_te` to a column called `'SCALED'` and `result_noscaling.perf_te` to a column called `'NOT SCALED'`. Display the results.\n",
    "* Visualize `joint_results` with a histogram. Check <a href=\"https://pandas.pydata.org/pandas-docs/stable/reference/api/pandas.DataFrame.plot.bar.html\">this documentation</a>.\n",
    "\n",
    "Then the questions you should answer are:\n",
    "* Does re-scaling variables always help?\n",
    "* Is which case does it help most?\n",
    "\n",
    "Try to reason why this might be."
   ]
  },
  {
   "cell_type": "markdown",
   "metadata": {},
   "source": [
    "<div style=\"background:#FFFFAA\">\n",
    "    Here you need to do something!\n",
    "</div>\n",
    "<b>Make necessary changes; USE THE DOCUMENTATION OF SCIKIT LEARN (do not copy on your neighbor).</b> "
   ]
  },
  {
   "cell_type": "code",
   "execution_count": 21,
   "metadata": {},
   "outputs": [
    {
     "ename": "ImportError",
     "evalue": "cannot import name 'balanced_accuracy_score'",
     "output_type": "error",
     "traceback": [
      "\u001b[0;31m---------------------------------------------------------------------------\u001b[0m",
      "\u001b[0;31mImportError\u001b[0m                               Traceback (most recent call last)",
      "\u001b[0;32m<ipython-input-21-4feafe3899e5>\u001b[0m in \u001b[0;36m<module>\u001b[0;34m()\u001b[0m\n\u001b[1;32m      1\u001b[0m \u001b[0;32mfrom\u001b[0m \u001b[0msklearn\u001b[0m\u001b[0;34m.\u001b[0m\u001b[0mneighbors\u001b[0m \u001b[0;32mimport\u001b[0m \u001b[0mKNeighborsClassifier\u001b[0m\u001b[0;34m\u001b[0m\u001b[0m\n\u001b[0;32m----> 2\u001b[0;31m \u001b[0;32mfrom\u001b[0m \u001b[0msklearn\u001b[0m\u001b[0;34m.\u001b[0m\u001b[0mmetrics\u001b[0m \u001b[0;32mimport\u001b[0m \u001b[0mbalanced_accuracy_score\u001b[0m \u001b[0;32mas\u001b[0m \u001b[0msklearn_metric\u001b[0m \u001b[0;31m# Replace that by balanced accuracy\u001b[0m\u001b[0;34m\u001b[0m\u001b[0m\n\u001b[0m\u001b[1;32m      3\u001b[0m \u001b[0;34m\u001b[0m\u001b[0m\n\u001b[1;32m      4\u001b[0m \u001b[0msklearn_model\u001b[0m \u001b[0;34m=\u001b[0m \u001b[0mKNeighborsClassifier\u001b[0m\u001b[0;34m(\u001b[0m\u001b[0;36m1\u001b[0m\u001b[0;34m)\u001b[0m \u001b[0;31m# Replace by ONE nearest neighbor\u001b[0m\u001b[0;34m\u001b[0m\u001b[0m\n",
      "\u001b[0;31mImportError\u001b[0m: cannot import name 'balanced_accuracy_score'"
     ]
    }
   ],
   "source": [
    "from sklearn.neighbors import KNeighborsClassifier\n",
    "from sklearn.metrics import balanced_accuracy_score as sklearn_metric # Replace that by balanced accuracy \n",
    "\n",
    "sklearn_model = KNeighborsClassifier(1) # Replace by ONE nearest neighbor"
   ]
  },
  {
   "cell_type": "code",
   "execution_count": 4,
   "metadata": {},
   "outputs": [
    {
     "data": {
      "text/plain": [
       "\"ImportError                               Traceback (most recent call last)\\n<ipython-input-42-7a63713c8107> in <module>()\\n----> 1 from sklearn.metrics import balanced_accuracy_score as sklearn_metric # Replace that by balanced accuracy\\n\\nImportError: cannot import name 'balanced_accuracy_score'\""
      ]
     },
     "execution_count": 4,
     "metadata": {},
     "output_type": "execute_result"
    }
   ],
   "source": [
    "#from sklearn.metrics import balanced_accuracy_score as sklearn_metric # Replace that by balanced accuracy \n",
    "\"\"\"ImportError                               Traceback (most recent call last)\n",
    "<ipython-input-42-7a63713c8107> in <module>()\n",
    "----> 1 from sklearn.metrics import balanced_accuracy_score as sklearn_metric # Replace that by balanced accuracy\n",
    "\n",
    "ImportError: cannot import name 'balanced_accuracy_score'\"\"\""
   ]
  },
  {
   "cell_type": "code",
   "execution_count": 54,
   "metadata": {},
   "outputs": [
    {
     "data": {
      "text/plain": [
       "'\\nbalanced_accuracy_score ne veut pas importer je ne sais pas pourquoi, je peux pzs continuer puisque\\nle reste du TP découle de cette question\\n'"
      ]
     },
     "execution_count": 54,
     "metadata": {},
     "output_type": "execute_result"
    }
   ],
   "source": [
    "\"\"\"\n",
    "balanced_accuracy_score ne veut pas importer je ne sais pas pourquoi, je peux pzs continuer puisque\n",
    "le reste du TP découle de cette question\n",
    "\"\"\""
   ]
  },
  {
   "cell_type": "markdown",
   "metadata": {},
   "source": [
    "<div style=\"background:#FFFFAA\">\n",
    "    Here you need to do something!\n",
    "</div>\n",
    "<b>Collect the results of df_cross_validate(df, sklearn_model, sklearn_metric).</b> "
   ]
  },
  {
   "cell_type": "code",
   "execution_count": 22,
   "metadata": {},
   "outputs": [
    {
     "ename": "NameError",
     "evalue": "name 'sklearn_metric' is not defined",
     "output_type": "error",
     "traceback": [
      "\u001b[0;31m---------------------------------------------------------------------------\u001b[0m",
      "\u001b[0;31mNameError\u001b[0m                                 Traceback (most recent call last)",
      "\u001b[0;32m<ipython-input-22-08524910ffbf>\u001b[0m in \u001b[0;36m<module>\u001b[0;34m()\u001b[0m\n\u001b[1;32m      1\u001b[0m \u001b[0;31m#??df_cross_validate\u001b[0m\u001b[0;34m\u001b[0m\u001b[0;34m\u001b[0m\u001b[0m\n\u001b[1;32m      2\u001b[0m \u001b[0mp_te\u001b[0m\u001b[0;34m,\u001b[0m \u001b[0ms_te\u001b[0m\u001b[0;34m,\u001b[0m \u001b[0mp_tr\u001b[0m\u001b[0;34m,\u001b[0m \u001b[0ms_tr\u001b[0m  \u001b[0;34m=\u001b[0m \u001b[0;36m0\u001b[0m\u001b[0;34m,\u001b[0m  \u001b[0;36m0\u001b[0m\u001b[0;34m,\u001b[0m \u001b[0;36m0\u001b[0m\u001b[0;34m,\u001b[0m \u001b[0;36m0\u001b[0m \u001b[0;31m# REPLACE THIS!\u001b[0m\u001b[0;34m\u001b[0m\u001b[0m\n\u001b[0;32m----> 3\u001b[0;31m \u001b[0mmetric_name\u001b[0m \u001b[0;34m=\u001b[0m \u001b[0msklearn_metric\u001b[0m\u001b[0;34m.\u001b[0m\u001b[0m__name__\u001b[0m\u001b[0;34m.\u001b[0m\u001b[0mupper\u001b[0m\u001b[0;34m(\u001b[0m\u001b[0;34m)\u001b[0m\u001b[0;34m\u001b[0m\u001b[0m\n\u001b[0m\u001b[1;32m      4\u001b[0m \u001b[0mprint\u001b[0m\u001b[0;34m(\u001b[0m\u001b[0;34m\"AVERAGE TRAINING {0:s} +- STD: {1:.2f} +- {2:.2f}\"\u001b[0m\u001b[0;34m.\u001b[0m\u001b[0mformat\u001b[0m\u001b[0;34m(\u001b[0m\u001b[0mmetric_name\u001b[0m\u001b[0;34m,\u001b[0m \u001b[0mp_tr\u001b[0m\u001b[0;34m,\u001b[0m \u001b[0ms_tr\u001b[0m\u001b[0;34m)\u001b[0m\u001b[0;34m)\u001b[0m\u001b[0;34m\u001b[0m\u001b[0m\n\u001b[1;32m      5\u001b[0m \u001b[0mprint\u001b[0m\u001b[0;34m(\u001b[0m\u001b[0;34m\"AVERAGE TEST {0:s} +- STD: {1:.2f} +- {2:.2f}\"\u001b[0m\u001b[0;34m.\u001b[0m\u001b[0mformat\u001b[0m\u001b[0;34m(\u001b[0m\u001b[0mmetric_name\u001b[0m\u001b[0;34m,\u001b[0m \u001b[0mp_te\u001b[0m\u001b[0;34m,\u001b[0m \u001b[0ms_te\u001b[0m\u001b[0;34m)\u001b[0m\u001b[0;34m)\u001b[0m\u001b[0;34m\u001b[0m\u001b[0m\n",
      "\u001b[0;31mNameError\u001b[0m: name 'sklearn_metric' is not defined"
     ]
    }
   ],
   "source": [
    "#??df_cross_validate\n",
    "p_te, s_te, p_tr, s_tr  = 0,  0, 0, 0 # REPLACE THIS!\n",
    "metric_name = sklearn_metric.__name__.upper()\n",
    "print(\"AVERAGE TRAINING {0:s} +- STD: {1:.2f} +- {2:.2f}\".format(metric_name, p_tr, s_tr))\n",
    "print(\"AVERAGE TEST {0:s} +- STD: {1:.2f} +- {2:.2f}\".format(metric_name, p_te, s_te))"
   ]
  },
  {
   "cell_type": "code",
   "execution_count": 23,
   "metadata": {},
   "outputs": [
    {
     "name": "stdout",
     "output_type": "stream",
     "text": [
      "NO SCALING\n"
     ]
    },
    {
     "ename": "NameError",
     "evalue": "name 'sklearn_model' is not defined",
     "output_type": "error",
     "traceback": [
      "\u001b[0;31m---------------------------------------------------------------------------\u001b[0m",
      "\u001b[0;31mNameError\u001b[0m                                 Traceback (most recent call last)",
      "\u001b[0;32m<ipython-input-23-7f7a6071832c>\u001b[0m in \u001b[0;36m<module>\u001b[0;34m()\u001b[0m\n\u001b[1;32m      3\u001b[0m \u001b[0mall_data_df\u001b[0m \u001b[0;34m=\u001b[0m \u001b[0;34m[\u001b[0m\u001b[0mpd\u001b[0m\u001b[0;34m.\u001b[0m\u001b[0mread_csv\u001b[0m\u001b[0;34m(\u001b[0m\u001b[0mfile\u001b[0m\u001b[0;34m)\u001b[0m \u001b[0;32mfor\u001b[0m \u001b[0mfile\u001b[0m \u001b[0;32min\u001b[0m \u001b[0mdata_list\u001b[0m\u001b[0;34m]\u001b[0m\u001b[0;34m\u001b[0m\u001b[0m\n\u001b[1;32m      4\u001b[0m \u001b[0mprint\u001b[0m\u001b[0;34m(\u001b[0m\u001b[0;34m'NO SCALING'\u001b[0m\u001b[0;34m)\u001b[0m\u001b[0;34m\u001b[0m\u001b[0m\n\u001b[0;32m----> 5\u001b[0;31m \u001b[0mresult_noscaling\u001b[0m \u001b[0;34m=\u001b[0m \u001b[0msystematic_data_experiment\u001b[0m\u001b[0;34m(\u001b[0m\u001b[0mdata_name\u001b[0m\u001b[0;34m,\u001b[0m \u001b[0mall_data_df\u001b[0m\u001b[0;34m,\u001b[0m \u001b[0msklearn_model\u001b[0m\u001b[0;34m,\u001b[0m \u001b[0msklearn_metric\u001b[0m\u001b[0;34m)\u001b[0m\u001b[0;34m\u001b[0m\u001b[0m\n\u001b[0m\u001b[1;32m      6\u001b[0m \u001b[0mresult_noscaling\u001b[0m\u001b[0;34m.\u001b[0m\u001b[0mstyle\u001b[0m\u001b[0;34m.\u001b[0m\u001b[0mbackground_gradient\u001b[0m\u001b[0;34m(\u001b[0m\u001b[0mcmap\u001b[0m\u001b[0;34m=\u001b[0m\u001b[0;34m'Blues'\u001b[0m\u001b[0;34m)\u001b[0m\u001b[0;34m\u001b[0m\u001b[0m\n",
      "\u001b[0;31mNameError\u001b[0m: name 'sklearn_model' is not defined"
     ]
    }
   ],
   "source": [
    "# We give you this code, read it and try to understand it\n",
    "data_name = [os.path.basename(file)[:-9] for file in data_list]\n",
    "all_data_df = [pd.read_csv(file) for file in data_list]\n",
    "print('NO SCALING')\n",
    "result_noscaling = systematic_data_experiment(data_name, all_data_df, sklearn_model, sklearn_metric)\n",
    "result_noscaling.style.background_gradient(cmap='Blues')"
   ]
  },
  {
   "cell_type": "markdown",
   "metadata": {},
   "source": [
    "What do you observe by comparing the accuracy on training data and on test data?"
   ]
  },
  {
   "cell_type": "markdown",
   "metadata": {},
   "source": [
    "<div style=\"background:#FFFFAA\">\n",
    "    Here you need to do something!\n",
    "</div>\n",
    "<b>Compute all_scaled_data_df in a one-line formula. Imitate the code in the previous cell.</b> "
   ]
  },
  {
   "cell_type": "code",
   "execution_count": 24,
   "metadata": {},
   "outputs": [
    {
     "name": "stdout",
     "output_type": "stream",
     "text": [
      "WITH SCALING\n"
     ]
    },
    {
     "ename": "NameError",
     "evalue": "name 'sklearn_model' is not defined",
     "output_type": "error",
     "traceback": [
      "\u001b[0;31m---------------------------------------------------------------------------\u001b[0m",
      "\u001b[0;31mNameError\u001b[0m                                 Traceback (most recent call last)",
      "\u001b[0;32m<ipython-input-24-d44c52483993>\u001b[0m in \u001b[0;36m<module>\u001b[0;34m()\u001b[0m\n\u001b[1;32m      2\u001b[0m \u001b[0;34m\u001b[0m\u001b[0m\n\u001b[1;32m      3\u001b[0m \u001b[0mprint\u001b[0m\u001b[0;34m(\u001b[0m\u001b[0;34m'WITH SCALING'\u001b[0m\u001b[0;34m)\u001b[0m\u001b[0;34m\u001b[0m\u001b[0m\n\u001b[0;32m----> 4\u001b[0;31m \u001b[0mresult_scaling\u001b[0m \u001b[0;34m=\u001b[0m \u001b[0msystematic_data_experiment\u001b[0m\u001b[0;34m(\u001b[0m\u001b[0mdata_name\u001b[0m\u001b[0;34m,\u001b[0m \u001b[0mall_scaled_data_df\u001b[0m\u001b[0;34m,\u001b[0m \u001b[0msklearn_model\u001b[0m\u001b[0;34m,\u001b[0m \u001b[0msklearn_metric\u001b[0m\u001b[0;34m)\u001b[0m\u001b[0;34m\u001b[0m\u001b[0m\n\u001b[0m\u001b[1;32m      5\u001b[0m \u001b[0mresult_scaling\u001b[0m\u001b[0;34m.\u001b[0m\u001b[0mstyle\u001b[0m\u001b[0;34m.\u001b[0m\u001b[0mbackground_gradient\u001b[0m\u001b[0;34m(\u001b[0m\u001b[0mcmap\u001b[0m\u001b[0;34m=\u001b[0m\u001b[0;34m'Blues'\u001b[0m\u001b[0;34m)\u001b[0m\u001b[0;34m\u001b[0m\u001b[0m\n",
      "\u001b[0;31mNameError\u001b[0m: name 'sklearn_model' is not defined"
     ]
    }
   ],
   "source": [
    "all_scaled_data_df = all_data_df # CHANGE THIS!\n",
    "\n",
    "print('WITH SCALING')\n",
    "result_scaling = systematic_data_experiment(data_name, all_scaled_data_df, sklearn_model, sklearn_metric)\n",
    "result_scaling.style.background_gradient(cmap='Blues')"
   ]
  },
  {
   "cell_type": "code",
   "execution_count": 25,
   "metadata": {},
   "outputs": [
    {
     "ename": "NameError",
     "evalue": "name 'result_scaling' is not defined",
     "output_type": "error",
     "traceback": [
      "\u001b[0;31m---------------------------------------------------------------------------\u001b[0m",
      "\u001b[0;31mNameError\u001b[0m                                 Traceback (most recent call last)",
      "\u001b[0;32m<ipython-input-25-a333d0c2df07>\u001b[0m in \u001b[0;36m<module>\u001b[0;34m()\u001b[0m\n\u001b[1;32m      2\u001b[0m \u001b[0;34m\u001b[0m\u001b[0m\n\u001b[1;32m      3\u001b[0m \u001b[0mjoint_results\u001b[0m \u001b[0;34m=\u001b[0m \u001b[0mpd\u001b[0m\u001b[0;34m.\u001b[0m\u001b[0mDataFrame\u001b[0m\u001b[0;34m(\u001b[0m\u001b[0;34m)\u001b[0m\u001b[0;34m\u001b[0m\u001b[0m\n\u001b[0;32m----> 4\u001b[0;31m \u001b[0mjoint_results\u001b[0m\u001b[0;34m[\u001b[0m\u001b[0;34m'SCALED'\u001b[0m\u001b[0;34m]\u001b[0m \u001b[0;34m=\u001b[0m \u001b[0mresult_scaling\u001b[0m\u001b[0;34m.\u001b[0m\u001b[0mperf_te\u001b[0m\u001b[0;34m\u001b[0m\u001b[0m\n\u001b[0m\u001b[1;32m      5\u001b[0m \u001b[0mjoint_results\u001b[0m\u001b[0;34m[\u001b[0m\u001b[0;34m'NOT SCALED'\u001b[0m\u001b[0;34m]\u001b[0m \u001b[0;34m=\u001b[0m \u001b[0mresult_noscaling\u001b[0m\u001b[0;34m.\u001b[0m\u001b[0mperf_te\u001b[0m\u001b[0;34m\u001b[0m\u001b[0m\n\u001b[1;32m      6\u001b[0m \u001b[0mjoint_results\u001b[0m\u001b[0;34m\u001b[0m\u001b[0m\n",
      "\u001b[0;31mNameError\u001b[0m: name 'result_scaling' is not defined"
     ]
    }
   ],
   "source": [
    "# This is how to collect the test results in a single dataframe\n",
    "\n",
    "joint_results = pd.DataFrame()\n",
    "joint_results['SCALED'] = result_scaling.perf_te\n",
    "joint_results['NOT SCALED'] = result_noscaling.perf_te\n",
    "joint_results"
   ]
  },
  {
   "cell_type": "markdown",
   "metadata": {},
   "source": [
    "<div style=\"background:#FFFFAA\">\n",
    "    Here you need to do something!\n",
    "</div>\n",
    "<b>Put here the code to plot \"joint_results\" as a bar graph. Check the <a href=\"Check https://pandas.pydata.org/pandas-docs/stable/reference/api/pandas.DataFrame.plot.bar.html\"> documentation</a></b>."
   ]
  },
  {
   "cell_type": "code",
   "execution_count": 26,
   "metadata": {},
   "outputs": [
    {
     "ename": "NameError",
     "evalue": "name 'sklearn_metric' is not defined",
     "output_type": "error",
     "traceback": [
      "\u001b[0;31m---------------------------------------------------------------------------\u001b[0m",
      "\u001b[0;31mNameError\u001b[0m                                 Traceback (most recent call last)",
      "\u001b[0;32m<ipython-input-26-5514c13a9c6c>\u001b[0m in \u001b[0;36m<module>\u001b[0;34m()\u001b[0m\n\u001b[1;32m      1\u001b[0m \u001b[0mjoint_results\u001b[0m\u001b[0;34m.\u001b[0m\u001b[0mboxplot\u001b[0m\u001b[0;34m(\u001b[0m\u001b[0;34m)\u001b[0m \u001b[0;31m# REPLACE THIS!\u001b[0m\u001b[0;34m\u001b[0m\u001b[0m\n\u001b[0;32m----> 2\u001b[0;31m \u001b[0mplt\u001b[0m\u001b[0;34m.\u001b[0m\u001b[0mylabel\u001b[0m\u001b[0;34m(\u001b[0m\u001b[0msklearn_metric\u001b[0m\u001b[0;34m.\u001b[0m\u001b[0m__name__\u001b[0m\u001b[0;34m)\u001b[0m\u001b[0;34m\u001b[0m\u001b[0m\n\u001b[0m",
      "\u001b[0;31mNameError\u001b[0m: name 'sklearn_metric' is not defined"
     ]
    },
    {
     "data": {
      "image/png": "[encoded data removed]",
      "text/plain": [
       "<Figure size 432x288 with 1 Axes>"
      ]
     },
     "metadata": {},
     "output_type": "display_data"
    }
   ],
   "source": [
    "joint_results.boxplot() # REPLACE THIS!\n",
    "plt.ylabel(sklearn_metric.__name__)"
   ]
  },
  {
   "cell_type": "markdown",
   "metadata": {},
   "source": [
    "<div style=\"background:#FFFFAA\">\n",
    "    Here you need to do something!\n",
    "</div>\n",
    "<b>Your final answers to question 3:</a></b> Does rescaling always help? In which case does it help most?"
   ]
  },
  {
   "cell_type": "code",
   "execution_count": 27,
   "metadata": {},
   "outputs": [
    {
     "name": "stdout",
     "output_type": "stream",
     "text": [
      "-99.0\n",
      "-1.3145198580879243\n"
     ]
    },
    {
     "data": {
      "text/html": [
       "<div style=\"background:#FF0000\">BOOOOH<br>:-(</div>"
      ],
      "text/plain": [
       "<IPython.core.display.HTML object>"
      ]
     },
     "metadata": {},
     "output_type": "display_data"
    }
   ],
   "source": [
    "# Put your answer to question 3 here\n",
    "rescaling_always_help = 100 # 0 for false, 1 for true\n",
    "varnum_rescaling_helps_most = -1 # num of var (0-based) for which perf. improve most after rescaling\n",
    "case_num_rescaling_helps_most = -1 # num of case (0-based) for which perf. improve most after rescaling\n",
    "\n",
    "# This is the checker code, keep it\n",
    "question = 3\n",
    "answer = (p_tr+s_tr+p_te+s_te)/10\n",
    "answer += joint_results.sum().sum()/10-rescaling_always_help-case_num_rescaling_helps_most\n",
    "score += check(answer, question)"
   ]
  },
  {
   "cell_type": "markdown",
   "metadata": {},
   "source": [
    "## Step 2: Identify the best model\n",
    "We are now ready to perform systematic experiments on various models. We will use the methods proposed in the variable `classifiers` of <a href=\"https://scikit-learn.org/stable/auto_examples/classification/plot_classifier_comparison.html\">these scikit-learn examples</a>, compare classifier performances on the dataset `CS_SCALED`:\n",
    "\n",
    "### Question 4: Overfitting and underfitting\n",
    "\n",
    "</b> There may be two reasons why a model performs poorly. It could either be <b>overfitting</b> or <b>underfitting</b> data. \n",
    "\n",
    "First you will perform these steps (with some help):\n",
    "\n",
    "* Create a variable `data_df` and assign to it the data frame of the scaled version of the CS dataset.\n",
    "* Create a variable `model_name` and a variable `model_list` containing the list of model names and the list of models (classifiers) from the <a href=\"https://scikit-learn.org/stable/auto_examples/classification/plot_classifier_comparison.html\">the scikit-learn examples</a> we pointed you to.\n",
    "* Call `systematic_model_experiment(data_df, model_name, model_list, sklearn_metric)` and display the results. \n",
    "* Find which method performs best. <b>Tip:</b> Use <a href=\"https://pandas.pydata.org/pandas-docs/stable/reference/api/pandas.Series.idxmax.html#pandas.Series.idxmax\">idxmax</a>.\n",
    "* Find which models have TEST performance UNDER THE MEDIAN test performance. The single out models with TRAINING performance UNDER THE MEDIAN and those with TRAINING performance OVER THE MEDIAN.\n",
    "\n",
    "Then answer those questions:\n",
    "* If the test performance is bad but the training performance is good, is the model under-fitting or over-fitting? \n",
    "* If both are bad, is the model is under-fitting or over-fitting? \n",
    "* Which models are over-fitted and which ones are under-fitted?"
   ]
  },
  {
   "cell_type": "markdown",
   "metadata": {},
   "source": [
    "<div style=\"background:#FFFFAA\">\n",
    "    Here you need to do something!\n",
    "</div>\n",
    "<b>Choose the correct dataset: CS representation, scaled data.</b>"
   ]
  },
  {
   "cell_type": "code",
   "execution_count": 29,
   "metadata": {},
   "outputs": [
    {
     "data": {
      "text/plain": [
       "(491, 3073)"
      ]
     },
     "execution_count": 29,
     "metadata": {},
     "output_type": "execute_result"
    }
   ],
   "source": [
    "dataset_choice = 0\n",
    "data_df = all_scaled_data_df[dataset_choice]\n",
    "\n",
    "data_df.shape"
   ]
  },
  {
   "cell_type": "code",
   "execution_count": 30,
   "metadata": {},
   "outputs": [
    {
     "name": "stdout",
     "output_type": "stream",
     "text": [
      "[         0      1      2      3      4      5      6      7      8      9  \\\n",
      "0    103.0  101.0   88.0   48.0   44.0   38.0  148.0  135.0  128.0  146.0   \n",
      "1    149.0  131.0  121.0  121.0  103.0   88.0  130.0  127.0  123.0  178.0   \n",
      "2    216.0  184.0  140.0  217.0  186.0  142.0  217.0  186.0  141.0  217.0   \n",
      "3    116.0  129.0  150.0  120.0  128.0  142.0  136.0  143.0  146.0  123.0   \n",
      "4    195.0  176.0  143.0  183.0  169.0  132.0   70.0   67.0   61.0   52.0   \n",
      "5     78.0   49.0   26.0   76.0   48.0   26.0   95.0   62.0   35.0  110.0   \n",
      "6    182.0  182.0  184.0  176.0  183.0  190.0   43.0   45.0   45.0    5.0   \n",
      "7     78.0   72.0   71.0   92.0   79.0   75.0   66.0   48.0   43.0   79.0   \n",
      "8     73.0   67.0   57.0   89.0   84.0   75.0   73.0   73.0   67.0   85.0   \n",
      "9     68.0   57.0   48.0   64.0   47.0   35.0  109.0   93.0   76.0   74.0   \n",
      "10    60.0   48.0   36.0   52.0   43.0   32.0   54.0   46.0   41.0   93.0   \n",
      "11   104.0  111.0  113.0  116.0  116.0  110.0  106.0  101.0   94.0  136.0   \n",
      "12   158.0  130.0  114.0  151.0  131.0  119.0  161.0  141.0  125.0  174.0   \n",
      "13    27.0   25.0   24.0   45.0   46.0   44.0   84.0   95.0  107.0  106.0   \n",
      "14   200.0  164.0  116.0   58.0   43.0   36.0   43.0   38.0   39.0  128.0   \n",
      "15   106.0  111.0  118.0  123.0  123.0  126.0  111.0  100.0   91.0   97.0   \n",
      "16   103.0  104.0  100.0   88.0   90.0   81.0   72.0   74.0   69.0  125.0   \n",
      "17   179.0  171.0  163.0  186.0  177.0  165.0  176.0  167.0  156.0  192.0   \n",
      "18   149.0  140.0  129.0  128.0  119.0  108.0  167.0  156.0  145.0  148.0   \n",
      "19   115.0   92.0   79.0  152.0  126.0  109.0  132.0  120.0  108.0  140.0   \n",
      "20   121.0  114.0  111.0  173.0  171.0  175.0  174.0  173.0  182.0  173.0   \n",
      "21    53.0   54.0   57.0   60.0   62.0   66.0   83.0   89.0   92.0   59.0   \n",
      "22   113.0  110.0  120.0  145.0  143.0  149.0  161.0  164.0  169.0  114.0   \n",
      "23    84.0   75.0   67.0  123.0  119.0  121.0   87.0   79.0   74.0   66.0   \n",
      "24    92.0   93.0   90.0  166.0  173.0  129.0  102.0  100.0   93.0   58.0   \n",
      "25   112.0  112.0  111.0  108.0  110.0  107.0   96.0   96.0   93.0  102.0   \n",
      "26   117.0   99.0   72.0   71.0   62.0   53.0   67.0   61.0   50.0   66.0   \n",
      "27   112.0  135.0   91.0  129.0  152.0   97.0  105.0  133.0   74.0  104.0   \n",
      "28   167.0  163.0  151.0  156.0  152.0  142.0  132.0  127.0  117.0  169.0   \n",
      "29   191.0  185.0  172.0  171.0  164.0  154.0  211.0  191.0  176.0  230.0   \n",
      "..     ...    ...    ...    ...    ...    ...    ...    ...    ...    ...   \n",
      "461   92.0  112.0   86.0   98.0  122.0   87.0   48.0   59.0   41.0   72.0   \n",
      "462  135.0  107.0  112.0   92.0   71.0   76.0  121.0   88.0   89.0  106.0   \n",
      "463   69.0   75.0   58.0   61.0   72.0   54.0   73.0  115.0   55.0  132.0   \n",
      "464   90.0  175.0  171.0   90.0  176.0  157.0   62.0  130.0   79.0   58.0   \n",
      "465  117.0   99.0  128.0   61.0   63.0   48.0   51.0   69.0   51.0   49.0   \n",
      "466  137.0  195.0  157.0  134.0  192.0  167.0  145.0  211.0  191.0   99.0   \n",
      "467  113.0   97.0   83.0   89.0   92.0   87.0   36.0   37.0   40.0   24.0   \n",
      "468   32.0   69.0   57.0   37.0   84.0   70.0   28.0   38.0   39.0   25.0   \n",
      "469   67.0   95.0   77.0   57.0   71.0   60.0   64.0   79.0   75.0   79.0   \n",
      "470   44.0   86.0   69.0   30.0   56.0   41.0   24.0   48.0   32.0   33.0   \n",
      "471   86.0  107.0   83.0  112.0   98.0   86.0   69.0   69.0   59.0   73.0   \n",
      "472   51.0   63.0   45.0   89.0  122.0   81.0   68.0   99.0   38.0   85.0   \n",
      "473  110.0  104.0   83.0   70.0   75.0   48.0   31.0   67.0   31.0   35.0   \n",
      "474   56.0   82.0   66.0   71.0  136.0  118.0   31.0   57.0   40.0   15.0   \n",
      "475  168.0  151.0  104.0  151.0  138.0  108.0  105.0  102.0   87.0   77.0   \n",
      "476   37.0   77.0   80.0   29.0   54.0   56.0   60.0  124.0  125.0   54.0   \n",
      "477   61.0   95.0   57.0   89.0  102.0   94.0  102.0   74.0   89.0   83.0   \n",
      "478   74.0  106.0   78.0   73.0   87.0   79.0   37.0   44.0   36.0   40.0   \n",
      "479   75.0  140.0  108.0   72.0  133.0  114.0   75.0  122.0  100.0   53.0   \n",
      "480   55.0   79.0   43.0   52.0   70.0   34.0   27.0   37.0   17.0   33.0   \n",
      "481   83.0   71.0   50.0   98.0  121.0   95.0  146.0  177.0  143.0  152.0   \n",
      "482   48.0   67.0   35.0   62.0   84.0   78.0   71.0   99.0   78.0   86.0   \n",
      "483  113.0  147.0   83.0  124.0  173.0  113.0  135.0  209.0  143.0  121.0   \n",
      "484   52.0   91.0   65.0   52.0   83.0   62.0   38.0   62.0   51.0   37.0   \n",
      "485   66.0  110.0   84.0   53.0   93.0   71.0   74.0  125.0  110.0   69.0   \n",
      "486   34.0   69.0   41.0   47.0   87.0   65.0   53.0   98.0   57.0   63.0   \n",
      "487   89.0   96.0   87.0   66.0   78.0   69.0   40.0   71.0   58.0   15.0   \n",
      "488   29.0   79.0   35.0   47.0  106.0   67.0   70.0  137.0   89.0   36.0   \n",
      "489   62.0  114.0  124.0   58.0   63.0   60.0   63.0   73.0   73.0   61.0   \n",
      "490   38.0   67.0   21.0   60.0   96.0   42.0   58.0  107.0   32.0   36.0   \n",
      "\n",
      "     ...    3063   3064   3065   3066   3067   3068   3069   3070   3071  3072  \n",
      "0    ...   115.0  113.0  121.0  120.0  120.0  131.0  151.0  151.0  162.0   1.0  \n",
      "1    ...   126.0  143.0  160.0  179.0  185.0  187.0  142.0  148.0  147.0   1.0  \n",
      "2    ...   208.0  165.0  112.0  196.0  157.0  108.0  175.0  138.0   94.0   1.0  \n",
      "3    ...    88.0   77.0   66.0   61.0   52.0   47.0   24.0   19.0   17.0   1.0  \n",
      "4    ...    55.0   51.0   37.0   62.0   67.0   62.0  107.0  120.0  127.0   1.0  \n",
      "5    ...   112.0  134.0   36.0  154.0  130.0   64.0  171.0  142.0  115.0   1.0  \n",
      "6    ...    84.0   69.0   50.0   86.0   85.0   77.0   93.0   95.0   90.0   1.0  \n",
      "7    ...   127.0  115.0  103.0   99.0   92.0   87.0  177.0  156.0  144.0   1.0  \n",
      "8    ...    94.0   91.0   84.0   17.0   14.0    8.0   74.0   73.0   71.0   1.0  \n",
      "9    ...   173.0  154.0  129.0  154.0  121.0   91.0  130.0  101.0   69.0   1.0  \n",
      "10   ...    78.0   64.0   47.0   38.0   30.0   19.0   14.0   14.0    8.0   1.0  \n",
      "11   ...    92.0   86.0   90.0  104.0   94.0   91.0   80.0   77.0   76.0   1.0  \n",
      "12   ...    79.0   74.0   70.0  119.0   98.0   89.0  165.0  138.0  124.0   1.0  \n",
      "13   ...    96.0  100.0  102.0  112.0  111.0  102.0  111.0  120.0  132.0   1.0  \n",
      "14   ...   135.0  132.0  134.0  129.0  126.0  128.0  124.0  121.0  123.0   1.0  \n",
      "15   ...   182.0  184.0  152.0  135.0  147.0  150.0  186.0  202.0  200.0   1.0  \n",
      "16   ...    79.0   70.0   66.0   72.0   63.0   57.0   79.0   64.0   57.0   1.0  \n",
      "17   ...   186.0  180.0  171.0  201.0  195.0  187.0  185.0  175.0  166.0   1.0  \n",
      "18   ...   172.0  168.0  162.0  179.0  176.0  170.0  169.0  164.0  159.0   1.0  \n",
      "19   ...   132.0   95.0   67.0  196.0  119.0   48.0  224.0  138.0   47.0   1.0  \n",
      "20   ...    48.0   30.0   18.0   73.0   41.0   17.0  115.0   92.0   69.0   1.0  \n",
      "21   ...   153.0  129.0  111.0  192.0  165.0  143.0  204.0  166.0  139.0   1.0  \n",
      "22   ...    97.0   82.0   76.0   96.0   96.0  100.0  140.0  142.0  151.0   1.0  \n",
      "23   ...    74.0   56.0   34.0   62.0   48.0   30.0   52.0   43.0   28.0   1.0  \n",
      "24   ...   106.0  113.0  118.0  183.0  198.0  217.0   95.0   99.0  107.0   1.0  \n",
      "25   ...   102.0  117.0   92.0   44.0   45.0   41.0   44.0   39.0   31.0   1.0  \n",
      "26   ...   123.0  121.0  124.0  129.0  131.0  135.0  103.0  104.0  101.0   1.0  \n",
      "27   ...    29.0   42.0   16.0   48.0   60.0   29.0   41.0   48.0   30.0   1.0  \n",
      "28   ...   209.0  206.0  205.0  187.0  180.0  178.0  168.0  161.0  156.0   1.0  \n",
      "29   ...   143.0  116.0   97.0  190.0  154.0  130.0  150.0  120.0  101.0   1.0  \n",
      "..   ...     ...    ...    ...    ...    ...    ...    ...    ...    ...   ...  \n",
      "461  ...   100.0  178.0  120.0  103.0  168.0  116.0   73.0  114.0   94.0  -1.0  \n",
      "462  ...   125.0   92.0   93.0  133.0   94.0   97.0  148.0  104.0  102.0  -1.0  \n",
      "463  ...    60.0   46.0   48.0   62.0   53.0   58.0   98.0   84.0   83.0  -1.0  \n",
      "464  ...   133.0  114.0  110.0  186.0  156.0  141.0  147.0  131.0  135.0  -1.0  \n",
      "465  ...    78.0  125.0  105.0   71.0  111.0   81.0   64.0  101.0   74.0  -1.0  \n",
      "466  ...   125.0   82.0   69.0  112.0   83.0   80.0  112.0   86.0   82.0  -1.0  \n",
      "467  ...   242.0  217.0  166.0  239.0  213.0  151.0  231.0  199.0  120.0  -1.0  \n",
      "468  ...    28.0   62.0   41.0   53.0   56.0   50.0   50.0   59.0   53.0  -1.0  \n",
      "469  ...    46.0   83.0   59.0   36.0   73.0   47.0   62.0  119.0   89.0  -1.0  \n",
      "470  ...    39.0   71.0   59.0   49.0   87.0   76.0   30.0   55.0   44.0  -1.0  \n",
      "471  ...   131.0   99.0  100.0  128.0  111.0  111.0  131.0  129.0  132.0  -1.0  \n",
      "472  ...   115.0  120.0   62.0  112.0  112.0   65.0  129.0  163.0  104.0  -1.0  \n",
      "473  ...    92.0  121.0   85.0   92.0  137.0   99.0   70.0  120.0   85.0  -1.0  \n",
      "474  ...    98.0  158.0  134.0   58.0  105.0   75.0  105.0  114.0   89.0  -1.0  \n",
      "475  ...    67.0   67.0   66.0   84.0   82.0   81.0   91.0   86.0   84.0  -1.0  \n",
      "476  ...   125.0  180.0  123.0   60.0  146.0  102.0  109.0  170.0  147.0  -1.0  \n",
      "477  ...    48.0   77.0   48.0   39.0   80.0   42.0   64.0   87.0   60.0  -1.0  \n",
      "478  ...    41.0   70.0   43.0   65.0  105.0   85.0   61.0  119.0  100.0  -1.0  \n",
      "479  ...    61.0  104.0   77.0   33.0   55.0   38.0   38.0   81.0   52.0  -1.0  \n",
      "480  ...    15.0   29.0    8.0   17.0   28.0   12.0   19.0   26.0   12.0  -1.0  \n",
      "481  ...    38.0   71.0   46.0   97.0  107.0   79.0   98.0  130.0   86.0  -1.0  \n",
      "482  ...    67.0   80.0   68.0   60.0   73.0   59.0   72.0   88.0   61.0  -1.0  \n",
      "483  ...   255.0  255.0  165.0  241.0  214.0  146.0  217.0  167.0   92.0  -1.0  \n",
      "484  ...    27.0   22.0   18.0   36.0   36.0   33.0   47.0   48.0   38.0  -1.0  \n",
      "485  ...    81.0   55.0   48.0  115.0   89.0   85.0   65.0   75.0   62.0  -1.0  \n",
      "486  ...    43.0   53.0   23.0   21.0   57.0   11.0   53.0  102.0   54.0  -1.0  \n",
      "487  ...   111.0   76.0   81.0  109.0   74.0   87.0   80.0   64.0   72.0  -1.0  \n",
      "488  ...    59.0  116.0   97.0   69.0  139.0  116.0   36.0   56.0   43.0  -1.0  \n",
      "489  ...    94.0  108.0   91.0  125.0  160.0  139.0   97.0  127.0  104.0  -1.0  \n",
      "490  ...    68.0   98.0   54.0   77.0   82.0   43.0  115.0  147.0   63.0  -1.0  \n",
      "\n",
      "[491 rows x 3073 columns],        redness  elongation  fruit\n",
      "0     8.429612    1.403201    1.0\n",
      "1    42.896078    1.703201    1.0\n",
      "2    56.354067    1.550811    1.0\n",
      "3   -10.528846    1.777343    1.0\n",
      "4   -17.131387    2.047174    1.0\n",
      "5    36.041667    1.413956    1.0\n",
      "6    34.744932    1.237906    1.0\n",
      "7     1.817919    1.083928    1.0\n",
      "8     3.341065    1.097200    1.0\n",
      "9    -3.331818    1.099021    1.0\n",
      "10   19.206587    1.192983    1.0\n",
      "11   -3.399336    1.113153    1.0\n",
      "12    5.932432    1.240087    1.0\n",
      "13  -16.731771    1.250511    1.0\n",
      "14   33.653333    1.404609    1.0\n",
      "15   12.918283    1.629418    1.0\n",
      "16   20.267760    1.571276    1.0\n",
      "17   22.501969    1.000820    1.0\n",
      "18   13.534668    1.000000    1.0\n",
      "19   85.556757    1.199588    1.0\n",
      "20   28.120000    1.253045    1.0\n",
      "21   29.581006    2.406687    1.0\n",
      "22   52.153266    1.162899    1.0\n",
      "23   24.101382    1.802824    1.0\n",
      "24   54.726547    1.285762    1.0\n",
      "25    8.313119    1.087640    1.0\n",
      "26   35.290323    1.594613    1.0\n",
      "27   34.980769    1.392680    1.0\n",
      "28   14.209883    1.000416    1.0\n",
      "29   41.721557    1.350931    1.0\n",
      "..         ...         ...    ...\n",
      "461  -4.740642    2.448233   -1.0\n",
      "462  -1.078947    1.814537   -1.0\n",
      "463 -19.042969    1.261286   -1.0\n",
      "464 -44.382051    1.110998   -1.0\n",
      "465  22.102326    2.214892   -1.0\n",
      "466  35.475138    1.750353   -1.0\n",
      "467  42.516835    3.539174   -1.0\n",
      "468  30.734043    2.605660   -1.0\n",
      "469  29.175127    2.218527   -1.0\n",
      "470  29.379121    5.185456   -1.0\n",
      "471  27.433333    2.084811   -1.0\n",
      "472  47.956633    1.919943   -1.0\n",
      "473  23.417098    1.869034   -1.0\n",
      "474  36.630734    3.693150   -1.0\n",
      "475  42.643979    2.415630   -1.0\n",
      "476  10.333333    2.362916   -1.0\n",
      "477  49.132000    2.376290   -1.0\n",
      "478  45.076754    3.329316   -1.0\n",
      "479  36.531802    5.231697   -1.0\n",
      "480  60.316742    3.654648   -1.0\n",
      "481  19.928571    1.646800   -1.0\n",
      "482  50.328502    4.182773   -1.0\n",
      "483  53.354000    2.921251   -1.0\n",
      "484  30.918966    2.318203   -1.0\n",
      "485  23.207254    1.653075   -1.0\n",
      "486  50.453052    1.991058   -1.0\n",
      "487  32.783688    2.325475   -1.0\n",
      "488  21.968750    2.566326   -1.0\n",
      "489  22.769373    3.093453   -1.0\n",
      "490  29.210526    2.580691   -1.0\n",
      "\n",
      "[491 rows x 3 columns],          0      1      2      3      4      5      6      7      8      9  \\\n",
      "0    163.0  178.0  202.0  161.0  178.0  204.0  157.0  173.0  200.0  163.0   \n",
      "1    145.0  139.0  134.0   85.0   77.0   75.0  171.0  170.0  177.0  195.0   \n",
      "2    217.0  189.0  144.0  224.0  196.0  151.0  218.0  190.0  145.0  217.0   \n",
      "3     75.0   80.0   93.0   38.0   39.0   45.0   82.0   86.0  101.0   89.0   \n",
      "4    200.0  194.0  193.0  178.0  173.0  176.0  146.0  143.0  151.0  146.0   \n",
      "5    119.0   68.0   40.0  128.0   71.0   44.0   80.0   44.0   27.0   21.0   \n",
      "6    240.0  234.0  223.0  212.0  224.0  228.0  129.0  141.0  149.0  104.0   \n",
      "7    106.0  119.0  130.0  194.0  217.0  224.0  174.0  197.0  208.0  159.0   \n",
      "8    177.0  162.0  131.0  213.0  202.0  170.0  223.0  210.0  178.0  207.0   \n",
      "9     92.0   86.0   73.0   57.0   54.0   48.0   59.0   59.0   53.0   61.0   \n",
      "10    80.0   64.0   42.0   53.0   39.0   23.0   66.0   52.0   36.0   81.0   \n",
      "11    67.0   53.0   52.0   90.0   78.0   79.0   80.0   72.0   74.0   72.0   \n",
      "12   135.0  126.0  120.0  101.0   84.0   80.0   98.0   78.0   74.0   93.0   \n",
      "13    70.0   75.0   89.0   58.0   66.0   83.0  102.0   97.0  103.0  153.0   \n",
      "14   179.0  176.0  162.0  175.0  172.0  159.0  186.0  185.0  172.0  132.0   \n",
      "15   231.0  224.0  216.0  198.0  190.0  176.0  227.0  196.0  145.0  217.0   \n",
      "16    46.0   45.0   41.0   61.0   61.0   58.0  104.0  107.0  104.0  164.0   \n",
      "17   142.0  127.0  109.0  140.0  126.0  108.0  125.0  112.0   94.0  144.0   \n",
      "18   164.0  159.0  150.0  148.0  142.0  132.0  153.0  148.0  138.0  138.0   \n",
      "19    15.0   17.0    3.0   21.0   21.0    9.0   79.0   72.0   30.0   79.0   \n",
      "20   115.0  116.0  117.0  105.0  103.0  102.0  123.0  120.0  114.0  143.0   \n",
      "21   133.0  117.0  100.0  100.0   93.0   92.0   86.0   89.0   92.0   20.0   \n",
      "22   106.0  118.0  133.0  105.0  109.0  113.0   64.0   69.0   76.0   36.0   \n",
      "23   128.0  128.0  114.0   80.0   78.0   64.0   95.0   83.0   62.0  139.0   \n",
      "24   101.0  106.0  109.0   91.0   95.0  101.0   73.0   75.0   84.0  183.0   \n",
      "25   218.0  219.0  220.0  216.0  223.0  223.0  105.0  106.0  103.0   68.0   \n",
      "26    78.0   68.0   55.0   93.0   81.0   65.0  118.0  102.0   76.0   87.0   \n",
      "27   129.0  111.0   96.0   69.0   63.0   57.0   20.0   21.0   20.0   42.0   \n",
      "28   160.0  159.0  147.0  159.0  156.0  143.0  151.0  148.0  134.0  152.0   \n",
      "29    26.0   18.0   14.0   28.0   21.0   15.0   35.0   25.0   19.0   35.0   \n",
      "..     ...    ...    ...    ...    ...    ...    ...    ...    ...    ...   \n",
      "461  121.0  134.0   96.0  130.0  189.0  131.0  118.0  162.0  114.0  123.0   \n",
      "462   67.0   74.0   59.0  129.0  139.0  121.0   85.0  113.0   94.0  121.0   \n",
      "463   35.0   79.0    9.0   41.0   59.0   33.0  122.0  143.0  117.0   96.0   \n",
      "464   89.0  145.0  108.0  143.0  160.0  122.0   83.0   93.0   95.0   81.0   \n",
      "465   73.0   65.0   65.0   75.0  100.0   94.0   75.0  108.0   97.0   74.0   \n",
      "466  126.0  107.0  111.0  113.0   90.0   90.0  112.0   77.0   79.0  109.0   \n",
      "467   72.0  123.0   76.0   56.0   83.0   66.0   68.0   78.0   73.0   98.0   \n",
      "468   52.0   99.0   79.0   85.0  159.0  120.0   75.0  135.0   95.0   44.0   \n",
      "469   93.0  144.0  104.0   55.0  114.0   65.0  110.0  163.0  151.0   74.0   \n",
      "470   54.0   80.0   64.0   52.0   92.0   77.0   49.0   95.0   84.0   70.0   \n",
      "471  117.0  172.0  157.0   66.0  121.0   98.0   67.0  111.0   93.0   99.0   \n",
      "472   89.0  114.0   54.0   90.0  135.0   58.0   57.0  105.0   44.0   46.0   \n",
      "473   92.0  160.0  153.0   79.0  150.0   85.0   65.0  125.0   72.0   52.0   \n",
      "474   45.0   60.0   44.0   46.0   60.0   47.0   47.0   42.0   41.0   76.0   \n",
      "475   37.0   35.0   30.0   48.0   48.0   42.0   46.0   44.0   42.0   35.0   \n",
      "476   37.0   92.0   70.0   35.0   74.0   63.0   28.0   64.0   51.0   65.0   \n",
      "477   30.0   46.0   24.0   63.0   96.0   78.0   83.0  129.0  109.0   50.0   \n",
      "478   51.0  100.0   47.0   42.0   83.0   39.0   55.0  100.0   71.0   48.0   \n",
      "479   55.0   81.0   76.0   72.0  130.0   85.0   71.0  127.0   78.0   52.0   \n",
      "480  110.0  100.0   72.0   61.0   87.0   50.0   56.0   89.0   53.0   51.0   \n",
      "481   72.0  121.0   90.0   78.0  130.0   94.0  115.0  172.0  132.0   58.0   \n",
      "482   71.0   58.0   66.0   85.0   64.0   76.0   74.0   75.0   70.0   89.0   \n",
      "483   59.0   74.0   46.0  106.0   96.0   77.0  121.0  110.0   90.0  109.0   \n",
      "484   30.0   50.0   45.0   32.0   49.0   51.0   31.0   52.0   40.0   58.0   \n",
      "485   70.0  138.0   98.0   69.0  113.0   72.0   76.0  121.0   54.0   85.0   \n",
      "486   54.0   72.0   25.0   52.0   83.0   28.0   49.0   84.0   57.0   68.0   \n",
      "487   78.0   75.0   78.0   70.0   65.0   71.0   66.0   63.0   69.0   96.0   \n",
      "488   48.0  119.0   63.0   58.0  119.0   85.0   56.0  121.0   67.0   64.0   \n",
      "489   31.0   35.0   40.0   36.0   54.0   58.0   50.0   80.0   72.0   59.0   \n",
      "490   19.0   27.0    5.0  110.0  146.0  112.0  136.0  186.0  149.0   79.0   \n",
      "\n",
      "     ...    14571  14572  14573  14574  14575  14576  14577  14578  14579  \\\n",
      "0    ...     61.0   65.0   69.0  157.0  178.0  169.0  202.0  238.0  231.0   \n",
      "1    ...    152.0  154.0  165.0  131.0  132.0  142.0  129.0  140.0  150.0   \n",
      "2    ...    202.0  162.0  114.0  192.0  151.0  104.0  159.0  122.0   84.0   \n",
      "3    ...     62.0   61.0   60.0   67.0   66.0   65.0   67.0   64.0   61.0   \n",
      "4    ...    159.0  178.0  188.0  214.0  235.0  243.0  204.0  227.0  242.0   \n",
      "5    ...     80.0   68.0   52.0   73.0   59.0   44.0   94.0   82.0   69.0   \n",
      "6    ...    111.0  104.0   83.0  126.0  116.0   90.0  127.0  117.0   91.0   \n",
      "7    ...    153.0  145.0  132.0  198.0  182.0  158.0  216.0  211.0  191.0   \n",
      "8    ...    127.0  123.0  116.0  195.0  181.0  155.0  162.0  140.0  104.0   \n",
      "9    ...    205.0  207.0  189.0  200.0  196.0  168.0  182.0  174.0  136.0   \n",
      "10   ...    151.0  203.0  108.0  144.0  193.0  102.0  142.0  190.0  102.0   \n",
      "11   ...    161.0  169.0  193.0  147.0  149.0  157.0  109.0  104.0   98.0   \n",
      "12   ...    129.0  129.0  126.0   99.0   92.0   74.0  185.0  156.0  127.0   \n",
      "13   ...     69.0   71.0   75.0   96.0   99.0  111.0  133.0  139.0  157.0   \n",
      "14   ...    128.0  113.0   95.0  109.0   87.0   74.0  132.0  115.0  107.0   \n",
      "15   ...     21.0   20.0   17.0   34.0   33.0   28.0   15.0   15.0   12.0   \n",
      "16   ...    120.0  131.0  140.0  202.0  215.0  217.0  231.0  244.0  247.0   \n",
      "17   ...    197.0  194.0  182.0  205.0  202.0  190.0  204.0  202.0  192.0   \n",
      "18   ...    240.0  210.0  158.0  149.0  132.0   97.0  175.0  148.0  109.0   \n",
      "19   ...     47.0   37.0   25.0  123.0   99.0   78.0  117.0   92.0   71.0   \n",
      "20   ...     50.0   35.0   26.0   53.0   38.0   29.0   58.0   42.0   32.0   \n",
      "21   ...    183.0  181.0  166.0  157.0  151.0  139.0  169.0  160.0  150.0   \n",
      "22   ...    138.0  136.0  146.0  188.0  196.0  208.0  160.0  169.0  193.0   \n",
      "23   ...     97.0   92.0   79.0  102.0   90.0   66.0   77.0   68.0   50.0   \n",
      "24   ...    120.0  123.0  131.0  187.0  170.0  165.0  133.0  130.0  131.0   \n",
      "25   ...     56.0   54.0   48.0   72.0   71.0   66.0   52.0   52.0   50.0   \n",
      "26   ...    157.0  158.0  143.0  103.0   97.0   96.0  123.0  113.0  108.0   \n",
      "27   ...     67.0   93.0   52.0   56.0   77.0   39.0   66.0   86.0   52.0   \n",
      "28   ...    157.0  155.0  150.0  185.0  182.0  177.0  182.0  177.0  172.0   \n",
      "29   ...      9.0    8.0    4.0   20.0   16.0   11.0   27.0   19.0   14.0   \n",
      "..   ...      ...    ...    ...    ...    ...    ...    ...    ...    ...   \n",
      "461  ...     76.0  129.0   99.0   73.0  116.0   96.0  101.0  189.0  138.0   \n",
      "462  ...     35.0   25.0   24.0   97.0   81.0   78.0  132.0  109.0  113.0   \n",
      "463  ...    111.0  105.0  125.0   95.0   79.0   85.0  149.0  152.0  156.0   \n",
      "464  ...     51.0   60.0   59.0   68.0   97.0   79.0  119.0  157.0  130.0   \n",
      "465  ...    103.0  164.0  134.0  123.0  182.0  153.0  102.0  142.0  135.0   \n",
      "466  ...     70.0   60.0   47.0   52.0   35.0   28.0   89.0   74.0   70.0   \n",
      "467  ...     48.0   66.0   64.0   37.0   43.0   43.0   39.0   58.0   46.0   \n",
      "468  ...     17.0   31.0   21.0   18.0   38.0   21.0   19.0   40.0   25.0   \n",
      "469  ...    121.0  184.0  150.0  101.0  158.0  130.0   97.0  142.0  117.0   \n",
      "470  ...     44.0   64.0   53.0   39.0   63.0   53.0   38.0   90.0   88.0   \n",
      "471  ...    114.0  168.0  157.0   83.0   97.0   79.0  155.0  158.0  142.0   \n",
      "472  ...     38.0   68.0   27.0   97.0  141.0   90.0   86.0  117.0   84.0   \n",
      "473  ...     88.0   85.0  105.0   76.0   82.0   92.0   77.0   70.0   80.0   \n",
      "474  ...     79.0  134.0  107.0   92.0  150.0  112.0  127.0  192.0  158.0   \n",
      "475  ...     87.0   77.0   75.0   84.0   87.0   80.0   75.0   83.0   73.0   \n",
      "476  ...    102.0  171.0  169.0   78.0  133.0   95.0   36.0   94.0   38.0   \n",
      "477  ...     73.0  108.0   80.0   12.0   27.0   10.0   12.0   25.0   11.0   \n",
      "478  ...     54.0   72.0   54.0   56.0   47.0   37.0   26.0   42.0   26.0   \n",
      "479  ...     48.0  109.0   79.0   44.0   94.0   65.0   39.0   78.0   50.0   \n",
      "480  ...     73.0   60.0   46.0   61.0   77.0   55.0   81.0   92.0   72.0   \n",
      "481  ...     87.0   95.0   75.0  105.0  105.0   67.0   69.0   89.0   48.0   \n",
      "482  ...     88.0   81.0   61.0   73.0   91.0   48.0   90.0  114.0   59.0   \n",
      "483  ...    112.0  175.0  100.0   67.0  122.0   63.0   75.0  127.0   67.0   \n",
      "484  ...     69.0   67.0   64.0   67.0   64.0   59.0   62.0   65.0   61.0   \n",
      "485  ...     77.0  120.0   70.0   82.0  129.0   88.0   68.0  129.0  103.0   \n",
      "486  ...     49.0  101.0   47.0   45.0   88.0   38.0   20.0   38.0   15.0   \n",
      "487  ...    110.0  103.0  106.0   62.0   55.0   63.0   71.0   67.0   84.0   \n",
      "488  ...     51.0   98.0   55.0   58.0  111.0   77.0   58.0   99.0   71.0   \n",
      "489  ...     63.0   68.0   73.0   38.0   48.0   41.0   79.0   85.0   80.0   \n",
      "490  ...    144.0  218.0  155.0  142.0  211.0  155.0  144.0  212.0  155.0   \n",
      "\n",
      "     14580  \n",
      "0      1.0  \n",
      "1      1.0  \n",
      "2      1.0  \n",
      "3      1.0  \n",
      "4      1.0  \n",
      "5      1.0  \n",
      "6      1.0  \n",
      "7      1.0  \n",
      "8      1.0  \n",
      "9      1.0  \n",
      "10     1.0  \n",
      "11     1.0  \n",
      "12     1.0  \n",
      "13     1.0  \n",
      "14     1.0  \n",
      "15     1.0  \n",
      "16     1.0  \n",
      "17     1.0  \n",
      "18     1.0  \n",
      "19     1.0  \n",
      "20     1.0  \n",
      "21     1.0  \n",
      "22     1.0  \n",
      "23     1.0  \n",
      "24     1.0  \n",
      "25     1.0  \n",
      "26     1.0  \n",
      "27     1.0  \n",
      "28     1.0  \n",
      "29     1.0  \n",
      "..     ...  \n",
      "461   -1.0  \n",
      "462   -1.0  \n",
      "463   -1.0  \n",
      "464   -1.0  \n",
      "465   -1.0  \n",
      "466   -1.0  \n",
      "467   -1.0  \n",
      "468   -1.0  \n",
      "469   -1.0  \n",
      "470   -1.0  \n",
      "471   -1.0  \n",
      "472   -1.0  \n",
      "473   -1.0  \n",
      "474   -1.0  \n",
      "475   -1.0  \n",
      "476   -1.0  \n",
      "477   -1.0  \n",
      "478   -1.0  \n",
      "479   -1.0  \n",
      "480   -1.0  \n",
      "481   -1.0  \n",
      "482   -1.0  \n",
      "483   -1.0  \n",
      "484   -1.0  \n",
      "485   -1.0  \n",
      "486   -1.0  \n",
      "487   -1.0  \n",
      "488   -1.0  \n",
      "489   -1.0  \n",
      "490   -1.0  \n",
      "\n",
      "[491 rows x 14581 columns],               R           G           B    M=maxRGB    m=minRGB       C=M-m  \\\n",
      "0    200.631068  193.495146  190.907767  205.354369  183.635922   21.718447   \n",
      "1    212.400000  194.105882  144.901961  222.776471  137.756863   85.019608   \n",
      "2    203.693780  181.503987  113.175439  207.778309  113.175439   94.602871   \n",
      "3    168.534615  211.653846  146.473077  214.396154  142.392308   72.003846   \n",
      "4    201.299270  237.810219  199.051095  238.284672  193.218978   45.065693   \n",
      "5    203.861111  197.046296  138.592593  214.592593  138.453704   76.138889   \n",
      "6    218.391892  184.202703  183.091216  219.422297  179.266892   40.155405   \n",
      "7    198.034682  197.080925  195.352601  207.219653  186.491329   20.728324   \n",
      "8    188.207904  227.116838  142.616838  228.565292  142.142612   86.422680   \n",
      "9    179.690909  185.754545  180.290909  192.818182  169.790909   23.027273   \n",
      "10   214.682635  229.532934  161.419162  232.125749  160.784431   71.341317   \n",
      "11   178.515487  216.090708  147.738938  218.329646  143.904867   74.424779   \n",
      "12   190.873874  189.216216  180.666667  200.423423  171.450450   28.972973   \n",
      "13   172.703125  214.989583  163.880208  218.619792  156.416667   62.203125   \n",
      "14   207.833333  186.460000  161.900000  209.586667  160.326667   49.260000   \n",
      "15   207.963989  225.556787  164.534626  229.207756  162.240997   66.966759   \n",
      "16   203.590164  184.229508  182.415301  208.639344  174.360656   34.278689   \n",
      "17   181.033465  180.180118  136.882874  185.375000  136.850394   48.524606   \n",
      "18   159.202148  162.768555  128.566406  166.095703  128.566406   37.529297   \n",
      "19   221.654054  189.837838   82.356757  226.262162   82.356757  143.905405   \n",
      "20   207.700000  183.213333  175.946667  212.980000  168.613333   44.366667   \n",
      "21   226.932961  224.927374  169.776536  233.709497  169.770950   63.938547   \n",
      "22   198.904523  135.708543  157.793970  209.472362  131.170854   78.301508   \n",
      "23   217.239631  221.092166  165.184332  228.391705  162.884793   65.506912   \n",
      "24   210.307385  207.762475  103.399202  223.792415  101.880240  121.912176   \n",
      "25   187.905941  221.363861  137.821782  222.997525  136.128713   86.868812   \n",
      "26   198.532258  161.129032  165.354839  201.629032  153.830645   47.798387   \n",
      "27   197.669231  203.061538  122.315385  213.984615  122.315385   91.669231   \n",
      "28   173.601761  171.599804  147.183953  175.420744  147.183953   28.236791   \n",
      "29   217.841317  203.622754  148.616766  225.961078  148.616766   77.344311   \n",
      "..          ...         ...         ...         ...         ...         ...   \n",
      "461  209.213904  226.866310  201.042781  228.048128  198.037433   30.010695   \n",
      "462  212.777778  226.619883  201.093567  228.654971  199.853801   28.801170   \n",
      "463  187.187500  220.214844  192.246094  220.875000  182.500000   38.375000   \n",
      "464  148.476923  211.589744  174.128205  212.184615  147.071795   65.112821   \n",
      "465  214.516279  202.004651  182.823256  216.674419  180.748837   35.925581   \n",
      "466  217.127072  202.944751  160.359116  221.696133  157.883978   63.812155   \n",
      "467  236.296296  214.558923  173.000000  236.690236  172.915825   63.774411   \n",
      "468  238.261398  225.185410  189.869301  238.297872  189.869301   48.428571   \n",
      "469  230.842640  214.690355  188.644670  233.243655  187.000000   46.243655   \n",
      "470  237.362637  225.104396  190.862637  237.752747  190.862637   46.890110   \n",
      "471  234.333333  231.620000  182.180000  236.400000  181.826667   54.573333   \n",
      "472  236.030612  218.862245  157.285714  240.168367  157.193878   82.974490   \n",
      "473  230.352332  224.994819  188.875648  234.093264  186.725389   47.367876   \n",
      "474  238.064220  222.504587  180.362385  239.064220  180.155963   58.908257   \n",
      "475  231.900524  219.476440  159.036649  232.565445  158.706806   73.858639   \n",
      "476  215.884354  215.023810  196.078231  223.823129  190.459184   33.363946   \n",
      "477  224.504000  199.264000  151.480000  227.140000  149.372000   77.768000   \n",
      "478  238.872807  220.447368  167.144737  238.912281  167.144737   71.767544   \n",
      "479  232.310954  216.233216  175.325088  233.176678  174.568905   58.607774   \n",
      "480  236.923077  217.013575  136.199095  237.380090  136.190045  101.190045   \n",
      "481  217.359184  221.118367  173.742857  227.906122  170.387755   57.518367   \n",
      "482  244.830918  222.410628  166.594203  244.835749  166.594203   78.241546   \n",
      "483  231.772000  216.848000  139.988000  236.500000  139.172000   97.328000   \n",
      "484  229.531034  215.093103  182.131034  229.544828  182.131034   47.413793   \n",
      "485  221.481865  209.606218  186.943005  224.544041  184.974093   39.569948   \n",
      "486  241.882629  231.023474  151.835681  243.694836  150.812207   92.882629   \n",
      "487  228.503546  221.638298  169.801418  229.595745  169.492908   60.102837   \n",
      "488  238.164062  229.226562  203.164062  239.390625  202.558594   36.832031   \n",
      "489  231.907749  218.756458  199.520295  232.398524  198.756458   33.642066   \n",
      "490  241.784211  233.463158  191.684211  242.942105  191.452632   51.489474   \n",
      "\n",
      "     R-(G+B)/2         G-B  G-(R+B)/2         B-R  ...     (G-B)/C   (B-R)/C  \\\n",
      "0     8.429612    2.587379  -2.274272   -9.723301  ...    0.119133 -0.447698   \n",
      "1    42.896078   49.203922  15.454902  -67.498039  ...    0.578736 -0.793911   \n",
      "2    56.354067   68.328549  23.069378  -90.518341  ...    0.722267 -0.956824   \n",
      "3   -10.528846   65.180769  54.150000  -22.061538  ...    0.905240 -0.306394   \n",
      "4   -17.131387   38.759124  37.635036   -2.248175  ...    0.860058 -0.049887   \n",
      "5    36.041667   58.453704  25.819444  -65.268519  ...    0.767725 -0.857230   \n",
      "6    34.744932    1.111486 -16.538851  -35.300676  ...    0.027680 -0.879101   \n",
      "7     1.817919    1.728324   0.387283   -2.682081  ...    0.083380 -0.129392   \n",
      "8     3.341065   84.500000  61.704467  -45.591065  ...    0.977753 -0.527536   \n",
      "9    -3.331818    5.463636   5.763636    0.600000  ...    0.237268  0.026056   \n",
      "10   19.206587   68.113772  41.482036  -53.263473  ...    0.954759 -0.746601   \n",
      "11   -3.399336   68.351770  52.963496  -30.776549  ...    0.918401 -0.413526   \n",
      "12    5.932432    8.549550   3.445946  -10.207207  ...    0.295087 -0.352301   \n",
      "13  -16.731771   51.109375  46.697917   -8.822917  ...    0.821653 -0.141840   \n",
      "14   33.653333   24.560000   1.593333  -45.933333  ...    0.498579 -0.932467   \n",
      "15   12.918283   61.022161  39.307479  -43.429363  ...    0.911231 -0.648521   \n",
      "16   20.267760    1.814208  -8.773224  -21.174863  ...    0.052925 -0.617727   \n",
      "17   22.501969   43.297244  21.221949  -44.150591  ...    0.892274 -0.909860   \n",
      "18   13.534668   34.202148  18.884277  -30.635742  ...    0.911345 -0.816315   \n",
      "19   85.556757  107.481081  37.832432 -139.297297  ...    0.746887 -0.967978   \n",
      "20   28.120000    7.266667  -8.610000  -31.753333  ...    0.163787 -0.715702   \n",
      "21   29.581006   55.150838  26.572626  -57.156425  ...    0.862560 -0.893927   \n",
      "22   52.153266  -22.085427 -42.640704  -41.110553  ...   -0.282056 -0.525029   \n",
      "23   24.101382   55.907834  29.880184  -52.055300  ...    0.853465 -0.794654   \n",
      "24   54.726547  104.363273  50.909182 -106.908184  ...    0.856053 -0.876928   \n",
      "25    8.313119   83.542079  58.500000  -50.084158  ...    0.961704 -0.576549   \n",
      "26   35.290323   -4.225806 -20.814516  -33.177419  ...   -0.088409 -0.694112   \n",
      "27   34.980769   80.746154  43.069231  -75.353846  ...    0.880842 -0.822019   \n",
      "28   14.209883   24.415851  11.206947  -26.417808  ...    0.864682 -0.935581   \n",
      "29   41.721557   55.005988  20.393713  -69.224551  ...    0.711183 -0.895018   \n",
      "..         ...         ...        ...         ...  ...         ...       ...   \n",
      "461  -4.740642   25.823529  21.737968   -8.171123  ...    0.860478 -0.272274   \n",
      "462  -1.078947   25.526316  19.684211  -11.684211  ...    0.886294 -0.405685   \n",
      "463 -19.042969   27.968750  30.498047    5.058594  ...    0.728827  0.131820   \n",
      "464 -44.382051   37.461538  50.287179   25.651282  ...    0.575333  0.393951   \n",
      "465  22.102326   19.181395   3.334884  -31.693023  ...    0.533920 -0.882185   \n",
      "466  35.475138   42.585635  14.201657  -56.767956  ...    0.667359 -0.889610   \n",
      "467  42.516835   41.558923   9.910774  -63.296296  ...    0.651655 -0.992503   \n",
      "468  30.734043   35.316109  11.120061  -48.392097  ...    0.729241 -0.999247   \n",
      "469  29.175127   26.045685   4.946701  -42.197970  ...    0.563227 -0.912514   \n",
      "470  29.379121   34.241758  10.991758  -46.500000  ...    0.730255 -0.991680   \n",
      "471  27.433333   49.440000  23.363333  -52.153333  ...    0.905937 -0.955656   \n",
      "472  47.956633   61.576531  22.204082  -78.744898  ...    0.742114 -0.949025   \n",
      "473  23.417098   36.119171  15.380829  -41.476684  ...    0.762525 -0.875629   \n",
      "474  36.630734   42.142202  13.291284  -57.701835  ...    0.715387 -0.979520   \n",
      "475  42.643979   60.439791  24.007853  -72.863874  ...    0.818317 -0.986532   \n",
      "476  10.333333   18.945578   9.042517  -19.806122  ...    0.567846 -0.593638   \n",
      "477  49.132000   47.784000  11.272000  -73.024000  ...    0.614443 -0.938998   \n",
      "478  45.076754   53.302632  17.438596  -71.728070  ...    0.742712 -0.999450   \n",
      "479  36.531802   40.908127  12.415194  -56.985866  ...    0.697998 -0.972326   \n",
      "480  60.316742   80.814480  30.452489 -100.723982  ...    0.798641 -0.995394   \n",
      "481  19.928571   47.375510  25.567347  -43.616327  ...    0.823659 -0.758303   \n",
      "482  50.328502   55.816425  16.698068  -78.236715  ...    0.713386 -0.999938   \n",
      "483  53.354000   76.860000  30.968000  -91.784000  ...    0.789701 -0.943038   \n",
      "484  30.918966   32.962069   9.262069  -47.400000  ...    0.695200 -0.999709   \n",
      "485  23.207254   22.663212   5.393782  -34.538860  ...    0.572738 -0.872856   \n",
      "486  50.453052   79.187793  34.164319  -90.046948  ...    0.852558 -0.969470   \n",
      "487  32.783688   51.836879  22.485816  -58.702128  ...    0.862470 -0.976695   \n",
      "488  21.968750   26.062500   8.562500  -35.000000  ...    0.707604 -0.950260   \n",
      "489  22.769373   19.236162   3.042435  -32.387454  ...    0.571789 -0.962707   \n",
      "490  29.210526   41.778947  16.728947  -50.100000  ...    0.811408 -0.973014   \n",
      "\n",
      "      (R-G)/C   (R+G+B)/3       C/V           W           H       W/H  \\\n",
      "0    0.328565  195.011327  0.111370  159.085788  113.373463  1.403201   \n",
      "1    0.215175  183.802614  0.462559  160.603213   94.294927  1.703201   \n",
      "2    0.234557  166.124402  0.569470  264.187824  170.354671  1.550811   \n",
      "3   -0.598846  175.553846  0.410152  138.587386   77.974490  1.777343   \n",
      "4   -0.810172  212.720195  0.211854   86.819317   42.409340  2.047174   \n",
      "5    0.089505  179.833333  0.423386   87.088356   61.591980  1.413956   \n",
      "6    0.851422  195.228604  0.205684  156.707144  126.590527  1.237906   \n",
      "7    0.046012  196.822736  0.105315  105.557288   97.384080  1.083928   \n",
      "8   -0.450217  185.980527  0.464687  187.481967  170.873092  1.097200   \n",
      "9   -0.263324  181.912121  0.126585  101.000991   91.900835  1.099021   \n",
      "10  -0.208158  201.878244  0.353388  109.033473   91.395640  1.192983   \n",
      "11  -0.504875  180.781711  0.411683  160.855474  144.504405  1.113153   \n",
      "12   0.057214  186.918919  0.155003   90.267873   72.791566  1.240087   \n",
      "13  -0.679812  183.857639  0.338322   97.791126   78.200962  1.250511   \n",
      "14   0.433888  185.397778  0.265699  144.751589  103.054698  1.404609   \n",
      "15  -0.262709  199.351801  0.335923  169.904171  104.272905  1.629418   \n",
      "16   0.564802  190.078324  0.180340  164.004547  104.376659  1.571276   \n",
      "17   0.017586  166.032152  0.292260  295.304607  295.062772  1.000820   \n",
      "18  -0.095030  150.179036  0.249897  295.458965  295.458965  1.000000   \n",
      "19   0.221091  164.616216  0.874187  195.990486  163.381537  1.199588   \n",
      "20   0.551916  188.953333  0.234802  100.701005   80.365048  1.253045   \n",
      "21   0.031367  207.212291  0.308565  180.199828   74.874641  2.406687   \n",
      "22   0.807085  164.135678  0.477054  112.744089   96.950884  1.162899   \n",
      "23  -0.058811  201.172043  0.325626  121.611428   67.456057  1.802824   \n",
      "24   0.020875  173.823021  0.701358  197.949552  153.955105  1.285762   \n",
      "25  -0.385155  182.363861  0.476349  153.337057  140.981423  1.087640   \n",
      "26   0.782521  175.005376  0.273125  114.274359   71.662739  1.594613   \n",
      "27  -0.058824  174.348718  0.525781  109.053620   78.304879  1.392680   \n",
      "28   0.070899  164.128506  0.172041  295.458494  295.335634  1.000416   \n",
      "29   0.183835  190.026946  0.407018  174.899465  129.465832  1.350931   \n",
      "..        ...         ...       ...         ...         ...       ...   \n",
      "461 -0.588204  212.374332  0.141310  111.526008   45.553668  2.448233   \n",
      "462 -0.480609  213.497076  0.134902   99.786227   54.992675  1.814537   \n",
      "463 -0.860647  199.882812  0.191987  125.513398   99.512229  1.261286   \n",
      "464 -0.969284  178.064957  0.365669  103.269910   92.952386  1.110998   \n",
      "465  0.348265  199.781395  0.179824  109.708642   49.532276  2.214892   \n",
      "466  0.222251  193.476980  0.329818  102.596319   58.614631  1.750353   \n",
      "467  0.340848  207.951740  0.306679  182.686309   51.618341  3.539174   \n",
      "468  0.270006  217.772036  0.222382  170.756577   65.532956  2.605660   \n",
      "469  0.349286  211.392555  0.218757   95.594317   43.089102  2.218527   \n",
      "470  0.261425  217.776557  0.215313  129.309349   24.936929  5.185456   \n",
      "471  0.049719  216.044444  0.252602   82.217287   39.436333  2.084811   \n",
      "472  0.206911  204.059524  0.406619   99.492601   51.820608  1.919943   \n",
      "473  0.113104  214.740933  0.220581   99.950598   53.477149  1.869034   \n",
      "474  0.264133  213.643731  0.275731  141.360205   38.276321  3.693150   \n",
      "475  0.168214  203.471204  0.362993  106.457428   44.070259  2.415630   \n",
      "476  0.025793  208.995465  0.159640  166.879742   70.624489  2.362916   \n",
      "477  0.324555  191.749333  0.405571  130.262606   54.817639  2.376290   \n",
      "478  0.256738  208.821637  0.343679  145.351328   43.658013  3.329316   \n",
      "479  0.274328  207.956419  0.281827  204.565861   39.101244  5.231697   \n",
      "480  0.196754  196.711916  0.514407  139.354250   38.130690  3.654648   \n",
      "481 -0.065356  204.073469  0.281851  124.808460   75.788477  1.646800   \n",
      "482  0.286552  211.278583  0.370324  140.655487   33.627330  4.182773   \n",
      "483  0.153337  196.202667  0.496058  170.196121   58.261379  2.921251   \n",
      "484  0.304509  208.918391  0.226949  137.323808   59.237186  2.318203   \n",
      "485  0.300118  206.010363  0.192077   91.774376   55.517375  1.653075   \n",
      "486  0.116913  208.247261  0.446021  108.194721   54.340311  1.991058   \n",
      "487  0.114225  206.647754  0.290847  140.285357   60.325456  2.325475   \n",
      "488  0.242656  223.518229  0.164783  154.444043   60.180997  2.566326   \n",
      "489  0.390918  216.728167  0.155227  157.943275   51.057266  3.093453   \n",
      "490  0.161607  222.310526  0.231611   94.104039   36.464666  2.580691   \n",
      "\n",
      "              W*H  fruit  \n",
      "0    18036.106721    1.0  \n",
      "1    15144.068336    1.0  \n",
      "2    45005.629862    1.0  \n",
      "3    10806.280695    1.0  \n",
      "4     3681.949959    1.0  \n",
      "5     5363.944244    1.0  \n",
      "6    19837.639971    1.0  \n",
      "7    10279.599332    1.0  \n",
      "8    32035.623316    1.0  \n",
      "9     9282.075394    1.0  \n",
      "10    9965.183962    1.0  \n",
      "11   23244.324594    1.0  \n",
      "12    6570.739797    1.0  \n",
      "13    7647.360148    1.0  \n",
      "14   14917.331315    1.0  \n",
      "15   17716.401429    1.0  \n",
      "16   17118.246560    1.0  \n",
      "17   87133.395955    1.0  \n",
      "18   87296.000000    1.0  \n",
      "19   32021.226874    1.0  \n",
      "20    8092.841104    1.0  \n",
      "21   13492.397442    1.0  \n",
      "22   10930.639102    1.0  \n",
      "23    8203.427385    1.0  \n",
      "24   30475.344118    1.0  \n",
      "25   21617.676582    1.0  \n",
      "26    8189.213635    1.0  \n",
      "27    8539.430548    1.0  \n",
      "28   87259.421513    1.0  \n",
      "29   22643.504806    1.0  \n",
      "..            ...    ...  \n",
      "461   5080.418784   -1.0  \n",
      "462   5487.511536   -1.0  \n",
      "463  12490.118029   -1.0  \n",
      "464   9599.184605   -1.0  \n",
      "465   5434.118772   -1.0  \n",
      "466   6013.645341   -1.0  \n",
      "467   9429.964135   -1.0  \n",
      "468  11190.183220   -1.0  \n",
      "469   4119.073258   -1.0  \n",
      "470   3224.578120   -1.0  \n",
      "471   3242.348326   -1.0  \n",
      "472   5155.767094   -1.0  \n",
      "473   5345.072981   -1.0  \n",
      "474   5410.748631   -1.0  \n",
      "475   4691.606450   -1.0  \n",
      "476  11785.796537   -1.0  \n",
      "477   7140.688483   -1.0  \n",
      "478   6345.750153   -1.0  \n",
      "479   7998.779587   -1.0  \n",
      "480   5313.673767   -1.0  \n",
      "481   9459.043086   -1.0  \n",
      "482   4729.868408   -1.0  \n",
      "483   9915.860692   -1.0  \n",
      "484   8134.675910   -1.0  \n",
      "485   5095.072479   -1.0  \n",
      "486   5879.334800   -1.0  \n",
      "487   8462.778038   -1.0  \n",
      "488   9294.596557   -1.0  \n",
      "489   8064.151793   -1.0  \n",
      "490   3431.472394   -1.0  \n",
      "\n",
      "[491 rows x 22 columns]]\n"
     ]
    }
   ],
   "source": [
    "print(all_data_df)\n"
   ]
  },
  {
   "cell_type": "markdown",
   "metadata": {},
   "source": [
    "#### Classifier comparison\n",
    "We import a bunch of classifiers, inspired \n",
    "by <a href=\"https://scikit-learn.org/stable/auto_examples/classification/plot_classifier_comparison.html\">that list</a>."
   ]
  },
  {
   "cell_type": "code",
   "execution_count": 31,
   "metadata": {},
   "outputs": [],
   "source": [
    "from sklearn.neural_network import MLPClassifier\n",
    "from sklearn.neighbors import KNeighborsClassifier\n",
    "from sklearn.svm import SVC\n",
    "from sklearn.gaussian_process import GaussianProcessClassifier\n",
    "from sklearn.gaussian_process.kernels import RBF\n",
    "from sklearn.tree import DecisionTreeClassifier\n",
    "from sklearn.ensemble import RandomForestClassifier, AdaBoostClassifier\n",
    "from sklearn.naive_bayes import GaussianNB\n",
    "from sklearn.discriminant_analysis import QuadraticDiscriminantAnalysis\n",
    "\n",
    "model_name = [\"Nearest Neighbors\", \"Linear SVM\", \"RBF SVM\", \"Gaussian Process\",\n",
    "         \"Decision Tree\", \"Random Forest\", \"Neural Net\", \"AdaBoost\",\n",
    "         \"Naive Bayes\", \"QDA\"]\n",
    "model_list = [\n",
    "    KNeighborsClassifier(3),\n",
    "    SVC(kernel=\"linear\", C=0.025),\n",
    "    SVC(gamma=2, C=1),\n",
    "    GaussianProcessClassifier(1.0 * RBF(1.0)),\n",
    "    DecisionTreeClassifier(max_depth=10),\n",
    "    RandomForestClassifier(max_depth=10, n_estimators=10, max_features=1),\n",
    "    MLPClassifier(alpha=1, max_iter=1000),\n",
    "    AdaBoostClassifier(),\n",
    "    GaussianNB(),\n",
    "    QuadraticDiscriminantAnalysis()]"
   ]
  },
  {
   "cell_type": "markdown",
   "metadata": {},
   "source": [
    "#### Systematic experiments:\n",
    "We give you this code to make systematic experiments (run all models on the chosen representation). You may get a warning. What could explain it?"
   ]
  },
  {
   "cell_type": "code",
   "execution_count": 32,
   "metadata": {},
   "outputs": [
    {
     "ename": "NameError",
     "evalue": "name 'sklearn_metric' is not defined",
     "output_type": "error",
     "traceback": [
      "\u001b[0;31m---------------------------------------------------------------------------\u001b[0m",
      "\u001b[0;31mNameError\u001b[0m                                 Traceback (most recent call last)",
      "\u001b[0;32m<ipython-input-32-ca6ebf994784>\u001b[0m in \u001b[0;36m<module>\u001b[0;34m()\u001b[0m\n\u001b[0;32m----> 1\u001b[0;31m \u001b[0mcompar_results\u001b[0m \u001b[0;34m=\u001b[0m \u001b[0msystematic_model_experiment\u001b[0m\u001b[0;34m(\u001b[0m\u001b[0mdata_df\u001b[0m\u001b[0;34m,\u001b[0m \u001b[0mmodel_name\u001b[0m\u001b[0;34m,\u001b[0m \u001b[0mmodel_list\u001b[0m\u001b[0;34m,\u001b[0m \u001b[0msklearn_metric\u001b[0m\u001b[0;34m)\u001b[0m\u001b[0;34m\u001b[0m\u001b[0m\n\u001b[0m\u001b[1;32m      2\u001b[0m \u001b[0mcompar_results\u001b[0m\u001b[0;34m.\u001b[0m\u001b[0mround\u001b[0m\u001b[0;34m(\u001b[0m\u001b[0;36m2\u001b[0m\u001b[0;34m)\u001b[0m\u001b[0;34m.\u001b[0m\u001b[0mstyle\u001b[0m\u001b[0;34m.\u001b[0m\u001b[0mbackground_gradient\u001b[0m\u001b[0;34m(\u001b[0m\u001b[0mcmap\u001b[0m\u001b[0;34m=\u001b[0m\u001b[0;34m'Blues'\u001b[0m\u001b[0;34m)\u001b[0m\u001b[0;34m\u001b[0m\u001b[0m\n",
      "\u001b[0;31mNameError\u001b[0m: name 'sklearn_metric' is not defined"
     ]
    }
   ],
   "source": [
    "compar_results = systematic_model_experiment(data_df, model_name, model_list, sklearn_metric)\n",
    "compar_results.round(2).style.background_gradient(cmap='Blues')"
   ]
  },
  {
   "cell_type": "markdown",
   "metadata": {},
   "source": [
    "<div style=\"background:#FFFFAA\">\n",
    "    Here you need to do something!\n",
    "</div>\n",
    "<b>Find the method performing best on test data.</b>"
   ]
  },
  {
   "cell_type": "code",
   "execution_count": 33,
   "metadata": {},
   "outputs": [
    {
     "name": "stdout",
     "output_type": "stream",
     "text": [
      "Best method: AdaBoost\n"
     ]
    }
   ],
   "source": [
    "# Find the method performing best on test data\n",
    "best_method = \"AdaBoost\" # REPLACE THIS; try not to just do this by hand, apply idxmax to the series perf_te\n",
    "print(\"Best method: {}\".format(best_method))"
   ]
  },
  {
   "cell_type": "markdown",
   "metadata": {},
   "source": [
    "#### Over-fitting and under-fitting\n",
    "There may be two reasons why a model performs poorly. It could either be <b>over-fitting</b> or <b>under-fitting</b> data. Under-fitting means that the model is not powerful enough to even learn the training data while over-fitting means that the model is so powerful that it can learn super-well the training data, but it might not generalize well to new test data.\n",
    "\n",
    "Of the models performing poorly (having TEST performance UNDER THE MEDIAN test performance), we highlight:\n",
    "* models with TRAINING performance UNDER THE MEDIAN training performance (<b>under-fitted</b>)\n",
    "* models with TRAINING performance OVER THE MEDIAN (<b>over-fitted</b>)"
   ]
  },
  {
   "cell_type": "code",
   "execution_count": 34,
   "metadata": {},
   "outputs": [
    {
     "ename": "NameError",
     "evalue": "name 'compar_results' is not defined",
     "output_type": "error",
     "traceback": [
      "\u001b[0;31m---------------------------------------------------------------------------\u001b[0m",
      "\u001b[0;31mNameError\u001b[0m                                 Traceback (most recent call last)",
      "\u001b[0;32m<ipython-input-34-9931b62e2ac8>\u001b[0m in \u001b[0;36m<module>\u001b[0;34m()\u001b[0m\n\u001b[1;32m      1\u001b[0m \u001b[0;31m# We give you this code, check it in utilities.py of use ??analyze_model_experiments\u001b[0m\u001b[0;34m\u001b[0m\u001b[0;34m\u001b[0m\u001b[0m\n\u001b[0;32m----> 2\u001b[0;31m \u001b[0manalyze_model_experiments\u001b[0m\u001b[0;34m(\u001b[0m\u001b[0mcompar_results\u001b[0m\u001b[0;34m)\u001b[0m\u001b[0;34m\u001b[0m\u001b[0m\n\u001b[0m",
      "\u001b[0;31mNameError\u001b[0m: name 'compar_results' is not defined"
     ]
    }
   ],
   "source": [
    "# We give you this code, check it in utilities.py of use ??analyze_model_experiments\n",
    "analyze_model_experiments(compar_results)"
   ]
  },
  {
   "cell_type": "markdown",
   "metadata": {},
   "source": [
    "#### Bar graph comparing  results"
   ]
  },
  {
   "cell_type": "code",
   "execution_count": 35,
   "metadata": {},
   "outputs": [
    {
     "ename": "NameError",
     "evalue": "name 'compar_results' is not defined",
     "output_type": "error",
     "traceback": [
      "\u001b[0;31m---------------------------------------------------------------------------\u001b[0m",
      "\u001b[0;31mNameError\u001b[0m                                 Traceback (most recent call last)",
      "\u001b[0;32m<ipython-input-35-ca21f978f71c>\u001b[0m in \u001b[0;36m<module>\u001b[0;34m()\u001b[0m\n\u001b[0;32m----> 1\u001b[0;31m \u001b[0mcompar_results\u001b[0m\u001b[0;34m[\u001b[0m\u001b[0;34m[\u001b[0m\u001b[0;34m'perf_tr'\u001b[0m\u001b[0;34m,\u001b[0m \u001b[0;34m'perf_te'\u001b[0m\u001b[0;34m]\u001b[0m\u001b[0;34m]\u001b[0m\u001b[0;34m.\u001b[0m\u001b[0mplot\u001b[0m\u001b[0;34m.\u001b[0m\u001b[0mbar\u001b[0m\u001b[0;34m(\u001b[0m\u001b[0;34m)\u001b[0m\u001b[0;34m\u001b[0m\u001b[0m\n\u001b[0m\u001b[1;32m      2\u001b[0m \u001b[0mplt\u001b[0m\u001b[0;34m.\u001b[0m\u001b[0mylim\u001b[0m\u001b[0;34m(\u001b[0m\u001b[0;36m0.5\u001b[0m\u001b[0;34m,\u001b[0m \u001b[0;36m1\u001b[0m\u001b[0;34m)\u001b[0m\u001b[0;34m\u001b[0m\u001b[0m\n\u001b[1;32m      3\u001b[0m \u001b[0mplt\u001b[0m\u001b[0;34m.\u001b[0m\u001b[0mylabel\u001b[0m\u001b[0;34m(\u001b[0m\u001b[0msklearn_metric\u001b[0m\u001b[0;34m.\u001b[0m\u001b[0m__name__\u001b[0m\u001b[0;34m)\u001b[0m\u001b[0;34m\u001b[0m\u001b[0m\n",
      "\u001b[0;31mNameError\u001b[0m: name 'compar_results' is not defined"
     ]
    }
   ],
   "source": [
    "compar_results[['perf_tr', 'perf_te']].plot.bar()\n",
    "plt.ylim(0.5, 1)\n",
    "plt.ylabel(sklearn_metric.__name__)"
   ]
  },
  {
   "cell_type": "markdown",
   "metadata": {},
   "source": [
    "<div style=\"background:#FFFFAA\">\n",
    "    Here you need to do something!\n",
    "</div>\n",
    "<b>Your final answers to question 4:</a> </b>Which methods overfits or underfit?</b>"
   ]
  },
  {
   "cell_type": "code",
   "execution_count": 36,
   "metadata": {},
   "outputs": [
    {
     "name": "stdout",
     "output_type": "stream",
     "text": [
      "Over_fitted models:\n",
      "['Linear SVM', 'Gaussian Process', 'Neural Net']\n",
      "Under_fitted models:\n",
      "['RBF SVM', 'Naive Bayes']\n",
      "7\n",
      "3\n"
     ]
    },
    {
     "data": {
      "text/html": [
       "<div style=\"background:#FF0000\">BOOOOH<br>:-(</div>"
      ],
      "text/plain": [
       "<IPython.core.display.HTML object>"
      ]
     },
     "metadata": {},
     "output_type": "display_data"
    }
   ],
   "source": [
    "# Put your answer to question 4 here\n",
    "#If the test performance is bad but the training performance is good, is the model under-fitting or over-fitting?\n",
    "answer1 = -1 # 0 for under-fitting and 1 for over-fitting\n",
    "#If both are bad, is the model is under-fitting or over-fitting? \n",
    "answer2 = -1 # 0 for under-fitting and 1 for over-fitting\n",
    "# Which models are over-fitted and which ones are under-fitted?\n",
    "overfitted_list = [1,3,6] # Replace by the correct numbers in model_name\n",
    "underfitted_list = [2,8] # Replace by the correct numbers in model_name\n",
    "\n",
    "model_name = [\"Nearest Neighbors\", \"Linear SVM\", \"RBF SVM\", \"Gaussian Process\",\n",
    "         \"Decision Tree\", \"Random Forest\", \"Neural Net\", \"AdaBoost\",\n",
    "         \"Naive Bayes\", \"QDA\"]\n",
    "\n",
    "print(\"Over_fitted models:\")\n",
    "print([model_name[i] for i in overfitted_list])\n",
    "print(\"Under_fitted models:\")\n",
    "print([model_name[i] for i in underfitted_list])\n",
    "# This is the checker code, keep it\n",
    "question = 4\n",
    "answer = answer1-answer2+sum(overfitted_list)-sum(underfitted_list)+model_name.index(best_method)\n",
    "\n",
    "score += check(answer, question)"
   ]
  },
  {
   "cell_type": "markdown",
   "metadata": {},
   "source": [
    "###  Question 5: Dimensionality reduction\n",
    "It is useful to reduce the data dimension (number of features) for two reasons: ease of visualisation and possibly increase in performance. Two approaches are possible:\n",
    "1. Feature selection.\n",
    "1. Feature transforms.\n",
    "\n",
    "In the first case, one tries to select among the original features. In the second case, one first replaces the original features by \"combinations\" of features, then perform selection. Here we give two simple examples: Feature ranking with the <b>Pearson correlation</b> coefficient (as a feature selection method), and <b>Singular Value Decomposition</b> or SVD (as a feature transform method) .\n",
    "\n",
    "In this section, we keep using the <b>CS scaled data</b>. We use as classifier the <b>3-nearest-neighbor</b> model, which seems to have served us well! We begin by showing you how to do simple feature selection, then we'll guide you step-by-step through SVD."
   ]
  },
  {
   "cell_type": "markdown",
   "metadata": {},
   "source": [
    "### Feature selection example\n",
    "We perform feature selection with the Pearson correlation coefficient as follows:\n",
    "* Compute the correlation matrix (we will only use the last column, i.e. correlation of features with the class label to be predicted)\n",
    "* Sort the correlation coefficients (of features and class label)"
   ]
  },
  {
   "cell_type": "markdown",
   "metadata": {},
   "source": [
    "#### Correlation matrix\n",
    "If we did things right, `data_df` should contain the CS data. "
   ]
  },
  {
   "cell_type": "code",
   "execution_count": null,
   "metadata": {},
   "outputs": [],
   "source": [
    "corr = data_df.corr()\n",
    "corr.round(1).style.background_gradient(cmap='coolwarm')"
   ]
  },
  {
   "cell_type": "markdown",
   "metadata": {},
   "source": [
    "#### Sort features"
   ]
  },
  {
   "cell_type": "markdown",
   "metadata": {},
   "source": [
    "Let us first sort all features by the <b>absolute value</b> of the Pearson correlation coefficient. Indeed, variables are informative no matter whether they are correlated or anti-correlated (since it suffices to multiply them by -1 to change the correlation direction)."
   ]
  },
  {
   "cell_type": "code",
   "execution_count": 38,
   "metadata": {},
   "outputs": [
    {
     "ename": "KeyError",
     "evalue": "'fruit'",
     "output_type": "error",
     "traceback": [
      "\u001b[0;31m---------------------------------------------------------------------------\u001b[0m",
      "\u001b[0;31mKeyError\u001b[0m                                  Traceback (most recent call last)",
      "\u001b[0;32m~/anaconda3/lib/python3.6/site-packages/pandas/core/indexes/base.py\u001b[0m in \u001b[0;36mget_loc\u001b[0;34m(self, key, method, tolerance)\u001b[0m\n\u001b[1;32m   3062\u001b[0m             \u001b[0;32mtry\u001b[0m\u001b[0;34m:\u001b[0m\u001b[0;34m\u001b[0m\u001b[0m\n\u001b[0;32m-> 3063\u001b[0;31m                 \u001b[0;32mreturn\u001b[0m \u001b[0mself\u001b[0m\u001b[0;34m.\u001b[0m\u001b[0m_engine\u001b[0m\u001b[0;34m.\u001b[0m\u001b[0mget_loc\u001b[0m\u001b[0;34m(\u001b[0m\u001b[0mkey\u001b[0m\u001b[0;34m)\u001b[0m\u001b[0;34m\u001b[0m\u001b[0m\n\u001b[0m\u001b[1;32m   3064\u001b[0m             \u001b[0;32mexcept\u001b[0m \u001b[0mKeyError\u001b[0m\u001b[0;34m:\u001b[0m\u001b[0;34m\u001b[0m\u001b[0m\n",
      "\u001b[0;32mpandas/_libs/index.pyx\u001b[0m in \u001b[0;36mpandas._libs.index.IndexEngine.get_loc\u001b[0;34m()\u001b[0m\n",
      "\u001b[0;32mpandas/_libs/index.pyx\u001b[0m in \u001b[0;36mpandas._libs.index.IndexEngine.get_loc\u001b[0;34m()\u001b[0m\n",
      "\u001b[0;32mpandas/_libs/hashtable_class_helper.pxi\u001b[0m in \u001b[0;36mpandas._libs.hashtable.PyObjectHashTable.get_item\u001b[0;34m()\u001b[0m\n",
      "\u001b[0;32mpandas/_libs/hashtable_class_helper.pxi\u001b[0m in \u001b[0;36mpandas._libs.hashtable.PyObjectHashTable.get_item\u001b[0;34m()\u001b[0m\n",
      "\u001b[0;31mKeyError\u001b[0m: 'fruit'",
      "\nDuring handling of the above exception, another exception occurred:\n",
      "\u001b[0;31mKeyError\u001b[0m                                  Traceback (most recent call last)",
      "\u001b[0;32m<ipython-input-38-0cdbcd53b723>\u001b[0m in \u001b[0;36m<module>\u001b[0;34m()\u001b[0m\n\u001b[0;32m----> 1\u001b[0;31m \u001b[0msval\u001b[0m \u001b[0;34m=\u001b[0m \u001b[0mcorr\u001b[0m\u001b[0;34m[\u001b[0m\u001b[0;34m'fruit'\u001b[0m\u001b[0;34m]\u001b[0m\u001b[0;34m[\u001b[0m\u001b[0;34m:\u001b[0m\u001b[0;34m-\u001b[0m\u001b[0;36m1\u001b[0m\u001b[0;34m]\u001b[0m\u001b[0;34m.\u001b[0m\u001b[0mabs\u001b[0m\u001b[0;34m(\u001b[0m\u001b[0;34m)\u001b[0m\u001b[0;34m.\u001b[0m\u001b[0msort_values\u001b[0m\u001b[0;34m(\u001b[0m\u001b[0mascending\u001b[0m\u001b[0;34m=\u001b[0m\u001b[0;32mFalse\u001b[0m\u001b[0;34m)\u001b[0m\u001b[0;34m\u001b[0m\u001b[0m\n\u001b[0m\u001b[1;32m      2\u001b[0m \u001b[0mranked_columns\u001b[0m \u001b[0;34m=\u001b[0m \u001b[0msval\u001b[0m\u001b[0;34m.\u001b[0m\u001b[0mindex\u001b[0m\u001b[0;34m.\u001b[0m\u001b[0mvalues\u001b[0m\u001b[0;34m\u001b[0m\u001b[0m\n\u001b[1;32m      3\u001b[0m \u001b[0mprint\u001b[0m\u001b[0;34m(\u001b[0m\u001b[0mranked_columns\u001b[0m\u001b[0;34m)\u001b[0m\u001b[0;34m\u001b[0m\u001b[0m\n",
      "\u001b[0;32m~/anaconda3/lib/python3.6/site-packages/pandas/core/frame.py\u001b[0m in \u001b[0;36m__getitem__\u001b[0;34m(self, key)\u001b[0m\n\u001b[1;32m   2683\u001b[0m             \u001b[0;32mreturn\u001b[0m \u001b[0mself\u001b[0m\u001b[0;34m.\u001b[0m\u001b[0m_getitem_multilevel\u001b[0m\u001b[0;34m(\u001b[0m\u001b[0mkey\u001b[0m\u001b[0;34m)\u001b[0m\u001b[0;34m\u001b[0m\u001b[0m\n\u001b[1;32m   2684\u001b[0m         \u001b[0;32melse\u001b[0m\u001b[0;34m:\u001b[0m\u001b[0;34m\u001b[0m\u001b[0m\n\u001b[0;32m-> 2685\u001b[0;31m             \u001b[0;32mreturn\u001b[0m \u001b[0mself\u001b[0m\u001b[0;34m.\u001b[0m\u001b[0m_getitem_column\u001b[0m\u001b[0;34m(\u001b[0m\u001b[0mkey\u001b[0m\u001b[0;34m)\u001b[0m\u001b[0;34m\u001b[0m\u001b[0m\n\u001b[0m\u001b[1;32m   2686\u001b[0m \u001b[0;34m\u001b[0m\u001b[0m\n\u001b[1;32m   2687\u001b[0m     \u001b[0;32mdef\u001b[0m \u001b[0m_getitem_column\u001b[0m\u001b[0;34m(\u001b[0m\u001b[0mself\u001b[0m\u001b[0;34m,\u001b[0m \u001b[0mkey\u001b[0m\u001b[0;34m)\u001b[0m\u001b[0;34m:\u001b[0m\u001b[0;34m\u001b[0m\u001b[0m\n",
      "\u001b[0;32m~/anaconda3/lib/python3.6/site-packages/pandas/core/frame.py\u001b[0m in \u001b[0;36m_getitem_column\u001b[0;34m(self, key)\u001b[0m\n\u001b[1;32m   2690\u001b[0m         \u001b[0;31m# get column\u001b[0m\u001b[0;34m\u001b[0m\u001b[0;34m\u001b[0m\u001b[0m\n\u001b[1;32m   2691\u001b[0m         \u001b[0;32mif\u001b[0m \u001b[0mself\u001b[0m\u001b[0;34m.\u001b[0m\u001b[0mcolumns\u001b[0m\u001b[0;34m.\u001b[0m\u001b[0mis_unique\u001b[0m\u001b[0;34m:\u001b[0m\u001b[0;34m\u001b[0m\u001b[0m\n\u001b[0;32m-> 2692\u001b[0;31m             \u001b[0;32mreturn\u001b[0m \u001b[0mself\u001b[0m\u001b[0;34m.\u001b[0m\u001b[0m_get_item_cache\u001b[0m\u001b[0;34m(\u001b[0m\u001b[0mkey\u001b[0m\u001b[0;34m)\u001b[0m\u001b[0;34m\u001b[0m\u001b[0m\n\u001b[0m\u001b[1;32m   2693\u001b[0m \u001b[0;34m\u001b[0m\u001b[0m\n\u001b[1;32m   2694\u001b[0m         \u001b[0;31m# duplicate columns & possible reduce dimensionality\u001b[0m\u001b[0;34m\u001b[0m\u001b[0;34m\u001b[0m\u001b[0m\n",
      "\u001b[0;32m~/anaconda3/lib/python3.6/site-packages/pandas/core/generic.py\u001b[0m in \u001b[0;36m_get_item_cache\u001b[0;34m(self, item)\u001b[0m\n\u001b[1;32m   2484\u001b[0m         \u001b[0mres\u001b[0m \u001b[0;34m=\u001b[0m \u001b[0mcache\u001b[0m\u001b[0;34m.\u001b[0m\u001b[0mget\u001b[0m\u001b[0;34m(\u001b[0m\u001b[0mitem\u001b[0m\u001b[0;34m)\u001b[0m\u001b[0;34m\u001b[0m\u001b[0m\n\u001b[1;32m   2485\u001b[0m         \u001b[0;32mif\u001b[0m \u001b[0mres\u001b[0m \u001b[0;32mis\u001b[0m \u001b[0;32mNone\u001b[0m\u001b[0;34m:\u001b[0m\u001b[0;34m\u001b[0m\u001b[0m\n\u001b[0;32m-> 2486\u001b[0;31m             \u001b[0mvalues\u001b[0m \u001b[0;34m=\u001b[0m \u001b[0mself\u001b[0m\u001b[0;34m.\u001b[0m\u001b[0m_data\u001b[0m\u001b[0;34m.\u001b[0m\u001b[0mget\u001b[0m\u001b[0;34m(\u001b[0m\u001b[0mitem\u001b[0m\u001b[0;34m)\u001b[0m\u001b[0;34m\u001b[0m\u001b[0m\n\u001b[0m\u001b[1;32m   2487\u001b[0m             \u001b[0mres\u001b[0m \u001b[0;34m=\u001b[0m \u001b[0mself\u001b[0m\u001b[0;34m.\u001b[0m\u001b[0m_box_item_values\u001b[0m\u001b[0;34m(\u001b[0m\u001b[0mitem\u001b[0m\u001b[0;34m,\u001b[0m \u001b[0mvalues\u001b[0m\u001b[0;34m)\u001b[0m\u001b[0;34m\u001b[0m\u001b[0m\n\u001b[1;32m   2488\u001b[0m             \u001b[0mcache\u001b[0m\u001b[0;34m[\u001b[0m\u001b[0mitem\u001b[0m\u001b[0;34m]\u001b[0m \u001b[0;34m=\u001b[0m \u001b[0mres\u001b[0m\u001b[0;34m\u001b[0m\u001b[0m\n",
      "\u001b[0;32m~/anaconda3/lib/python3.6/site-packages/pandas/core/internals.py\u001b[0m in \u001b[0;36mget\u001b[0;34m(self, item, fastpath)\u001b[0m\n\u001b[1;32m   4113\u001b[0m \u001b[0;34m\u001b[0m\u001b[0m\n\u001b[1;32m   4114\u001b[0m             \u001b[0;32mif\u001b[0m \u001b[0;32mnot\u001b[0m \u001b[0misna\u001b[0m\u001b[0;34m(\u001b[0m\u001b[0mitem\u001b[0m\u001b[0;34m)\u001b[0m\u001b[0;34m:\u001b[0m\u001b[0;34m\u001b[0m\u001b[0m\n\u001b[0;32m-> 4115\u001b[0;31m                 \u001b[0mloc\u001b[0m \u001b[0;34m=\u001b[0m \u001b[0mself\u001b[0m\u001b[0;34m.\u001b[0m\u001b[0mitems\u001b[0m\u001b[0;34m.\u001b[0m\u001b[0mget_loc\u001b[0m\u001b[0;34m(\u001b[0m\u001b[0mitem\u001b[0m\u001b[0;34m)\u001b[0m\u001b[0;34m\u001b[0m\u001b[0m\n\u001b[0m\u001b[1;32m   4116\u001b[0m             \u001b[0;32melse\u001b[0m\u001b[0;34m:\u001b[0m\u001b[0;34m\u001b[0m\u001b[0m\n\u001b[1;32m   4117\u001b[0m                 \u001b[0mindexer\u001b[0m \u001b[0;34m=\u001b[0m \u001b[0mnp\u001b[0m\u001b[0;34m.\u001b[0m\u001b[0marange\u001b[0m\u001b[0;34m(\u001b[0m\u001b[0mlen\u001b[0m\u001b[0;34m(\u001b[0m\u001b[0mself\u001b[0m\u001b[0;34m.\u001b[0m\u001b[0mitems\u001b[0m\u001b[0;34m)\u001b[0m\u001b[0;34m)\u001b[0m\u001b[0;34m[\u001b[0m\u001b[0misna\u001b[0m\u001b[0;34m(\u001b[0m\u001b[0mself\u001b[0m\u001b[0;34m.\u001b[0m\u001b[0mitems\u001b[0m\u001b[0;34m)\u001b[0m\u001b[0;34m]\u001b[0m\u001b[0;34m\u001b[0m\u001b[0m\n",
      "\u001b[0;32m~/anaconda3/lib/python3.6/site-packages/pandas/core/indexes/base.py\u001b[0m in \u001b[0;36mget_loc\u001b[0;34m(self, key, method, tolerance)\u001b[0m\n\u001b[1;32m   3063\u001b[0m                 \u001b[0;32mreturn\u001b[0m \u001b[0mself\u001b[0m\u001b[0;34m.\u001b[0m\u001b[0m_engine\u001b[0m\u001b[0;34m.\u001b[0m\u001b[0mget_loc\u001b[0m\u001b[0;34m(\u001b[0m\u001b[0mkey\u001b[0m\u001b[0;34m)\u001b[0m\u001b[0;34m\u001b[0m\u001b[0m\n\u001b[1;32m   3064\u001b[0m             \u001b[0;32mexcept\u001b[0m \u001b[0mKeyError\u001b[0m\u001b[0;34m:\u001b[0m\u001b[0;34m\u001b[0m\u001b[0m\n\u001b[0;32m-> 3065\u001b[0;31m                 \u001b[0;32mreturn\u001b[0m \u001b[0mself\u001b[0m\u001b[0;34m.\u001b[0m\u001b[0m_engine\u001b[0m\u001b[0;34m.\u001b[0m\u001b[0mget_loc\u001b[0m\u001b[0;34m(\u001b[0m\u001b[0mself\u001b[0m\u001b[0;34m.\u001b[0m\u001b[0m_maybe_cast_indexer\u001b[0m\u001b[0;34m(\u001b[0m\u001b[0mkey\u001b[0m\u001b[0;34m)\u001b[0m\u001b[0;34m)\u001b[0m\u001b[0;34m\u001b[0m\u001b[0m\n\u001b[0m\u001b[1;32m   3066\u001b[0m \u001b[0;34m\u001b[0m\u001b[0m\n\u001b[1;32m   3067\u001b[0m         \u001b[0mindexer\u001b[0m \u001b[0;34m=\u001b[0m \u001b[0mself\u001b[0m\u001b[0;34m.\u001b[0m\u001b[0mget_indexer\u001b[0m\u001b[0;34m(\u001b[0m\u001b[0;34m[\u001b[0m\u001b[0mkey\u001b[0m\u001b[0;34m]\u001b[0m\u001b[0;34m,\u001b[0m \u001b[0mmethod\u001b[0m\u001b[0;34m=\u001b[0m\u001b[0mmethod\u001b[0m\u001b[0;34m,\u001b[0m \u001b[0mtolerance\u001b[0m\u001b[0;34m=\u001b[0m\u001b[0mtolerance\u001b[0m\u001b[0;34m)\u001b[0m\u001b[0;34m\u001b[0m\u001b[0m\n",
      "\u001b[0;32mpandas/_libs/index.pyx\u001b[0m in \u001b[0;36mpandas._libs.index.IndexEngine.get_loc\u001b[0;34m()\u001b[0m\n",
      "\u001b[0;32mpandas/_libs/index.pyx\u001b[0m in \u001b[0;36mpandas._libs.index.IndexEngine.get_loc\u001b[0;34m()\u001b[0m\n",
      "\u001b[0;32mpandas/_libs/hashtable_class_helper.pxi\u001b[0m in \u001b[0;36mpandas._libs.hashtable.PyObjectHashTable.get_item\u001b[0;34m()\u001b[0m\n",
      "\u001b[0;32mpandas/_libs/hashtable_class_helper.pxi\u001b[0m in \u001b[0;36mpandas._libs.hashtable.PyObjectHashTable.get_item\u001b[0;34m()\u001b[0m\n",
      "\u001b[0;31mKeyError\u001b[0m: 'fruit'"
     ]
    }
   ],
   "source": [
    "sval = corr['fruit'][:-1].abs().sort_values(ascending=False)\n",
    "ranked_columns = sval.index.values\n",
    "print(ranked_columns) "
   ]
  },
  {
   "cell_type": "markdown",
   "metadata": {},
   "source": [
    "We notice that the features that we have constructed in the previous lessons 'R-(G+B)/2' and 'W/H' come in the 5 top most informative features. But there are others. Let us make all scatter plots of pairs of features for the 5 top ranked features."
   ]
  },
  {
   "cell_type": "markdown",
   "metadata": {},
   "source": [
    "#### Visualize top 5 features with PAIRPLOT"
   ]
  },
  {
   "cell_type": "code",
   "execution_count": 53,
   "metadata": {},
   "outputs": [
    {
     "ename": "KeyError",
     "evalue": "'fruit'",
     "output_type": "error",
     "traceback": [
      "\u001b[0;31m---------------------------------------------------------------------------\u001b[0m",
      "\u001b[0;31mKeyError\u001b[0m                                  Traceback (most recent call last)",
      "\u001b[0;32m~/anaconda3/lib/python3.6/site-packages/pandas/core/indexes/base.py\u001b[0m in \u001b[0;36mget_loc\u001b[0;34m(self, key, method, tolerance)\u001b[0m\n\u001b[1;32m   3062\u001b[0m             \u001b[0;32mtry\u001b[0m\u001b[0;34m:\u001b[0m\u001b[0;34m\u001b[0m\u001b[0m\n\u001b[0;32m-> 3063\u001b[0;31m                 \u001b[0;32mreturn\u001b[0m \u001b[0mself\u001b[0m\u001b[0;34m.\u001b[0m\u001b[0m_engine\u001b[0m\u001b[0;34m.\u001b[0m\u001b[0mget_loc\u001b[0m\u001b[0;34m(\u001b[0m\u001b[0mkey\u001b[0m\u001b[0;34m)\u001b[0m\u001b[0;34m\u001b[0m\u001b[0m\n\u001b[0m\u001b[1;32m   3064\u001b[0m             \u001b[0;32mexcept\u001b[0m \u001b[0mKeyError\u001b[0m\u001b[0;34m:\u001b[0m\u001b[0;34m\u001b[0m\u001b[0m\n",
      "\u001b[0;32mpandas/_libs/index.pyx\u001b[0m in \u001b[0;36mpandas._libs.index.IndexEngine.get_loc\u001b[0;34m()\u001b[0m\n",
      "\u001b[0;32mpandas/_libs/index.pyx\u001b[0m in \u001b[0;36mpandas._libs.index.IndexEngine.get_loc\u001b[0;34m()\u001b[0m\n",
      "\u001b[0;32mpandas/_libs/hashtable_class_helper.pxi\u001b[0m in \u001b[0;36mpandas._libs.hashtable.PyObjectHashTable.get_item\u001b[0;34m()\u001b[0m\n",
      "\u001b[0;32mpandas/_libs/hashtable_class_helper.pxi\u001b[0m in \u001b[0;36mpandas._libs.hashtable.PyObjectHashTable.get_item\u001b[0;34m()\u001b[0m\n",
      "\u001b[0;31mKeyError\u001b[0m: 'fruit'",
      "\nDuring handling of the above exception, another exception occurred:\n",
      "\u001b[0;31mKeyError\u001b[0m                                  Traceback (most recent call last)",
      "\u001b[0;32m<ipython-input-53-c1d83b7517ab>\u001b[0m in \u001b[0;36m<module>\u001b[0;34m()\u001b[0m\n\u001b[1;32m      3\u001b[0m \u001b[0;31m# Make a dataframe with only top five features\u001b[0m\u001b[0;34m\u001b[0m\u001b[0;34m\u001b[0m\u001b[0m\n\u001b[1;32m      4\u001b[0m \u001b[0mfruit_name\u001b[0m \u001b[0;34m=\u001b[0m \u001b[0;34m[\u001b[0m\u001b[0;34m'Banana'\u001b[0m\u001b[0;34m,\u001b[0m \u001b[0;34m'Apple'\u001b[0m\u001b[0;34m]\u001b[0m\u001b[0;34m\u001b[0m\u001b[0m\n\u001b[0;32m----> 5\u001b[0;31m \u001b[0mfruit_list\u001b[0m \u001b[0;34m=\u001b[0m \u001b[0;34m[\u001b[0m\u001b[0mfruit_name\u001b[0m\u001b[0;34m[\u001b[0m\u001b[0mint\u001b[0m\u001b[0;34m(\u001b[0m\u001b[0;34m(\u001b[0m\u001b[0mi\u001b[0m\u001b[0;34m+\u001b[0m\u001b[0;36m1\u001b[0m\u001b[0;34m)\u001b[0m\u001b[0;34m/\u001b[0m\u001b[0;36m2\u001b[0m\u001b[0;34m)\u001b[0m\u001b[0;34m]\u001b[0m \u001b[0;32mfor\u001b[0m \u001b[0mi\u001b[0m \u001b[0;32min\u001b[0m \u001b[0mdata_df\u001b[0m\u001b[0;34m[\u001b[0m\u001b[0;34m\"fruit\"\u001b[0m\u001b[0;34m]\u001b[0m\u001b[0;34m.\u001b[0m\u001b[0mtolist\u001b[0m\u001b[0;34m(\u001b[0m\u001b[0;34m)\u001b[0m\u001b[0;34m]\u001b[0m\u001b[0;34m\u001b[0m\u001b[0m\n\u001b[0m\u001b[1;32m      6\u001b[0m \u001b[0mcol_selected\u001b[0m \u001b[0;34m=\u001b[0m \u001b[0mranked_columns\u001b[0m\u001b[0;34m[\u001b[0m\u001b[0;36m0\u001b[0m\u001b[0;34m:\u001b[0m\u001b[0;36m5\u001b[0m\u001b[0;34m]\u001b[0m\u001b[0;34m\u001b[0m\u001b[0m\n\u001b[1;32m      7\u001b[0m \u001b[0mdf_5feat\u001b[0m \u001b[0;34m=\u001b[0m \u001b[0mpd\u001b[0m\u001b[0;34m.\u001b[0m\u001b[0mDataFrame\u001b[0m\u001b[0;34m.\u001b[0m\u001b[0mcopy\u001b[0m\u001b[0;34m(\u001b[0m\u001b[0mdata_df\u001b[0m\u001b[0;34m)\u001b[0m\u001b[0;34m\u001b[0m\u001b[0m\n",
      "\u001b[0;32m~/anaconda3/lib/python3.6/site-packages/pandas/core/frame.py\u001b[0m in \u001b[0;36m__getitem__\u001b[0;34m(self, key)\u001b[0m\n\u001b[1;32m   2683\u001b[0m             \u001b[0;32mreturn\u001b[0m \u001b[0mself\u001b[0m\u001b[0;34m.\u001b[0m\u001b[0m_getitem_multilevel\u001b[0m\u001b[0;34m(\u001b[0m\u001b[0mkey\u001b[0m\u001b[0;34m)\u001b[0m\u001b[0;34m\u001b[0m\u001b[0m\n\u001b[1;32m   2684\u001b[0m         \u001b[0;32melse\u001b[0m\u001b[0;34m:\u001b[0m\u001b[0;34m\u001b[0m\u001b[0m\n\u001b[0;32m-> 2685\u001b[0;31m             \u001b[0;32mreturn\u001b[0m \u001b[0mself\u001b[0m\u001b[0;34m.\u001b[0m\u001b[0m_getitem_column\u001b[0m\u001b[0;34m(\u001b[0m\u001b[0mkey\u001b[0m\u001b[0;34m)\u001b[0m\u001b[0;34m\u001b[0m\u001b[0m\n\u001b[0m\u001b[1;32m   2686\u001b[0m \u001b[0;34m\u001b[0m\u001b[0m\n\u001b[1;32m   2687\u001b[0m     \u001b[0;32mdef\u001b[0m \u001b[0m_getitem_column\u001b[0m\u001b[0;34m(\u001b[0m\u001b[0mself\u001b[0m\u001b[0;34m,\u001b[0m \u001b[0mkey\u001b[0m\u001b[0;34m)\u001b[0m\u001b[0;34m:\u001b[0m\u001b[0;34m\u001b[0m\u001b[0m\n",
      "\u001b[0;32m~/anaconda3/lib/python3.6/site-packages/pandas/core/frame.py\u001b[0m in \u001b[0;36m_getitem_column\u001b[0;34m(self, key)\u001b[0m\n\u001b[1;32m   2690\u001b[0m         \u001b[0;31m# get column\u001b[0m\u001b[0;34m\u001b[0m\u001b[0;34m\u001b[0m\u001b[0m\n\u001b[1;32m   2691\u001b[0m         \u001b[0;32mif\u001b[0m \u001b[0mself\u001b[0m\u001b[0;34m.\u001b[0m\u001b[0mcolumns\u001b[0m\u001b[0;34m.\u001b[0m\u001b[0mis_unique\u001b[0m\u001b[0;34m:\u001b[0m\u001b[0;34m\u001b[0m\u001b[0m\n\u001b[0;32m-> 2692\u001b[0;31m             \u001b[0;32mreturn\u001b[0m \u001b[0mself\u001b[0m\u001b[0;34m.\u001b[0m\u001b[0m_get_item_cache\u001b[0m\u001b[0;34m(\u001b[0m\u001b[0mkey\u001b[0m\u001b[0;34m)\u001b[0m\u001b[0;34m\u001b[0m\u001b[0m\n\u001b[0m\u001b[1;32m   2693\u001b[0m \u001b[0;34m\u001b[0m\u001b[0m\n\u001b[1;32m   2694\u001b[0m         \u001b[0;31m# duplicate columns & possible reduce dimensionality\u001b[0m\u001b[0;34m\u001b[0m\u001b[0;34m\u001b[0m\u001b[0m\n",
      "\u001b[0;32m~/anaconda3/lib/python3.6/site-packages/pandas/core/generic.py\u001b[0m in \u001b[0;36m_get_item_cache\u001b[0;34m(self, item)\u001b[0m\n\u001b[1;32m   2484\u001b[0m         \u001b[0mres\u001b[0m \u001b[0;34m=\u001b[0m \u001b[0mcache\u001b[0m\u001b[0;34m.\u001b[0m\u001b[0mget\u001b[0m\u001b[0;34m(\u001b[0m\u001b[0mitem\u001b[0m\u001b[0;34m)\u001b[0m\u001b[0;34m\u001b[0m\u001b[0m\n\u001b[1;32m   2485\u001b[0m         \u001b[0;32mif\u001b[0m \u001b[0mres\u001b[0m \u001b[0;32mis\u001b[0m \u001b[0;32mNone\u001b[0m\u001b[0;34m:\u001b[0m\u001b[0;34m\u001b[0m\u001b[0m\n\u001b[0;32m-> 2486\u001b[0;31m             \u001b[0mvalues\u001b[0m \u001b[0;34m=\u001b[0m \u001b[0mself\u001b[0m\u001b[0;34m.\u001b[0m\u001b[0m_data\u001b[0m\u001b[0;34m.\u001b[0m\u001b[0mget\u001b[0m\u001b[0;34m(\u001b[0m\u001b[0mitem\u001b[0m\u001b[0;34m)\u001b[0m\u001b[0;34m\u001b[0m\u001b[0m\n\u001b[0m\u001b[1;32m   2487\u001b[0m             \u001b[0mres\u001b[0m \u001b[0;34m=\u001b[0m \u001b[0mself\u001b[0m\u001b[0;34m.\u001b[0m\u001b[0m_box_item_values\u001b[0m\u001b[0;34m(\u001b[0m\u001b[0mitem\u001b[0m\u001b[0;34m,\u001b[0m \u001b[0mvalues\u001b[0m\u001b[0;34m)\u001b[0m\u001b[0;34m\u001b[0m\u001b[0m\n\u001b[1;32m   2488\u001b[0m             \u001b[0mcache\u001b[0m\u001b[0;34m[\u001b[0m\u001b[0mitem\u001b[0m\u001b[0;34m]\u001b[0m \u001b[0;34m=\u001b[0m \u001b[0mres\u001b[0m\u001b[0;34m\u001b[0m\u001b[0m\n",
      "\u001b[0;32m~/anaconda3/lib/python3.6/site-packages/pandas/core/internals.py\u001b[0m in \u001b[0;36mget\u001b[0;34m(self, item, fastpath)\u001b[0m\n\u001b[1;32m   4113\u001b[0m \u001b[0;34m\u001b[0m\u001b[0m\n\u001b[1;32m   4114\u001b[0m             \u001b[0;32mif\u001b[0m \u001b[0;32mnot\u001b[0m \u001b[0misna\u001b[0m\u001b[0;34m(\u001b[0m\u001b[0mitem\u001b[0m\u001b[0;34m)\u001b[0m\u001b[0;34m:\u001b[0m\u001b[0;34m\u001b[0m\u001b[0m\n\u001b[0;32m-> 4115\u001b[0;31m                 \u001b[0mloc\u001b[0m \u001b[0;34m=\u001b[0m \u001b[0mself\u001b[0m\u001b[0;34m.\u001b[0m\u001b[0mitems\u001b[0m\u001b[0;34m.\u001b[0m\u001b[0mget_loc\u001b[0m\u001b[0;34m(\u001b[0m\u001b[0mitem\u001b[0m\u001b[0;34m)\u001b[0m\u001b[0;34m\u001b[0m\u001b[0m\n\u001b[0m\u001b[1;32m   4116\u001b[0m             \u001b[0;32melse\u001b[0m\u001b[0;34m:\u001b[0m\u001b[0;34m\u001b[0m\u001b[0m\n\u001b[1;32m   4117\u001b[0m                 \u001b[0mindexer\u001b[0m \u001b[0;34m=\u001b[0m \u001b[0mnp\u001b[0m\u001b[0;34m.\u001b[0m\u001b[0marange\u001b[0m\u001b[0;34m(\u001b[0m\u001b[0mlen\u001b[0m\u001b[0;34m(\u001b[0m\u001b[0mself\u001b[0m\u001b[0;34m.\u001b[0m\u001b[0mitems\u001b[0m\u001b[0;34m)\u001b[0m\u001b[0;34m)\u001b[0m\u001b[0;34m[\u001b[0m\u001b[0misna\u001b[0m\u001b[0;34m(\u001b[0m\u001b[0mself\u001b[0m\u001b[0;34m.\u001b[0m\u001b[0mitems\u001b[0m\u001b[0;34m)\u001b[0m\u001b[0;34m]\u001b[0m\u001b[0;34m\u001b[0m\u001b[0m\n",
      "\u001b[0;32m~/anaconda3/lib/python3.6/site-packages/pandas/core/indexes/base.py\u001b[0m in \u001b[0;36mget_loc\u001b[0;34m(self, key, method, tolerance)\u001b[0m\n\u001b[1;32m   3063\u001b[0m                 \u001b[0;32mreturn\u001b[0m \u001b[0mself\u001b[0m\u001b[0;34m.\u001b[0m\u001b[0m_engine\u001b[0m\u001b[0;34m.\u001b[0m\u001b[0mget_loc\u001b[0m\u001b[0;34m(\u001b[0m\u001b[0mkey\u001b[0m\u001b[0;34m)\u001b[0m\u001b[0;34m\u001b[0m\u001b[0m\n\u001b[1;32m   3064\u001b[0m             \u001b[0;32mexcept\u001b[0m \u001b[0mKeyError\u001b[0m\u001b[0;34m:\u001b[0m\u001b[0;34m\u001b[0m\u001b[0m\n\u001b[0;32m-> 3065\u001b[0;31m                 \u001b[0;32mreturn\u001b[0m \u001b[0mself\u001b[0m\u001b[0;34m.\u001b[0m\u001b[0m_engine\u001b[0m\u001b[0;34m.\u001b[0m\u001b[0mget_loc\u001b[0m\u001b[0;34m(\u001b[0m\u001b[0mself\u001b[0m\u001b[0;34m.\u001b[0m\u001b[0m_maybe_cast_indexer\u001b[0m\u001b[0;34m(\u001b[0m\u001b[0mkey\u001b[0m\u001b[0;34m)\u001b[0m\u001b[0;34m)\u001b[0m\u001b[0;34m\u001b[0m\u001b[0m\n\u001b[0m\u001b[1;32m   3066\u001b[0m \u001b[0;34m\u001b[0m\u001b[0m\n\u001b[1;32m   3067\u001b[0m         \u001b[0mindexer\u001b[0m \u001b[0;34m=\u001b[0m \u001b[0mself\u001b[0m\u001b[0;34m.\u001b[0m\u001b[0mget_indexer\u001b[0m\u001b[0;34m(\u001b[0m\u001b[0;34m[\u001b[0m\u001b[0mkey\u001b[0m\u001b[0;34m]\u001b[0m\u001b[0;34m,\u001b[0m \u001b[0mmethod\u001b[0m\u001b[0;34m=\u001b[0m\u001b[0mmethod\u001b[0m\u001b[0;34m,\u001b[0m \u001b[0mtolerance\u001b[0m\u001b[0;34m=\u001b[0m\u001b[0mtolerance\u001b[0m\u001b[0;34m)\u001b[0m\u001b[0;34m\u001b[0m\u001b[0m\n",
      "\u001b[0;32mpandas/_libs/index.pyx\u001b[0m in \u001b[0;36mpandas._libs.index.IndexEngine.get_loc\u001b[0;34m()\u001b[0m\n",
      "\u001b[0;32mpandas/_libs/index.pyx\u001b[0m in \u001b[0;36mpandas._libs.index.IndexEngine.get_loc\u001b[0;34m()\u001b[0m\n",
      "\u001b[0;32mpandas/_libs/hashtable_class_helper.pxi\u001b[0m in \u001b[0;36mpandas._libs.hashtable.PyObjectHashTable.get_item\u001b[0;34m()\u001b[0m\n",
      "\u001b[0;32mpandas/_libs/hashtable_class_helper.pxi\u001b[0m in \u001b[0;36mpandas._libs.hashtable.PyObjectHashTable.get_item\u001b[0;34m()\u001b[0m\n",
      "\u001b[0;31mKeyError\u001b[0m: 'fruit'"
     ]
    }
   ],
   "source": [
    "# Make a dataframe with only top five features\n",
    "fruit_name = ['Banana', 'Apple']\n",
    "fruit_list = [fruit_name[int((i+1)/2)] for i in data_df[\"fruit\"].tolist()]\n",
    "col_selected = ranked_columns[0:5]\n",
    "df_5feat = pd.DataFrame.copy(data_df)\n",
    "df_5feat = df_5feat[col_selected]\n",
    "df_5feat['fruit'] = fruit_list\n",
    "df_5feat.head()"
   ]
  },
  {
   "cell_type": "code",
   "execution_count": 40,
   "metadata": {},
   "outputs": [
    {
     "ename": "NameError",
     "evalue": "name 'df_5feat' is not defined",
     "output_type": "error",
     "traceback": [
      "\u001b[0;31m---------------------------------------------------------------------------\u001b[0m",
      "\u001b[0;31mNameError\u001b[0m                                 Traceback (most recent call last)",
      "\u001b[0;32m<ipython-input-40-da494153e993>\u001b[0m in \u001b[0;36m<module>\u001b[0;34m()\u001b[0m\n\u001b[1;32m      1\u001b[0m \u001b[0;31m# Show pairplot\u001b[0m\u001b[0;34m\u001b[0m\u001b[0;34m\u001b[0m\u001b[0m\n\u001b[0;32m----> 2\u001b[0;31m \u001b[0mg\u001b[0m \u001b[0;34m=\u001b[0m \u001b[0msns\u001b[0m\u001b[0;34m.\u001b[0m\u001b[0mpairplot\u001b[0m\u001b[0;34m(\u001b[0m\u001b[0mdf_5feat\u001b[0m\u001b[0;34m,\u001b[0m \u001b[0mhue\u001b[0m\u001b[0;34m=\u001b[0m\u001b[0;34m\"fruit\"\u001b[0m\u001b[0;34m,\u001b[0m \u001b[0mmarkers\u001b[0m\u001b[0;34m=\u001b[0m\u001b[0;34m[\u001b[0m\u001b[0;34m\"o\"\u001b[0m\u001b[0;34m,\u001b[0m \u001b[0;34m\"s\"\u001b[0m\u001b[0;34m]\u001b[0m\u001b[0;34m,\u001b[0m \u001b[0mdiag_kind\u001b[0m\u001b[0;34m=\u001b[0m\u001b[0;34m\"hist\"\u001b[0m\u001b[0;34m)\u001b[0m\u001b[0;34m\u001b[0m\u001b[0m\n\u001b[0m",
      "\u001b[0;31mNameError\u001b[0m: name 'df_5feat' is not defined"
     ]
    }
   ],
   "source": [
    "# Show pairplot\n",
    "g = sns.pairplot(df_5feat, hue=\"fruit\", markers=[\"o\", \"s\"], diag_kind=\"hist\")"
   ]
  },
  {
   "cell_type": "markdown",
   "metadata": {},
   "source": [
    "#### Learning curves\n",
    "We want to eveluate the effect of varying the number of features. To that end, we build learning curves = performance as a function of feature number."
   ]
  },
  {
   "cell_type": "code",
   "execution_count": 41,
   "metadata": {},
   "outputs": [
    {
     "ename": "NameError",
     "evalue": "name 'sklearn_metric' is not defined",
     "output_type": "error",
     "traceback": [
      "\u001b[0;31m---------------------------------------------------------------------------\u001b[0m",
      "\u001b[0;31mNameError\u001b[0m                                 Traceback (most recent call last)",
      "\u001b[0;32m<ipython-input-41-166e5d53bb38>\u001b[0m in \u001b[0;36m<module>\u001b[0;34m()\u001b[0m\n\u001b[1;32m      1\u001b[0m \u001b[0;31m# We use the 3 nearest neighbor classifier to create the learnign curve\u001b[0m\u001b[0;34m\u001b[0m\u001b[0;34m\u001b[0m\u001b[0m\n\u001b[1;32m      2\u001b[0m \u001b[0msklearn_model\u001b[0m \u001b[0;34m=\u001b[0m \u001b[0mKNeighborsClassifier\u001b[0m\u001b[0;34m(\u001b[0m\u001b[0mn_neighbors\u001b[0m\u001b[0;34m=\u001b[0m\u001b[0;36m3\u001b[0m\u001b[0;34m)\u001b[0m\u001b[0;34m\u001b[0m\u001b[0m\n\u001b[0;32m----> 3\u001b[0;31m \u001b[0mfeat_lc_df\u001b[0m \u001b[0;34m=\u001b[0m \u001b[0mfeature_learning_curve\u001b[0m\u001b[0;34m(\u001b[0m\u001b[0mdata_df\u001b[0m\u001b[0;34m,\u001b[0m \u001b[0msklearn_model\u001b[0m\u001b[0;34m,\u001b[0m \u001b[0msklearn_metric\u001b[0m\u001b[0;34m)\u001b[0m\u001b[0;34m\u001b[0m\u001b[0m\n\u001b[0m",
      "\u001b[0;31mNameError\u001b[0m: name 'sklearn_metric' is not defined"
     ]
    }
   ],
   "source": [
    "# We use the 3 nearest neighbor classifier to create the learnign curve\n",
    "sklearn_model = KNeighborsClassifier(n_neighbors=3)\n",
    "feat_lc_df = feature_learning_curve(data_df, sklearn_model, sklearn_metric)"
   ]
  },
  {
   "cell_type": "code",
   "execution_count": 42,
   "metadata": {},
   "outputs": [
    {
     "ename": "NameError",
     "evalue": "name 'feat_lc_df' is not defined",
     "output_type": "error",
     "traceback": [
      "\u001b[0;31m---------------------------------------------------------------------------\u001b[0m",
      "\u001b[0;31mNameError\u001b[0m                                 Traceback (most recent call last)",
      "\u001b[0;32m<ipython-input-42-aae4b4ebc2af>\u001b[0m in \u001b[0;36m<module>\u001b[0;34m()\u001b[0m\n\u001b[1;32m      1\u001b[0m \u001b[0;31m# Plot the learning curve\u001b[0m\u001b[0;34m\u001b[0m\u001b[0;34m\u001b[0m\u001b[0m\n\u001b[0;32m----> 2\u001b[0;31m \u001b[0mplt\u001b[0m\u001b[0;34m.\u001b[0m\u001b[0merrorbar\u001b[0m\u001b[0;34m(\u001b[0m\u001b[0mfeat_lc_df\u001b[0m\u001b[0;34m.\u001b[0m\u001b[0mindex\u001b[0m\u001b[0;34m+\u001b[0m\u001b[0;36m1\u001b[0m\u001b[0;34m,\u001b[0m \u001b[0mfeat_lc_df\u001b[0m\u001b[0;34m[\u001b[0m\u001b[0;34m'perf_tr'\u001b[0m\u001b[0;34m]\u001b[0m\u001b[0;34m,\u001b[0m \u001b[0myerr\u001b[0m\u001b[0;34m=\u001b[0m\u001b[0mfeat_lc_df\u001b[0m\u001b[0;34m[\u001b[0m\u001b[0;34m'std_tr'\u001b[0m\u001b[0;34m]\u001b[0m\u001b[0;34m,\u001b[0m \u001b[0mlabel\u001b[0m\u001b[0;34m=\u001b[0m\u001b[0;34m'Training set'\u001b[0m\u001b[0;34m)\u001b[0m\u001b[0;34m\u001b[0m\u001b[0m\n\u001b[0m\u001b[1;32m      3\u001b[0m \u001b[0mplt\u001b[0m\u001b[0;34m.\u001b[0m\u001b[0merrorbar\u001b[0m\u001b[0;34m(\u001b[0m\u001b[0mfeat_lc_df\u001b[0m\u001b[0;34m.\u001b[0m\u001b[0mindex\u001b[0m\u001b[0;34m+\u001b[0m\u001b[0;36m1\u001b[0m\u001b[0;34m,\u001b[0m \u001b[0mfeat_lc_df\u001b[0m\u001b[0;34m[\u001b[0m\u001b[0;34m'perf_te'\u001b[0m\u001b[0;34m]\u001b[0m\u001b[0;34m,\u001b[0m \u001b[0myerr\u001b[0m\u001b[0;34m=\u001b[0m\u001b[0mfeat_lc_df\u001b[0m\u001b[0;34m[\u001b[0m\u001b[0;34m'std_te'\u001b[0m\u001b[0;34m]\u001b[0m\u001b[0;34m,\u001b[0m \u001b[0mlabel\u001b[0m\u001b[0;34m=\u001b[0m\u001b[0;34m'Test set'\u001b[0m\u001b[0;34m)\u001b[0m\u001b[0;34m\u001b[0m\u001b[0m\n\u001b[1;32m      4\u001b[0m \u001b[0mplt\u001b[0m\u001b[0;34m.\u001b[0m\u001b[0mxticks\u001b[0m\u001b[0;34m(\u001b[0m\u001b[0mnp\u001b[0m\u001b[0;34m.\u001b[0m\u001b[0marange\u001b[0m\u001b[0;34m(\u001b[0m\u001b[0;36m1\u001b[0m\u001b[0;34m,\u001b[0m \u001b[0;36m22\u001b[0m\u001b[0;34m,\u001b[0m \u001b[0;36m1\u001b[0m\u001b[0;34m)\u001b[0m\u001b[0;34m)\u001b[0m\u001b[0;34m\u001b[0m\u001b[0m\n\u001b[1;32m      5\u001b[0m \u001b[0mplt\u001b[0m\u001b[0;34m.\u001b[0m\u001b[0mxlabel\u001b[0m\u001b[0;34m(\u001b[0m\u001b[0;34m'Number of features'\u001b[0m\u001b[0;34m)\u001b[0m\u001b[0;34m\u001b[0m\u001b[0m\n",
      "\u001b[0;31mNameError\u001b[0m: name 'feat_lc_df' is not defined"
     ]
    }
   ],
   "source": [
    "# Plot the learning curve\n",
    "plt.errorbar(feat_lc_df.index+1, feat_lc_df['perf_tr'], yerr=feat_lc_df['std_tr'], label='Training set')\n",
    "plt.errorbar(feat_lc_df.index+1, feat_lc_df['perf_te'], yerr=feat_lc_df['std_te'], label='Test set')\n",
    "plt.xticks(np.arange(1, 22, 1)) \n",
    "plt.xlabel('Number of features')\n",
    "plt.ylabel(sklearn_metric.__name__)\n",
    "plt.legend(loc='lower right')"
   ]
  },
  {
   "cell_type": "markdown",
   "metadata": {},
   "source": [
    "We see the, with 5 features, it is about as good as it gets, given the error bars."
   ]
  },
  {
   "cell_type": "markdown",
   "metadata": {},
   "source": [
    "### Singular Value Decomposition\n",
    "Let us move now to the second way of reducing dimensionality: feature transforms.\n",
    "When we use SVD, the feature transform consists in finding the \"principal directions\"(directions of largest variance). The method is also known as Pricipal Component Analysis (PCA). I simply used my search engine and typed the keywords \"pandas svd\". I found a nice tutorial on <a href=\"https://machinelearningmastery.com/singular-value-decomposition-for-machine-learning/\">this page</a> and a step-by-step procedure on <a href=\"https://cmdlinetips.com/2019/05/singular-value-decomposition-svd-in-python/\">this page</a>. \n",
    "\n",
    "We will guide you step-by-step:\n",
    "* Create a dataframe called `df_scaled` containing the standardized columns, except the last one (tip: just use `drop` to eliminate the last column).\n",
    "* Perform a singular value decomposition of `df_scaled` and call the resulting matrices u, s, v.\n",
    "* Make a scree plot of the eigen values (square of the singular values). Save the plot in file 'svd_scree_plot.png'.\n",
    "* Create a new dataframe `svd_df` with the two singular values as columns and the fruit type as index.\n",
    "* Make pairwise scatter plots of the three first singular values.\n",
    "\n",
    "Then the question to answer will be to compute the performances obtained with the 3 nearest neighbor method using the first 3 singular values."
   ]
  },
  {
   "cell_type": "markdown",
   "metadata": {},
   "source": [
    "<div style=\"background:#FFFFAA\">\n",
    "    Here you need to do something!\n",
    "</div>"
   ]
  },
  {
   "cell_type": "code",
   "execution_count": 43,
   "metadata": {},
   "outputs": [
    {
     "ename": "TypeError",
     "evalue": "unhashable type: 'set'",
     "output_type": "error",
     "traceback": [
      "\u001b[0;31m---------------------------------------------------------------------------\u001b[0m",
      "\u001b[0;31mTypeError\u001b[0m                                 Traceback (most recent call last)",
      "\u001b[0;32m<ipython-input-43-a3babcae8149>\u001b[0m in \u001b[0;36m<module>\u001b[0;34m()\u001b[0m\n\u001b[1;32m      3\u001b[0m \u001b[0;31m# To obtain df_scaled, remove the last column of data_df.\u001b[0m\u001b[0;34m\u001b[0m\u001b[0;34m\u001b[0m\u001b[0m\n\u001b[1;32m      4\u001b[0m \u001b[0;34m\u001b[0m\u001b[0m\n\u001b[0;32m----> 5\u001b[0;31m \u001b[0mdf_scaled\u001b[0m \u001b[0;34m=\u001b[0m \u001b[0mdf_scaled2\u001b[0m\u001b[0;34m[\u001b[0m\u001b[0;34m{\u001b[0m\u001b[0;34m\"redness\"\u001b[0m\u001b[0;34m,\u001b[0m \u001b[0;34m\"elongation\"\u001b[0m\u001b[0;34m}\u001b[0m\u001b[0;34m]\u001b[0m \u001b[0;31m# REPLACE THIS BY THE CORRECT ANSWER\u001b[0m\u001b[0;34m\u001b[0m\u001b[0m\n\u001b[0m\u001b[1;32m      6\u001b[0m \u001b[0;34m\u001b[0m\u001b[0m\n\u001b[1;32m      7\u001b[0m \u001b[0mdf_scaled\u001b[0m\u001b[0;34m.\u001b[0m\u001b[0mhead\u001b[0m\u001b[0;34m(\u001b[0m\u001b[0;34m)\u001b[0m\u001b[0;34m\u001b[0m\u001b[0m\n",
      "\u001b[0;32m~/anaconda3/lib/python3.6/site-packages/pandas/core/frame.py\u001b[0m in \u001b[0;36m__getitem__\u001b[0;34m(self, key)\u001b[0m\n\u001b[1;32m   2683\u001b[0m             \u001b[0;32mreturn\u001b[0m \u001b[0mself\u001b[0m\u001b[0;34m.\u001b[0m\u001b[0m_getitem_multilevel\u001b[0m\u001b[0;34m(\u001b[0m\u001b[0mkey\u001b[0m\u001b[0;34m)\u001b[0m\u001b[0;34m\u001b[0m\u001b[0m\n\u001b[1;32m   2684\u001b[0m         \u001b[0;32melse\u001b[0m\u001b[0;34m:\u001b[0m\u001b[0;34m\u001b[0m\u001b[0m\n\u001b[0;32m-> 2685\u001b[0;31m             \u001b[0;32mreturn\u001b[0m \u001b[0mself\u001b[0m\u001b[0;34m.\u001b[0m\u001b[0m_getitem_column\u001b[0m\u001b[0;34m(\u001b[0m\u001b[0mkey\u001b[0m\u001b[0;34m)\u001b[0m\u001b[0;34m\u001b[0m\u001b[0m\n\u001b[0m\u001b[1;32m   2686\u001b[0m \u001b[0;34m\u001b[0m\u001b[0m\n\u001b[1;32m   2687\u001b[0m     \u001b[0;32mdef\u001b[0m \u001b[0m_getitem_column\u001b[0m\u001b[0;34m(\u001b[0m\u001b[0mself\u001b[0m\u001b[0;34m,\u001b[0m \u001b[0mkey\u001b[0m\u001b[0;34m)\u001b[0m\u001b[0;34m:\u001b[0m\u001b[0;34m\u001b[0m\u001b[0m\n",
      "\u001b[0;32m~/anaconda3/lib/python3.6/site-packages/pandas/core/frame.py\u001b[0m in \u001b[0;36m_getitem_column\u001b[0;34m(self, key)\u001b[0m\n\u001b[1;32m   2690\u001b[0m         \u001b[0;31m# get column\u001b[0m\u001b[0;34m\u001b[0m\u001b[0;34m\u001b[0m\u001b[0m\n\u001b[1;32m   2691\u001b[0m         \u001b[0;32mif\u001b[0m \u001b[0mself\u001b[0m\u001b[0;34m.\u001b[0m\u001b[0mcolumns\u001b[0m\u001b[0;34m.\u001b[0m\u001b[0mis_unique\u001b[0m\u001b[0;34m:\u001b[0m\u001b[0;34m\u001b[0m\u001b[0m\n\u001b[0;32m-> 2692\u001b[0;31m             \u001b[0;32mreturn\u001b[0m \u001b[0mself\u001b[0m\u001b[0;34m.\u001b[0m\u001b[0m_get_item_cache\u001b[0m\u001b[0;34m(\u001b[0m\u001b[0mkey\u001b[0m\u001b[0;34m)\u001b[0m\u001b[0;34m\u001b[0m\u001b[0m\n\u001b[0m\u001b[1;32m   2693\u001b[0m \u001b[0;34m\u001b[0m\u001b[0m\n\u001b[1;32m   2694\u001b[0m         \u001b[0;31m# duplicate columns & possible reduce dimensionality\u001b[0m\u001b[0;34m\u001b[0m\u001b[0;34m\u001b[0m\u001b[0m\n",
      "\u001b[0;32m~/anaconda3/lib/python3.6/site-packages/pandas/core/generic.py\u001b[0m in \u001b[0;36m_get_item_cache\u001b[0;34m(self, item)\u001b[0m\n\u001b[1;32m   2482\u001b[0m         \u001b[0;34m\"\"\"Return the cached item, item represents a label indexer.\"\"\"\u001b[0m\u001b[0;34m\u001b[0m\u001b[0m\n\u001b[1;32m   2483\u001b[0m         \u001b[0mcache\u001b[0m \u001b[0;34m=\u001b[0m \u001b[0mself\u001b[0m\u001b[0;34m.\u001b[0m\u001b[0m_item_cache\u001b[0m\u001b[0;34m\u001b[0m\u001b[0m\n\u001b[0;32m-> 2484\u001b[0;31m         \u001b[0mres\u001b[0m \u001b[0;34m=\u001b[0m \u001b[0mcache\u001b[0m\u001b[0;34m.\u001b[0m\u001b[0mget\u001b[0m\u001b[0;34m(\u001b[0m\u001b[0mitem\u001b[0m\u001b[0;34m)\u001b[0m\u001b[0;34m\u001b[0m\u001b[0m\n\u001b[0m\u001b[1;32m   2485\u001b[0m         \u001b[0;32mif\u001b[0m \u001b[0mres\u001b[0m \u001b[0;32mis\u001b[0m \u001b[0;32mNone\u001b[0m\u001b[0;34m:\u001b[0m\u001b[0;34m\u001b[0m\u001b[0m\n\u001b[1;32m   2486\u001b[0m             \u001b[0mvalues\u001b[0m \u001b[0;34m=\u001b[0m \u001b[0mself\u001b[0m\u001b[0;34m.\u001b[0m\u001b[0m_data\u001b[0m\u001b[0;34m.\u001b[0m\u001b[0mget\u001b[0m\u001b[0;34m(\u001b[0m\u001b[0mitem\u001b[0m\u001b[0;34m)\u001b[0m\u001b[0;34m\u001b[0m\u001b[0m\n",
      "\u001b[0;31mTypeError\u001b[0m: unhashable type: 'set'"
     ]
    }
   ],
   "source": [
    "# Make use the CS scaled dataset (this should be already loaded in data_df,\n",
    "# if you did things correctly in previous questions)\n",
    "# To obtain df_scaled, remove the last column of data_df.\n",
    "\n",
    "df_scaled = df_scaled2[{\"redness\", \"elongation\"}] # REPLACE THIS BY THE CORRECT ANSWER\n",
    "\n",
    "df_scaled.head()"
   ]
  },
  {
   "cell_type": "markdown",
   "metadata": {},
   "source": [
    "#### Perform singular value decomposition"
   ]
  },
  {
   "cell_type": "code",
   "execution_count": 44,
   "metadata": {},
   "outputs": [
    {
     "name": "stdout",
     "output_type": "stream",
     "text": [
      "U (491, 491)\n",
      "S (3,)\n",
      "V (3, 3)\n"
     ]
    }
   ],
   "source": [
    "u, s, v = np.linalg.svd(df_scaled, full_matrices=True)\n",
    "print('U {}'.format(u.shape))\n",
    "print('S {}'.format(s.shape))\n",
    "print('V {}'.format(v.shape))"
   ]
  },
  {
   "cell_type": "markdown",
   "metadata": {},
   "source": [
    "#### Make a scree plot\n",
    "This plot allows us to decide how many components to keep, considering the total variance explained."
   ]
  },
  {
   "cell_type": "code",
   "execution_count": 45,
   "metadata": {},
   "outputs": [
    {
     "data": {
      "image/png": "[encoded data removed]",
      "text/plain": [
       "<Figure size 432x288 with 1 Axes>"
      ]
     },
     "metadata": {},
     "output_type": "display_data"
    }
   ],
   "source": [
    "var_explained = np.round(s**2/np.sum(s**2), decimals=3)\n",
    "sns.barplot(x=list(range(1,len(var_explained)+1)),\n",
    "            y=var_explained, color=\"limegreen\")\n",
    "plt.xlabel('SVs', fontsize=16)\n",
    "plt.ylabel('Percent Variance Explained', fontsize=16)\n",
    "plt.savefig('svd_scree_plot.png',dpi=100)"
   ]
  },
  {
   "cell_type": "markdown",
   "metadata": {},
   "source": [
    "We see that after 3 features there is a big drop in variance. So tentatively, let us keep the top three components."
   ]
  },
  {
   "cell_type": "markdown",
   "metadata": {},
   "source": [
    "#### Pairplot"
   ]
  },
  {
   "cell_type": "code",
   "execution_count": 46,
   "metadata": {},
   "outputs": [
    {
     "data": {
      "text/html": [
       "<div>\n",
       "<style scoped>\n",
       "    .dataframe tbody tr th:only-of-type {\n",
       "        vertical-align: middle;\n",
       "    }\n",
       "\n",
       "    .dataframe tbody tr th {\n",
       "        vertical-align: top;\n",
       "    }\n",
       "\n",
       "    .dataframe thead th {\n",
       "        text-align: right;\n",
       "    }\n",
       "</style>\n",
       "<table border=\"1\" class=\"dataframe\">\n",
       "  <thead>\n",
       "    <tr style=\"text-align: right;\">\n",
       "      <th></th>\n",
       "      <th>SV1</th>\n",
       "      <th>SV2</th>\n",
       "      <th>SV3</th>\n",
       "      <th>fruit</th>\n",
       "    </tr>\n",
       "  </thead>\n",
       "  <tbody>\n",
       "    <tr>\n",
       "      <th>0</th>\n",
       "      <td>-0.033768</td>\n",
       "      <td>0.012311</td>\n",
       "      <td>-0.029262</td>\n",
       "      <td>Apple</td>\n",
       "    </tr>\n",
       "    <tr>\n",
       "      <th>1</th>\n",
       "      <td>0.009263</td>\n",
       "      <td>-0.019070</td>\n",
       "      <td>-0.086711</td>\n",
       "      <td>Apple</td>\n",
       "    </tr>\n",
       "    <tr>\n",
       "      <th>2</th>\n",
       "      <td>0.016000</td>\n",
       "      <td>-0.050821</td>\n",
       "      <td>-0.097659</td>\n",
       "      <td>Apple</td>\n",
       "    </tr>\n",
       "    <tr>\n",
       "      <th>3</th>\n",
       "      <td>-0.037303</td>\n",
       "      <td>0.068574</td>\n",
       "      <td>-0.020634</td>\n",
       "      <td>Apple</td>\n",
       "    </tr>\n",
       "    <tr>\n",
       "      <th>4</th>\n",
       "      <td>-0.033324</td>\n",
       "      <td>0.098262</td>\n",
       "      <td>-0.023574</td>\n",
       "      <td>Apple</td>\n",
       "    </tr>\n",
       "  </tbody>\n",
       "</table>\n",
       "</div>"
      ],
      "text/plain": [
       "        SV1       SV2       SV3  fruit\n",
       "0 -0.033768  0.012311 -0.029262  Apple\n",
       "1  0.009263 -0.019070 -0.086711  Apple\n",
       "2  0.016000 -0.050821 -0.097659  Apple\n",
       "3 -0.037303  0.068574 -0.020634  Apple\n",
       "4 -0.033324  0.098262 -0.023574  Apple"
      ]
     },
     "execution_count": 46,
     "metadata": {},
     "output_type": "execute_result"
    }
   ],
   "source": [
    "# Create a dataframe with only the three first principal components\n",
    "fruit_name = ['Banana', 'Apple']\n",
    "fruit_list = [fruit_name[int((i+1)/2)] for i in df[\"fruit\"].tolist()]\n",
    "fnum=3\n",
    "labels= ['SV'+str(i) for i in range(1,fnum+1)]\n",
    "df_3svd = pd.DataFrame(u[:,0:fnum], columns=labels)\n",
    "df_3svd['fruit'] = fruit_list\n",
    "df_3svd.head()"
   ]
  },
  {
   "cell_type": "markdown",
   "metadata": {},
   "source": [
    "<div style=\"background:#FFFFAA\">\n",
    "    Here you need to do something!\n",
    "</div>"
   ]
  },
  {
   "cell_type": "code",
   "execution_count": 47,
   "metadata": {},
   "outputs": [],
   "source": [
    "# Show the pairplot of svd_df"
   ]
  },
  {
   "cell_type": "markdown",
   "metadata": {},
   "source": [
    "#### Evaluate df_3svd: \n",
    "This piece of code will serve you later to answer question 5!"
   ]
  },
  {
   "cell_type": "code",
   "execution_count": 48,
   "metadata": {},
   "outputs": [
    {
     "ename": "AttributeError",
     "evalue": "'Series' object has no attribute 'to_numpy'",
     "output_type": "error",
     "traceback": [
      "\u001b[0;31m---------------------------------------------------------------------------\u001b[0m",
      "\u001b[0;31mAttributeError\u001b[0m                            Traceback (most recent call last)",
      "\u001b[0;32m<ipython-input-48-9db16c5488dd>\u001b[0m in \u001b[0;36m<module>\u001b[0;34m()\u001b[0m\n\u001b[1;32m      1\u001b[0m \u001b[0;31m# We use the function df_cross_validate that we already used in question 3 to evaluate svd_df\u001b[0m\u001b[0;34m\u001b[0m\u001b[0;34m\u001b[0m\u001b[0m\n\u001b[0;32m----> 2\u001b[0;31m \u001b[0mdf_3svd\u001b[0m\u001b[0;34m[\u001b[0m\u001b[0;34m'fruit'\u001b[0m\u001b[0;34m]\u001b[0m \u001b[0;34m=\u001b[0m \u001b[0mdf\u001b[0m\u001b[0;34m.\u001b[0m\u001b[0miloc\u001b[0m\u001b[0;34m[\u001b[0m\u001b[0;34m:\u001b[0m\u001b[0;34m,\u001b[0m \u001b[0;34m-\u001b[0m\u001b[0;36m1\u001b[0m\u001b[0;34m]\u001b[0m\u001b[0;34m.\u001b[0m\u001b[0mto_numpy\u001b[0m\u001b[0;34m(\u001b[0m\u001b[0;34m)\u001b[0m \u001b[0;31m# We replace the target values by numbers\u001b[0m\u001b[0;34m\u001b[0m\u001b[0m\n\u001b[0m\u001b[1;32m      3\u001b[0m \u001b[0mp_tr\u001b[0m\u001b[0;34m,\u001b[0m \u001b[0ms_tr\u001b[0m\u001b[0;34m,\u001b[0m \u001b[0mp_te\u001b[0m\u001b[0;34m,\u001b[0m \u001b[0ms_te\u001b[0m \u001b[0;34m=\u001b[0m \u001b[0mdf_cross_validate\u001b[0m\u001b[0;34m(\u001b[0m\u001b[0mdf_3svd\u001b[0m\u001b[0;34m,\u001b[0m \u001b[0msklearn_model\u001b[0m\u001b[0;34m,\u001b[0m \u001b[0msklearn_metric\u001b[0m\u001b[0;34m)\u001b[0m\u001b[0;34m\u001b[0m\u001b[0m\n\u001b[1;32m      4\u001b[0m \u001b[0mmetric_name\u001b[0m \u001b[0;34m=\u001b[0m \u001b[0msklearn_metric\u001b[0m\u001b[0;34m.\u001b[0m\u001b[0m__name__\u001b[0m\u001b[0;34m.\u001b[0m\u001b[0mupper\u001b[0m\u001b[0;34m(\u001b[0m\u001b[0;34m)\u001b[0m\u001b[0;34m\u001b[0m\u001b[0m\n\u001b[1;32m      5\u001b[0m \u001b[0mprint\u001b[0m\u001b[0;34m(\u001b[0m\u001b[0;34m\"AVERAGE TRAINING {0:s} +- STD: {1:.2f} +- {2:.2f}\"\u001b[0m\u001b[0;34m.\u001b[0m\u001b[0mformat\u001b[0m\u001b[0;34m(\u001b[0m\u001b[0mmetric_name\u001b[0m\u001b[0;34m,\u001b[0m \u001b[0mp_tr\u001b[0m\u001b[0;34m,\u001b[0m \u001b[0ms_tr\u001b[0m\u001b[0;34m)\u001b[0m\u001b[0;34m)\u001b[0m\u001b[0;34m\u001b[0m\u001b[0m\n",
      "\u001b[0;32m~/anaconda3/lib/python3.6/site-packages/pandas/core/generic.py\u001b[0m in \u001b[0;36m__getattr__\u001b[0;34m(self, name)\u001b[0m\n\u001b[1;32m   4370\u001b[0m             \u001b[0;32mif\u001b[0m \u001b[0mself\u001b[0m\u001b[0;34m.\u001b[0m\u001b[0m_info_axis\u001b[0m\u001b[0;34m.\u001b[0m\u001b[0m_can_hold_identifiers_and_holds_name\u001b[0m\u001b[0;34m(\u001b[0m\u001b[0mname\u001b[0m\u001b[0;34m)\u001b[0m\u001b[0;34m:\u001b[0m\u001b[0;34m\u001b[0m\u001b[0m\n\u001b[1;32m   4371\u001b[0m                 \u001b[0;32mreturn\u001b[0m \u001b[0mself\u001b[0m\u001b[0;34m[\u001b[0m\u001b[0mname\u001b[0m\u001b[0;34m]\u001b[0m\u001b[0;34m\u001b[0m\u001b[0m\n\u001b[0;32m-> 4372\u001b[0;31m             \u001b[0;32mreturn\u001b[0m \u001b[0mobject\u001b[0m\u001b[0;34m.\u001b[0m\u001b[0m__getattribute__\u001b[0m\u001b[0;34m(\u001b[0m\u001b[0mself\u001b[0m\u001b[0;34m,\u001b[0m \u001b[0mname\u001b[0m\u001b[0;34m)\u001b[0m\u001b[0;34m\u001b[0m\u001b[0m\n\u001b[0m\u001b[1;32m   4373\u001b[0m \u001b[0;34m\u001b[0m\u001b[0m\n\u001b[1;32m   4374\u001b[0m     \u001b[0;32mdef\u001b[0m \u001b[0m__setattr__\u001b[0m\u001b[0;34m(\u001b[0m\u001b[0mself\u001b[0m\u001b[0;34m,\u001b[0m \u001b[0mname\u001b[0m\u001b[0;34m,\u001b[0m \u001b[0mvalue\u001b[0m\u001b[0;34m)\u001b[0m\u001b[0;34m:\u001b[0m\u001b[0;34m\u001b[0m\u001b[0m\n",
      "\u001b[0;31mAttributeError\u001b[0m: 'Series' object has no attribute 'to_numpy'"
     ]
    }
   ],
   "source": [
    "# We use the function df_cross_validate that we already used in question 3 to evaluate svd_df\n",
    "df_3svd['fruit'] = df.iloc[:, -1].to_numpy() # We replace the target values by numbers\n",
    "p_tr, s_tr, p_te, s_te = df_cross_validate(df_3svd, sklearn_model, sklearn_metric)\n",
    "metric_name = sklearn_metric.__name__.upper()\n",
    "print(\"AVERAGE TRAINING {0:s} +- STD: {1:.2f} +- {2:.2f}\".format(metric_name, p_tr, s_tr))\n",
    "print(\"AVERAGE TEST {0:s} +- STD: {1:.2f} +- {2:.2f}\".format(metric_name, p_te, s_te))"
   ]
  },
  {
   "cell_type": "markdown",
   "metadata": {},
   "source": [
    "#### SVD learning curve:"
   ]
  },
  {
   "cell_type": "code",
   "execution_count": 49,
   "metadata": {},
   "outputs": [
    {
     "ename": "NameError",
     "evalue": "name 'sklearn_metric' is not defined",
     "output_type": "error",
     "traceback": [
      "\u001b[0;31m---------------------------------------------------------------------------\u001b[0m",
      "\u001b[0;31mNameError\u001b[0m                                 Traceback (most recent call last)",
      "\u001b[0;32m<ipython-input-49-68eca2b4a70c>\u001b[0m in \u001b[0;36m<module>\u001b[0;34m()\u001b[0m\n\u001b[1;32m      1\u001b[0m \u001b[0;31m# We compute the learning curve for the 3-nearest neighbor classifier ...\u001b[0m\u001b[0;34m\u001b[0m\u001b[0;34m\u001b[0m\u001b[0m\n\u001b[1;32m      2\u001b[0m \u001b[0msklearn_model\u001b[0m \u001b[0;34m=\u001b[0m \u001b[0mKNeighborsClassifier\u001b[0m\u001b[0;34m(\u001b[0m\u001b[0mn_neighbors\u001b[0m\u001b[0;34m=\u001b[0m\u001b[0;36m3\u001b[0m\u001b[0;34m)\u001b[0m\u001b[0;34m\u001b[0m\u001b[0m\n\u001b[0;32m----> 3\u001b[0;31m \u001b[0mfeat_lc_df\u001b[0m \u001b[0;34m=\u001b[0m \u001b[0msvd_learning_curve\u001b[0m\u001b[0;34m(\u001b[0m\u001b[0mdata_df\u001b[0m\u001b[0;34m,\u001b[0m \u001b[0msklearn_model\u001b[0m\u001b[0;34m,\u001b[0m \u001b[0msklearn_metric\u001b[0m\u001b[0;34m)\u001b[0m\u001b[0;34m\u001b[0m\u001b[0m\n\u001b[0m\u001b[1;32m      4\u001b[0m \u001b[0;34m\u001b[0m\u001b[0m\n\u001b[1;32m      5\u001b[0m \u001b[0;31m# and we plot the learning curve\u001b[0m\u001b[0;34m\u001b[0m\u001b[0;34m\u001b[0m\u001b[0m\n",
      "\u001b[0;31mNameError\u001b[0m: name 'sklearn_metric' is not defined"
     ]
    }
   ],
   "source": [
    "# We compute the learning curve for the 3-nearest neighbor classifier ...\n",
    "sklearn_model = KNeighborsClassifier(n_neighbors=3)\n",
    "feat_lc_df = svd_learning_curve(data_df, sklearn_model, sklearn_metric)\n",
    "\n",
    "# and we plot the learning curve\n",
    "plt.errorbar(feat_lc_df.index+1, feat_lc_df['perf_tr'], yerr=feat_lc_df['std_tr'], label='Training set')\n",
    "plt.errorbar(feat_lc_df.index+1, feat_lc_df['perf_te'], yerr=feat_lc_df['std_te'], label='Test set')\n",
    "plt.xticks(np.arange(1, 22, 1)) \n",
    "plt.xlabel('Number of principal compoments')\n",
    "plt.ylabel(sklearn_metric.__name__)\n",
    "plt.legend(loc='lower right')"
   ]
  },
  {
   "cell_type": "markdown",
   "metadata": {},
   "source": [
    "#### Comparison of dimensionality reduction methods "
   ]
  },
  {
   "cell_type": "markdown",
   "metadata": {},
   "source": [
    "Even though features 4 and 5 did not seem to explain a lot of additional variance, there seems to be an optimum at 4 or 5 features. Compare the performances of df_5feat and df_5svd (with 5 top components). Is one significantly better then the other?"
   ]
  },
  {
   "cell_type": "markdown",
   "metadata": {},
   "source": [
    "<div style=\"background:#FFFFAA\">\n",
    "    Here you need to do something!\n",
    "</div>"
   ]
  },
  {
   "cell_type": "code",
   "execution_count": 50,
   "metadata": {},
   "outputs": [
    {
     "ename": "AttributeError",
     "evalue": "'Series' object has no attribute 'to_numpy'",
     "output_type": "error",
     "traceback": [
      "\u001b[0;31m---------------------------------------------------------------------------\u001b[0m",
      "\u001b[0;31mAttributeError\u001b[0m                            Traceback (most recent call last)",
      "\u001b[0;32m<ipython-input-50-de95ba15bb6e>\u001b[0m in \u001b[0;36m<module>\u001b[0;34m()\u001b[0m\n\u001b[1;32m      5\u001b[0m \u001b[0mlabels\u001b[0m\u001b[0;34m=\u001b[0m \u001b[0;34m[\u001b[0m\u001b[0;34m'SV'\u001b[0m\u001b[0;34m+\u001b[0m\u001b[0mstr\u001b[0m\u001b[0;34m(\u001b[0m\u001b[0mi\u001b[0m\u001b[0;34m)\u001b[0m \u001b[0;32mfor\u001b[0m \u001b[0mi\u001b[0m \u001b[0;32min\u001b[0m \u001b[0mrange\u001b[0m\u001b[0;34m(\u001b[0m\u001b[0;36m1\u001b[0m\u001b[0;34m,\u001b[0m\u001b[0mfnum\u001b[0m\u001b[0;34m+\u001b[0m\u001b[0;36m1\u001b[0m\u001b[0;34m)\u001b[0m\u001b[0;34m]\u001b[0m\u001b[0;34m\u001b[0m\u001b[0m\n\u001b[1;32m      6\u001b[0m \u001b[0mdf_5svd\u001b[0m \u001b[0;34m=\u001b[0m \u001b[0mpd\u001b[0m\u001b[0;34m.\u001b[0m\u001b[0mDataFrame\u001b[0m\u001b[0;34m(\u001b[0m\u001b[0mu\u001b[0m\u001b[0;34m[\u001b[0m\u001b[0;34m:\u001b[0m\u001b[0;34m,\u001b[0m\u001b[0;36m0\u001b[0m\u001b[0;34m:\u001b[0m\u001b[0mfnum\u001b[0m\u001b[0;34m]\u001b[0m\u001b[0;34m,\u001b[0m \u001b[0mcolumns\u001b[0m\u001b[0;34m=\u001b[0m\u001b[0mlabels\u001b[0m\u001b[0;34m)\u001b[0m\u001b[0;34m\u001b[0m\u001b[0m\n\u001b[0;32m----> 7\u001b[0;31m \u001b[0mdf_5svd\u001b[0m\u001b[0;34m[\u001b[0m\u001b[0;34m'fruit'\u001b[0m\u001b[0;34m]\u001b[0m \u001b[0;34m=\u001b[0m \u001b[0mdf\u001b[0m\u001b[0;34m.\u001b[0m\u001b[0miloc\u001b[0m\u001b[0;34m[\u001b[0m\u001b[0;34m:\u001b[0m\u001b[0;34m,\u001b[0m \u001b[0;34m-\u001b[0m\u001b[0;36m1\u001b[0m\u001b[0;34m]\u001b[0m\u001b[0;34m.\u001b[0m\u001b[0mto_numpy\u001b[0m\u001b[0;34m(\u001b[0m\u001b[0;34m)\u001b[0m \u001b[0;31m# Need numeric values\u001b[0m\u001b[0;34m\u001b[0m\u001b[0m\n\u001b[0m\u001b[1;32m      8\u001b[0m \u001b[0mp_tr_5svd\u001b[0m\u001b[0;34m,\u001b[0m \u001b[0ms_tr_5svd\u001b[0m\u001b[0;34m,\u001b[0m \u001b[0mp_te_5svd\u001b[0m\u001b[0;34m,\u001b[0m \u001b[0ms_te_5svd\u001b[0m \u001b[0;34m=\u001b[0m \u001b[0;36m0\u001b[0m\u001b[0;34m,\u001b[0m\u001b[0;36m0\u001b[0m\u001b[0;34m,\u001b[0m\u001b[0;36m0\u001b[0m\u001b[0;34m,\u001b[0m\u001b[0;36m0\u001b[0m \u001b[0;31m# REPLACE THIS\u001b[0m\u001b[0;34m\u001b[0m\u001b[0m\n\u001b[1;32m      9\u001b[0m \u001b[0mp_tr_5feat\u001b[0m\u001b[0;34m,\u001b[0m \u001b[0ms_tr_5feat\u001b[0m\u001b[0;34m,\u001b[0m \u001b[0mp_te_5feat\u001b[0m\u001b[0;34m,\u001b[0m \u001b[0ms_te_5feat\u001b[0m \u001b[0;34m=\u001b[0m \u001b[0;36m0\u001b[0m\u001b[0;34m,\u001b[0m\u001b[0;36m0\u001b[0m\u001b[0;34m,\u001b[0m\u001b[0;36m0\u001b[0m\u001b[0;34m,\u001b[0m\u001b[0;36m0\u001b[0m \u001b[0;31m# REPLACE THIS\u001b[0m\u001b[0;34m\u001b[0m\u001b[0m\n",
      "\u001b[0;32m~/anaconda3/lib/python3.6/site-packages/pandas/core/generic.py\u001b[0m in \u001b[0;36m__getattr__\u001b[0;34m(self, name)\u001b[0m\n\u001b[1;32m   4370\u001b[0m             \u001b[0;32mif\u001b[0m \u001b[0mself\u001b[0m\u001b[0;34m.\u001b[0m\u001b[0m_info_axis\u001b[0m\u001b[0;34m.\u001b[0m\u001b[0m_can_hold_identifiers_and_holds_name\u001b[0m\u001b[0;34m(\u001b[0m\u001b[0mname\u001b[0m\u001b[0;34m)\u001b[0m\u001b[0;34m:\u001b[0m\u001b[0;34m\u001b[0m\u001b[0m\n\u001b[1;32m   4371\u001b[0m                 \u001b[0;32mreturn\u001b[0m \u001b[0mself\u001b[0m\u001b[0;34m[\u001b[0m\u001b[0mname\u001b[0m\u001b[0;34m]\u001b[0m\u001b[0;34m\u001b[0m\u001b[0m\n\u001b[0;32m-> 4372\u001b[0;31m             \u001b[0;32mreturn\u001b[0m \u001b[0mobject\u001b[0m\u001b[0;34m.\u001b[0m\u001b[0m__getattribute__\u001b[0m\u001b[0;34m(\u001b[0m\u001b[0mself\u001b[0m\u001b[0;34m,\u001b[0m \u001b[0mname\u001b[0m\u001b[0;34m)\u001b[0m\u001b[0;34m\u001b[0m\u001b[0m\n\u001b[0m\u001b[1;32m   4373\u001b[0m \u001b[0;34m\u001b[0m\u001b[0m\n\u001b[1;32m   4374\u001b[0m     \u001b[0;32mdef\u001b[0m \u001b[0m__setattr__\u001b[0m\u001b[0;34m(\u001b[0m\u001b[0mself\u001b[0m\u001b[0;34m,\u001b[0m \u001b[0mname\u001b[0m\u001b[0;34m,\u001b[0m \u001b[0mvalue\u001b[0m\u001b[0;34m)\u001b[0m\u001b[0;34m:\u001b[0m\u001b[0;34m\u001b[0m\u001b[0m\n",
      "\u001b[0;31mAttributeError\u001b[0m: 'Series' object has no attribute 'to_numpy'"
     ]
    }
   ],
   "source": [
    "df_5svd = df_3svd # Replace with the correct dataframe having 5 principal components\n",
    "\n",
    "# Put here the code to compute the performances of df_5feat and df_5svd\n",
    "fnum=5\n",
    "labels= ['SV'+str(i) for i in range(1,fnum+1)]\n",
    "df_5svd = pd.DataFrame(u[:,0:fnum], columns=labels)\n",
    "df_5svd['fruit'] = df.iloc[:, -1].to_numpy() # Need numeric values\n",
    "p_tr_5svd, s_tr_5svd, p_te_5svd, s_te_5svd = 0,0,0,0 # REPLACE THIS\n",
    "p_tr_5feat, s_tr_5feat, p_te_5feat, s_te_5feat = 0,0,0,0 # REPLACE THIS\n",
    "\n",
    "print(\"5FEAT AVERAGE TRAINING {0:s} +- STD: {1:.2f} +- {2:.2f}\".format(metric_name, p_tr_5feat, s_tr_5feat))\n",
    "print(\"5FEAT AVERAGE TEST {0:s} +- STD: {1:.2f} +- {2:.2f}\".format(metric_name, p_te_5feat, s_te_5feat))\n",
    "print(\"5SVD AVERAGE TRAINING {0:s} +- STD: {1:.2f} +- {2:.2f}\".format(metric_name, p_tr_5svd, s_tr_5svd))\n",
    "print(\"5SVD AVERAGE TEST {0:s} +- STD: {1:.2f} +- {2:.2f}\".format(metric_name, p_te_5svd, s_te_5svd))"
   ]
  },
  {
   "cell_type": "code",
   "execution_count": 51,
   "metadata": {},
   "outputs": [
    {
     "ename": "NameError",
     "evalue": "name 'p_te_5feat' is not defined",
     "output_type": "error",
     "traceback": [
      "\u001b[0;31m---------------------------------------------------------------------------\u001b[0m",
      "\u001b[0;31mNameError\u001b[0m                                 Traceback (most recent call last)",
      "\u001b[0;32m<ipython-input-51-296ebf1b3ff2>\u001b[0m in \u001b[0;36m<module>\u001b[0;34m()\u001b[0m\n\u001b[1;32m      4\u001b[0m \u001b[0;31m# This is the checker code, keep it\u001b[0m\u001b[0;34m\u001b[0m\u001b[0;34m\u001b[0m\u001b[0m\n\u001b[1;32m      5\u001b[0m \u001b[0mquestion\u001b[0m \u001b[0;34m=\u001b[0m \u001b[0;36m5\u001b[0m\u001b[0;34m\u001b[0m\u001b[0m\n\u001b[0;32m----> 6\u001b[0;31m \u001b[0manswer\u001b[0m \u001b[0;34m=\u001b[0m \u001b[0;36m0.001\u001b[0m\u001b[0;34m*\u001b[0m\u001b[0;34m(\u001b[0m\u001b[0mp_te_5feat\u001b[0m\u001b[0;34m-\u001b[0m\u001b[0mp_te_5svd\u001b[0m\u001b[0;34m)\u001b[0m\u001b[0;34m/\u001b[0m\u001b[0;34m(\u001b[0m\u001b[0ms_te_5feat\u001b[0m\u001b[0;34m+\u001b[0m\u001b[0ms_te_5svd\u001b[0m\u001b[0;34m)\u001b[0m\u001b[0;34m\u001b[0m\u001b[0m\n\u001b[0m\u001b[1;32m      7\u001b[0m \u001b[0mscore\u001b[0m \u001b[0;34m+=\u001b[0m \u001b[0mcheck\u001b[0m\u001b[0;34m(\u001b[0m\u001b[0manswer\u001b[0m\u001b[0;34m,\u001b[0m \u001b[0mquestion\u001b[0m\u001b[0;34m)\u001b[0m\u001b[0;34m\u001b[0m\u001b[0m\n",
      "\u001b[0;31mNameError\u001b[0m: name 'p_te_5feat' is not defined"
     ]
    }
   ],
   "source": [
    "#Does one method give significantly better results than the other?\n",
    "answer = -1 # One for yes and 0 for no\n",
    "\n",
    "# This is the checker code, keep it\n",
    "question = 5\n",
    "answer = 0.001*(p_te_5feat-p_te_5svd)/(s_te_5feat+s_te_5svd)\n",
    "score += check(answer, question)"
   ]
  },
  {
   "cell_type": "code",
   "execution_count": 52,
   "metadata": {},
   "outputs": [
    {
     "name": "stdout",
     "output_type": "stream",
     "text": [
      "Your final score is 2 / 5, congratulations!\n"
     ]
    }
   ],
   "source": [
    "print('Your final score is %d / 5, congratulations!' % score)"
   ]
  },
  {
   "cell_type": "markdown",
   "metadata": {},
   "source": [
    "<div style=\"background:#FFFFAA\">\n",
    "<span style=\"color:red\">\n",
    "<br>\n",
    "    To finalize your homework:\n",
    "<b>\n",
    "<ul>\n",
    "    <li> Use  Kernel + Restart and Run all.</li>\n",
    "    <li> Save your notebook.</li>\n",
    "    <li> Push your changes to your GitHub repo with:</li>\n",
    "</ul>   \n",
    "</b>\n",
    "<pre>\n",
    "git add .\n",
    "git commit -m 'my homework is done'\n",
    "git push\n",
    "</pre>\n",
    "<br>\n",
    "</span>\n",
    "</div>"
   ]
  },
  {
   "cell_type": "code",
   "execution_count": null,
   "metadata": {},
   "outputs": [],
   "source": []
  }
 ],
 "metadata": {
  "kernelspec": {
   "display_name": "Python 3",
   "language": "python",
   "name": "python3"
  },
  "language_info": {
   "codemirror_mode": {
    "name": "ipython",
    "version": 3
   },
   "file_extension": ".py",
   "mimetype": "text/x-python",
   "name": "python",
   "nbconvert_exporter": "python",
   "pygments_lexer": "ipython3",
   "version": "3.6.5"
  }
 },
 "nbformat": 4,
 "nbformat_minor": 2
}
